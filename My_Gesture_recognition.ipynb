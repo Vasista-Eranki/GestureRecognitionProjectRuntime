{
 "cells": [
  {
   "cell_type": "markdown",
   "id": "fb66f307",
   "metadata": {},
   "source": [
    "# Gesture Recognition Project\n",
    "\n",
    "**To Run on JarvisLabs.ai**"
   ]
  },
  {
   "cell_type": "code",
   "execution_count": 1,
   "id": "0a7aaf7e",
   "metadata": {},
   "outputs": [],
   "source": [
    "import numpy as np\n",
    "import os\n",
    "import matplotlib.pyplot as plt\n",
    "#from scipy.misc import imread, imresize\n",
    "#from imageio import imread #using instead of imread from scipy.misc\n",
    "#from scipy.misc import imresize\n",
    "from skimage.io import imread #using instead of imread from scipy.misc\n",
    "from skimage.transform import resize #use resize instead of imresize\n",
    "import datetime\n",
    "import os\n",
    "import tensorflow as tf\n",
    "import keras\n",
    "from keras.models import Sequential, Model\n",
    "from keras.layers import Dense, Dropout, Flatten, BatchNormalization, Activation, TimeDistributed\n",
    "from keras.layers import Conv3D, MaxPooling3D, Conv2D, MaxPooling2D\n",
    "from keras.regularizers import l2\n",
    "from keras import optimizers\n",
    "from tensorflow.python.keras.utils.data_utils import Sequence\n",
    "from keras.callbacks import ModelCheckpoint, ReduceLROnPlateau"
   ]
  },
  {
   "cell_type": "code",
   "execution_count": 2,
   "id": "1585b084",
   "metadata": {},
   "outputs": [
    {
     "name": "stdout",
     "output_type": "stream",
     "text": [
      "Training data:  /datasets/Project_data/train\n",
      "Validation data:  /datasets/Project_data/val\n"
     ]
    }
   ],
   "source": [
    "BASE_DIRECTORY = '/datasets/Project_data'\n",
    "TRAIN_DIR = '{0}/train'.format(BASE_DIRECTORY)\n",
    "VAL_DIR = '{0}/val'.format(BASE_DIRECTORY)\n",
    "MODEL_SAVE_DIR = 'MODELS'\n",
    "\n",
    "total_frames = 30\n",
    "\n",
    "print('Training data: ', TRAIN_DIR)\n",
    "print('Validation data: ', VAL_DIR)"
   ]
  },
  {
   "cell_type": "code",
   "execution_count": 3,
   "id": "c95fe1da",
   "metadata": {},
   "outputs": [],
   "source": [
    "np.random.seed(30)\n",
    "import random as rn\n",
    "rn.seed(30)\n",
    "from keras import backend as K\n",
    "import tensorflow as tf\n",
    "#tf.set_random_seed(30)\n",
    "tf.random.set_seed(30)"
   ]
  },
  {
   "cell_type": "code",
   "execution_count": 4,
   "id": "d75d9cb3",
   "metadata": {},
   "outputs": [
    {
     "name": "stdout",
     "output_type": "stream",
     "text": [
      "Training data: 663\n",
      "Validation data: 100\n"
     ]
    }
   ],
   "source": [
    "#train_doc = np.random.permutation(open('/notebooks/storage/Final_data/Collated_training/train.csv').readlines())\n",
    "#val_doc = np.random.permutation(open('/notebooks/storage/Final_data/Collated_training/val.csv').readlines())\n",
    "\n",
    "train_doc = np.random.permutation(open('{0}/train.csv'.format(BASE_DIRECTORY)).readlines())\n",
    "val_doc = np.random.permutation(open('{0}/val.csv'.format(BASE_DIRECTORY)).readlines())\n",
    "\n",
    "batch_size = 20 #experiment with the batch size\n",
    "print(\"Training data:\" , len(train_doc))\n",
    "print(\"Validation data:\", len(val_doc))"
   ]
  },
  {
   "cell_type": "code",
   "execution_count": null,
   "id": "cabe6cf7",
   "metadata": {},
   "outputs": [],
   "source": []
  },
  {
   "cell_type": "code",
   "execution_count": 5,
   "id": "faa8cd54",
   "metadata": {},
   "outputs": [
    {
     "name": "stdout",
     "output_type": "stream",
     "text": [
      "['Thumbs up', 'Thumbs down', 'Left swipe', 'Right swipe', 'Stop']\n",
      "5\n"
     ]
    }
   ],
   "source": [
    "classes = ['Thumbs up', 'Thumbs down','Left swipe', 'Right swipe', 'Stop']\n",
    "print(classes)\n",
    "num_classes = len(classes)\n",
    "print(num_classes)"
   ]
  },
  {
   "cell_type": "markdown",
   "id": "22e1e71f",
   "metadata": {},
   "source": [
    "## Generator & Support Functions\r\n",
    "This is one of the most important part of the code. The overall structure of the generator has been given. In the generator, you are going to preprocess the images as you have images of 2 different dimensions as well as create a batch of video frames. You have to experiment with img_idx, y,z and normalization such that you get high accuracy."
   ]
  },
  {
   "cell_type": "markdown",
   "id": "64708505",
   "metadata": {},
   "source": [
    "#### Generator & Support Functions"
   ]
  },
  {
   "cell_type": "code",
   "execution_count": 6,
   "id": "ac98484d",
   "metadata": {},
   "outputs": [],
   "source": [
    "import cv2\n",
    "def process_batch(source_path, folders_list, batch, batch_size, num_frames, img_idx,  height, width, channels = 3): #num_frames=20,\n",
    "    #num_frames = len(img_idx)\n",
    "    batch_data   = np.zeros((batch_size, num_frames, height, width, channels)) # 3 is the number of channels RGB\n",
    "    batch_labels = np.zeros((batch_size, 5)) # batch_labels is the one hot representation of the output           \n",
    "\n",
    "    for folder in range(batch_size): # iterate over the batch_size\n",
    "        imgs = os.listdir(source_path+'/'+ folders_list[folder + (batch*batch_size)].split(';')[0]) # read all the images in the folder\n",
    "        for idx,item in enumerate(img_idx): #  Iterate over the frames/images of a folder to read them in\n",
    "            image = imread(source_path+'/'+ folders_list[folder + (batch*batch_size)].strip().split(';')[0]+'/'+imgs[item]).astype(np.float32)\n",
    "\n",
    "            #crop the images and resize them. Note that the images are of 2 different shape \n",
    "            #and the conv3D will throw error if the inputs in a batch have different shapes\n",
    "            image = resize(image, (height, width), anti_aliasing=True)\n",
    "            \n",
    "            if(channels == 3):\n",
    "                batch_data[folder,idx,:,:,0] = (image[...,0])/255 #normalise and feed in the image\n",
    "                batch_data[folder,idx,:,:,1] = (image[...,1])/255 #normalise and feed in the image\n",
    "                batch_data[folder,idx,:,:,2] = (image[...,2])/255 #normalise and feed in the image\n",
    "            else:\n",
    "                batch_data[folder,idx,:,:,0] =  cv2.cvtColor(image, cv2.COLOR_BGR2GRAY)\n",
    "        batch_labels[folder, int(folders_list[folder + (batch*batch_size)].strip().split(';')[2])] = 1\n",
    "    yield batch_data, batch_labels #you yield the batch_data and the batch_labels, remember what does yield do"
   ]
  },
  {
   "cell_type": "code",
   "execution_count": 7,
   "id": "03db0e17",
   "metadata": {},
   "outputs": [],
   "source": [
    "def gesture_generator(source_path, folder_list, batch_size, num_images = 20, height=120, width=120, channels=3):\n",
    "    img_idx = len(np.round(np.linspace(0,total_frames-1, num_images)).astype(int))\n",
    "    while True:\n",
    "        randomized_folders_list = np.random.permutation(folder_list)\n",
    "        num_batches = len(randomized_folders_list)//batch_size # calculate the number of batches\n",
    "        img_idx = np.round(np.linspace(0,total_frames-1, num_images)).astype(int) #create a list of image numbers you want to use for a particular video\n",
    "\n",
    "        for batch in range(num_batches): # we iterate over the number of batches\n",
    "            for X, y in process_batch(source_path, randomized_folders_list, batch, batch_size, num_images, img_idx, height, width, channels):\n",
    "                yield X, y\n",
    "        \n",
    "        remaining_batch_size = len(folder_list)%batch_size\n",
    "        if(remaining_batch_size):\n",
    "            for X, y in process_batch(source_path, randomized_folders_list, batch, remaining_batch_size, num_images, img_idx, height, width, channels):\n",
    "                yield X, y"
   ]
  },
  {
   "cell_type": "code",
   "execution_count": 8,
   "id": "a13dd838",
   "metadata": {},
   "outputs": [],
   "source": [
    "def visualize_outputs(fit_data, epoch):\n",
    "    acc = fit_data.history['categorical_accuracy']\n",
    "    val_acc = fit_data.history['val_categorical_accuracy']\n",
    "\n",
    "    loss = fit_data.history['loss']\n",
    "    val_loss = fit_data.history['val_loss']\n",
    "\n",
    "    epochs_range = range(epoch)\n",
    "\n",
    "    plt.figure(figsize=(8, 8))\n",
    "    plt.subplot(1, 2, 1)\n",
    "    plt.plot(epochs_range, acc, label='Training Accuracy')\n",
    "    plt.plot(epochs_range, val_acc, label='Validation Accuracy')\n",
    "    plt.legend(loc='lower right')\n",
    "    plt.title('Training and Validation Accuracy')\n",
    "\n",
    "    plt.subplot(1, 2, 2)\n",
    "    plt.plot(epochs_range, loss, label='Training Loss')\n",
    "    plt.plot(epochs_range, val_loss, label='Validation Loss')\n",
    "    plt.legend(loc='upper right')\n",
    "    plt.title('Training and Validation Loss')\n",
    "    plt.show()"
   ]
  },
  {
   "cell_type": "code",
   "execution_count": 9,
   "id": "04cd710d",
   "metadata": {},
   "outputs": [],
   "source": [
    "def model_callbacks(curr_dt_time, save_folder_name):\n",
    "    model_name = 'model_init' + '_' + str(curr_dt_time).replace(' ','').replace(':','_') + '/'\n",
    "    save_file_path = save_folder_name + '/' + model_name + '/'\n",
    "    if not os.path.exists(save_file_path):\n",
    "        os.makedirs(save_file_path, mode=0o666)\n",
    "    filepath = save_file_path + 'model-{epoch:05d}-{loss:.5f}-{categorical_accuracy:.5f}-{val_loss:.5f}-{val_categorical_accuracy:.5f}.h5'\n",
    "    checkpoint = ModelCheckpoint(filepath, monitor='val_loss', verbose=1, save_best_only=True, save_weights_only=False, mode='auto', period=1)\n",
    "\n",
    "    #LR = # write the REducelronplateau code here\n",
    "    #LR = ReduceLROnPlateau(monitor='val_loss', factor=0.1, patience=2, fmin_lr=0.00001, verbose=1)\n",
    "    #return [checkpoint, LR]\n",
    "    return checkpoint"
   ]
  },
  {
   "cell_type": "code",
   "execution_count": 10,
   "id": "c0222b63",
   "metadata": {},
   "outputs": [],
   "source": [
    "def get_steps_info(num_train_sequences, num_val_sequences, batch_size):\n",
    "    if (num_train_sequences%batch_size) == 0:\n",
    "        steps_per_epoch = int(num_train_sequences/batch_size)\n",
    "    else:\n",
    "        steps_per_epoch = (num_train_sequences//batch_size) + 1\n",
    "\n",
    "    if (num_val_sequences%batch_size) == 0:\n",
    "        validation_steps = int(num_val_sequences/batch_size)\n",
    "    else:\n",
    "        validation_steps = (num_val_sequences//batch_size) + 1\n",
    "    return steps_per_epoch, validation_steps"
   ]
  },
  {
   "cell_type": "code",
   "execution_count": null,
   "id": "9700c48e",
   "metadata": {},
   "outputs": [],
   "source": []
  },
  {
   "cell_type": "markdown",
   "id": "7d48d6e1",
   "metadata": {},
   "source": [
    "## Prepare a Model\n",
    "### 1. Create a Conv3D + RNN (GRU)"
   ]
  },
  {
   "cell_type": "markdown",
   "id": "a5207d7c",
   "metadata": {},
   "source": [
    "### Model-01"
   ]
  },
  {
   "cell_type": "code",
   "execution_count": 11,
   "id": "a166e5da",
   "metadata": {},
   "outputs": [],
   "source": [
    "def prepare_conv3d_model(channels=3):\n",
    "    model = Sequential()\n",
    "    model.add(Conv3D(32, (3,3, 3), padding='same', input_shape=(num_images, height, width, channels)))\n",
    "    model.add(Activation('relu'))\n",
    "    model.add(MaxPooling3D(pool_size=(2, 2, 2)))\n",
    "\n",
    "    model.add(Conv3D(64, (3,3,3), padding='same'))\n",
    "    model.add(Activation('relu'))\n",
    "    model.add(BatchNormalization())\n",
    "    model.add(MaxPooling3D(pool_size=(2, 2, 2)))\n",
    "\n",
    "    model.add(Conv3D(64, (3,3,3), padding='same'))\n",
    "    model.add(Activation('relu'))\n",
    "    model.add(MaxPooling3D(pool_size=(2, 2, 2)))\n",
    "\n",
    "    model.add(Flatten())\n",
    "    model.add(Dense(128))\n",
    "    model.add(Activation('relu'))\n",
    "    model.add(Dropout(0.20))\n",
    "\n",
    "    model.add(Dense(num_classes))\n",
    "    model.add(Activation('softmax'))\n",
    "    return model"
   ]
  },
  {
   "cell_type": "code",
   "execution_count": null,
   "id": "359ff38e",
   "metadata": {},
   "outputs": [],
   "source": []
  },
  {
   "cell_type": "code",
   "execution_count": 12,
   "id": "0113fb5d",
   "metadata": {},
   "outputs": [],
   "source": [
    "height = 120 # image width\n",
    "width = 120 # image height\n",
    "\n",
    "num_images = 20\n",
    "batch_size = 20 #experiment with the batch size\n",
    "img_idx = len(np.round(np.linspace(0,total_frames-1,num_images)).astype(int))\n",
    "\n",
    "num_epochs = 15\n",
    "LrPlateau_patience = 2\n",
    "LrPlateau_mode = 'auto'\n",
    "LrPlateau_factor = 0.1\n",
    "LrPlateau_fmin_lr = 0.00001"
   ]
  },
  {
   "cell_type": "code",
   "execution_count": 13,
   "id": "48df6ee2",
   "metadata": {},
   "outputs": [
    {
     "name": "stdout",
     "output_type": "stream",
     "text": [
      "Model: \"sequential\"\n",
      "_________________________________________________________________\n",
      " Layer (type)                Output Shape              Param #   \n",
      "=================================================================\n",
      " conv3d (Conv3D)             (None, 20, 120, 120, 32)  2624      \n",
      "                                                                 \n",
      " activation (Activation)     (None, 20, 120, 120, 32)  0         \n",
      "                                                                 \n",
      " max_pooling3d (MaxPooling3D  (None, 10, 60, 60, 32)   0         \n",
      " )                                                               \n",
      "                                                                 \n",
      " conv3d_1 (Conv3D)           (None, 10, 60, 60, 64)    55360     \n",
      "                                                                 \n",
      " activation_1 (Activation)   (None, 10, 60, 60, 64)    0         \n",
      "                                                                 \n",
      " batch_normalization (BatchN  (None, 10, 60, 60, 64)   256       \n",
      " ormalization)                                                   \n",
      "                                                                 \n",
      " max_pooling3d_1 (MaxPooling  (None, 5, 30, 30, 64)    0         \n",
      " 3D)                                                             \n",
      "                                                                 \n",
      " conv3d_2 (Conv3D)           (None, 5, 30, 30, 64)     110656    \n",
      "                                                                 \n",
      " activation_2 (Activation)   (None, 5, 30, 30, 64)     0         \n",
      "                                                                 \n",
      " max_pooling3d_2 (MaxPooling  (None, 2, 15, 15, 64)    0         \n",
      " 3D)                                                             \n",
      "                                                                 \n",
      " flatten (Flatten)           (None, 28800)             0         \n",
      "                                                                 \n",
      " dense (Dense)               (None, 128)               3686528   \n",
      "                                                                 \n",
      " activation_3 (Activation)   (None, 128)               0         \n",
      "                                                                 \n",
      " dropout (Dropout)           (None, 128)               0         \n",
      "                                                                 \n",
      " dense_1 (Dense)             (None, 5)                 645       \n",
      "                                                                 \n",
      " activation_4 (Activation)   (None, 5)                 0         \n",
      "                                                                 \n",
      "=================================================================\n",
      "Total params: 3,856,069\n",
      "Trainable params: 3,855,941\n",
      "Non-trainable params: 128\n",
      "_________________________________________________________________\n"
     ]
    },
    {
     "name": "stderr",
     "output_type": "stream",
     "text": [
      "2023-10-03 16:35:32.722044: W tensorflow/core/common_runtime/gpu/gpu_bfc_allocator.cc:39] Overriding allow_growth setting because the TF_FORCE_GPU_ALLOW_GROWTH environment variable is set. Original config value was 0.\n",
      "2023-10-03 16:35:32.722108: I tensorflow/core/common_runtime/gpu/gpu_device.cc:1525] Created device /job:localhost/replica:0/task:0/device:GPU:0 with 22851 MB memory:  -> device: 0, name: Quadro RTX 6000, pci bus id: 0000:3d:00.0, compute capability: 7.5\n"
     ]
    }
   ],
   "source": [
    "model_01 = prepare_conv3d_model()\n",
    "optimizer = keras.optimizers.adam_v2.Adam()\n",
    "model_01.compile(optimizer, loss='categorical_crossentropy', metrics=['categorical_accuracy'])\n",
    "model_01.summary()"
   ]
  },
  {
   "cell_type": "code",
   "execution_count": 14,
   "id": "944ba660",
   "metadata": {},
   "outputs": [
    {
     "name": "stdout",
     "output_type": "stream",
     "text": [
      "WARNING:tensorflow:`period` argument is deprecated. Please use `save_freq` to specify the frequency in number of batches seen.\n"
     ]
    }
   ],
   "source": [
    "curr_dt_time = datetime.datetime.now()\n",
    "LR = ReduceLROnPlateau(monitor='val_loss',\n",
    "                       factor=LrPlateau_factor,\n",
    "                       patience=LrPlateau_patience,\n",
    "                       fmin_lr=LrPlateau_fmin_lr, verbose=1)\n",
    "\n",
    "callbacks_list = [model_callbacks(curr_dt_time, MODEL_SAVE_DIR), LR]\n",
    "steps_per_epoch, validation_steps = get_steps_info(len(train_doc), len(val_doc), batch_size)"
   ]
  },
  {
   "cell_type": "code",
   "execution_count": 15,
   "id": "ef72f9c7",
   "metadata": {},
   "outputs": [
    {
     "name": "stdout",
     "output_type": "stream",
     "text": [
      "Epochs 15\n",
      "steps_per_epoch 34\n",
      "validation_steps 5\n"
     ]
    }
   ],
   "source": [
    "print('Epochs', num_epochs)\n",
    "print('steps_per_epoch', steps_per_epoch)\n",
    "print('validation_steps', validation_steps)"
   ]
  },
  {
   "cell_type": "code",
   "execution_count": 16,
   "id": "7312bca7",
   "metadata": {},
   "outputs": [],
   "source": [
    "training_data_gen = gesture_generator(source_path=TRAIN_DIR, folder_list=train_doc, batch_size=batch_size, num_images=20, height=height, width=width)\n",
    "validation_data_gen = gesture_generator(source_path=VAL_DIR, folder_list=val_doc, batch_size=batch_size, num_images=20, height=height, width=width)"
   ]
  },
  {
   "cell_type": "code",
   "execution_count": 17,
   "id": "c1dcff44",
   "metadata": {},
   "outputs": [
    {
     "name": "stdout",
     "output_type": "stream",
     "text": [
      "Epoch 1/15\n"
     ]
    },
    {
     "name": "stderr",
     "output_type": "stream",
     "text": [
      "2023-10-03 16:35:36.805558: I tensorflow/stream_executor/cuda/cuda_dnn.cc:377] Loaded cuDNN version 8302\n"
     ]
    },
    {
     "name": "stdout",
     "output_type": "stream",
     "text": [
      "34/34 [==============================] - ETA: 0s - loss: 3.4053 - categorical_accuracy: 0.2383\n",
      "Epoch 00001: val_loss improved from inf to 1.60907, saving model to MODELS/model_init_2023-10-0316_35_32.830936/model-00001-3.40533-0.23831-1.60907-0.22000.h5\n",
      "34/34 [==============================] - 110s 3s/step - loss: 3.4053 - categorical_accuracy: 0.2383 - val_loss: 1.6091 - val_categorical_accuracy: 0.2200 - lr: 0.0010\n",
      "Epoch 2/15\n",
      "34/34 [==============================] - ETA: 0s - loss: 1.2840 - categorical_accuracy: 0.4811\n",
      "Epoch 00002: val_loss improved from 1.60907 to 1.58417, saving model to MODELS/model_init_2023-10-0316_35_32.830936/model-00002-1.28399-0.48115-1.58417-0.23000.h5\n",
      "34/34 [==============================] - 105s 3s/step - loss: 1.2840 - categorical_accuracy: 0.4811 - val_loss: 1.5842 - val_categorical_accuracy: 0.2300 - lr: 0.0010\n",
      "Epoch 3/15\n",
      "34/34 [==============================] - ETA: 0s - loss: 1.1057 - categorical_accuracy: 0.5505\n",
      "Epoch 00003: val_loss improved from 1.58417 to 1.55680, saving model to MODELS/model_init_2023-10-0316_35_32.830936/model-00003-1.10573-0.55053-1.55680-0.22000.h5\n",
      "34/34 [==============================] - 104s 3s/step - loss: 1.1057 - categorical_accuracy: 0.5505 - val_loss: 1.5568 - val_categorical_accuracy: 0.2200 - lr: 0.0010\n",
      "Epoch 4/15\n",
      "34/34 [==============================] - ETA: 0s - loss: 0.8597 - categorical_accuracy: 0.6591\n",
      "Epoch 00004: val_loss improved from 1.55680 to 1.47086, saving model to MODELS/model_init_2023-10-0316_35_32.830936/model-00004-0.85971-0.65913-1.47086-0.40000.h5\n",
      "34/34 [==============================] - 106s 3s/step - loss: 0.8597 - categorical_accuracy: 0.6591 - val_loss: 1.4709 - val_categorical_accuracy: 0.4000 - lr: 0.0010\n",
      "Epoch 5/15\n",
      "34/34 [==============================] - ETA: 0s - loss: 0.5987 - categorical_accuracy: 0.7496\n",
      "Epoch 00005: val_loss improved from 1.47086 to 1.43561, saving model to MODELS/model_init_2023-10-0316_35_32.830936/model-00005-0.59868-0.74962-1.43561-0.40000.h5\n",
      "34/34 [==============================] - 107s 3s/step - loss: 0.5987 - categorical_accuracy: 0.7496 - val_loss: 1.4356 - val_categorical_accuracy: 0.4000 - lr: 0.0010\n",
      "Epoch 6/15\n",
      "34/34 [==============================] - ETA: 0s - loss: 0.5146 - categorical_accuracy: 0.8009\n",
      "Epoch 00006: val_loss improved from 1.43561 to 1.23247, saving model to MODELS/model_init_2023-10-0316_35_32.830936/model-00006-0.51455-0.80090-1.23247-0.73000.h5\n",
      "34/34 [==============================] - 107s 3s/step - loss: 0.5146 - categorical_accuracy: 0.8009 - val_loss: 1.2325 - val_categorical_accuracy: 0.7300 - lr: 0.0010\n",
      "Epoch 7/15\n",
      "34/34 [==============================] - ETA: 0s - loss: 0.4023 - categorical_accuracy: 0.8341\n",
      "Epoch 00007: val_loss improved from 1.23247 to 1.14019, saving model to MODELS/model_init_2023-10-0316_35_32.830936/model-00007-0.40230-0.83409-1.14019-0.61000.h5\n",
      "34/34 [==============================] - 108s 3s/step - loss: 0.4023 - categorical_accuracy: 0.8341 - val_loss: 1.1402 - val_categorical_accuracy: 0.6100 - lr: 0.0010\n",
      "Epoch 8/15\n",
      "34/34 [==============================] - ETA: 0s - loss: 0.2821 - categorical_accuracy: 0.8884\n",
      "Epoch 00008: val_loss improved from 1.14019 to 0.94773, saving model to MODELS/model_init_2023-10-0316_35_32.830936/model-00008-0.28211-0.88839-0.94773-0.76000.h5\n",
      "34/34 [==============================] - 106s 3s/step - loss: 0.2821 - categorical_accuracy: 0.8884 - val_loss: 0.9477 - val_categorical_accuracy: 0.7600 - lr: 0.0010\n",
      "Epoch 9/15\n",
      "34/34 [==============================] - ETA: 0s - loss: 0.2166 - categorical_accuracy: 0.9155\n",
      "Epoch 00009: val_loss did not improve from 0.94773\n",
      "34/34 [==============================] - 104s 3s/step - loss: 0.2166 - categorical_accuracy: 0.9155 - val_loss: 1.1542 - val_categorical_accuracy: 0.5100 - lr: 0.0010\n",
      "Epoch 10/15\n",
      "34/34 [==============================] - ETA: 0s - loss: 0.2081 - categorical_accuracy: 0.9276\n",
      "Epoch 00010: val_loss improved from 0.94773 to 0.87133, saving model to MODELS/model_init_2023-10-0316_35_32.830936/model-00010-0.20808-0.92760-0.87133-0.72000.h5\n",
      "34/34 [==============================] - 106s 3s/step - loss: 0.2081 - categorical_accuracy: 0.9276 - val_loss: 0.8713 - val_categorical_accuracy: 0.7200 - lr: 0.0010\n",
      "Epoch 11/15\n",
      "34/34 [==============================] - ETA: 0s - loss: 0.1490 - categorical_accuracy: 0.9472\n",
      "Epoch 00011: val_loss improved from 0.87133 to 0.70106, saving model to MODELS/model_init_2023-10-0316_35_32.830936/model-00011-0.14903-0.94721-0.70106-0.74000.h5\n",
      "34/34 [==============================] - 105s 3s/step - loss: 0.1490 - categorical_accuracy: 0.9472 - val_loss: 0.7011 - val_categorical_accuracy: 0.7400 - lr: 0.0010\n",
      "Epoch 12/15\n",
      "34/34 [==============================] - ETA: 0s - loss: 0.1070 - categorical_accuracy: 0.9623\n",
      "Epoch 00012: val_loss improved from 0.70106 to 0.54102, saving model to MODELS/model_init_2023-10-0316_35_32.830936/model-00012-0.10700-0.96229-0.54102-0.83000.h5\n",
      "34/34 [==============================] - 106s 3s/step - loss: 0.1070 - categorical_accuracy: 0.9623 - val_loss: 0.5410 - val_categorical_accuracy: 0.8300 - lr: 0.0010\n",
      "Epoch 13/15\n",
      "34/34 [==============================] - ETA: 0s - loss: 0.1277 - categorical_accuracy: 0.9472\n",
      "Epoch 00013: val_loss did not improve from 0.54102\n",
      "34/34 [==============================] - 105s 3s/step - loss: 0.1277 - categorical_accuracy: 0.9472 - val_loss: 0.6833 - val_categorical_accuracy: 0.7400 - lr: 0.0010\n",
      "Epoch 14/15\n",
      "34/34 [==============================] - ETA: 0s - loss: 0.0969 - categorical_accuracy: 0.9668\n",
      "Epoch 00014: val_loss did not improve from 0.54102\n",
      "\n",
      "Epoch 00014: ReduceLROnPlateau reducing learning rate to 0.00010000000474974513.\n",
      "34/34 [==============================] - 105s 3s/step - loss: 0.0969 - categorical_accuracy: 0.9668 - val_loss: 0.9557 - val_categorical_accuracy: 0.6900 - lr: 0.0010\n",
      "Epoch 15/15\n",
      "34/34 [==============================] - ETA: 0s - loss: 0.0744 - categorical_accuracy: 0.9698\n",
      "Epoch 00015: val_loss did not improve from 0.54102\n",
      "34/34 [==============================] - 105s 3s/step - loss: 0.0744 - categorical_accuracy: 0.9698 - val_loss: 0.7215 - val_categorical_accuracy: 0.7700 - lr: 1.0000e-04\n"
     ]
    }
   ],
   "source": [
    "#fit_generator is deprecated.. using model.fit with generator objects...\n",
    "\n",
    "history_01 = model_01.fit(x=training_data_gen, steps_per_epoch=steps_per_epoch, epochs=num_epochs, verbose=1,\n",
    "                       callbacks=callbacks_list, validation_data=validation_data_gen,\n",
    "                       validation_steps=validation_steps)"
   ]
  },
  {
   "cell_type": "code",
   "execution_count": 18,
   "id": "69c98c9d",
   "metadata": {},
   "outputs": [
    {
     "data": {
      "image/png": "[encoded data removed]",
      "text/plain": [
       "<Figure size 576x576 with 2 Axes>"
      ]
     },
     "metadata": {
      "needs_background": "light"
     },
     "output_type": "display_data"
    }
   ],
   "source": [
    "visualize_outputs(history_01, epoch=num_epochs)"
   ]
  },
  {
   "cell_type": "markdown",
   "id": "2fd10f0c",
   "metadata": {},
   "source": [
    "#### Observations\n",
    "\n",
    "- The model is able to achieve only 98% accuracy. The validation loss is ~90%. \n",
    "- The diff. is not huge. however the loss doesn't get a flatline.. \n",
    "- The model is trained for 15 epochs. We can try to increase the epochs count to check for better accuracy metrics.\n",
    "- The model shows no signs of overfitting as the difference between the train and validation loss is very less.\n",
    "- Total params: 3,856,069\n",
    "Trainable params: 3,855,941\n",
    "Non-trainable params: 128)"
   ]
  },
  {
   "cell_type": "markdown",
   "id": "6a4ec47c",
   "metadata": {},
   "source": [
    "### Model-02:"
   ]
  },
  {
   "cell_type": "markdown",
   "id": "84ff1da4",
   "metadata": {},
   "source": [
    "- Increasig the epochs to 20\n",
    "- Increasing the batch size from 20 -> 30\n",
    "- Adjust the Learning Rate Factor to a smaller value... "
   ]
  },
  {
   "cell_type": "code",
   "execution_count": 19,
   "id": "4143a042",
   "metadata": {},
   "outputs": [],
   "source": [
    "def prepare_conv3d_model_02():\n",
    "    model = Sequential()\n",
    "    model.add(Conv3D(32, (3,3,3), padding='same', input_shape=(num_images, height, width, 3)))\n",
    "    model.add(Activation('relu'))\n",
    "    model.add(MaxPooling3D(pool_size=(2, 2, 2), padding='same'))\n",
    "\n",
    "    model.add(Conv3D(64, (3,3,3), padding='same'))\n",
    "    model.add(Activation('relu'))\n",
    "    model.add(MaxPooling3D(pool_size=(2, 2, 2), padding='same'))\n",
    "\n",
    "    model.add(Conv3D(64, (3,3,3), padding='same'))\n",
    "    model.add(Activation('relu'))\n",
    "    model.add(MaxPooling3D(pool_size=(2, 2, 2), padding='same'))\n",
    "\n",
    "    model.add(Conv3D(128, (3,3,3), padding='same'))\n",
    "    model.add(Activation('relu'))\n",
    "    model.add(MaxPooling3D(pool_size=(3, 3, 3), padding='same'))\n",
    "\n",
    "    model.add(Conv3D(128, (3,3,3), padding='same'))\n",
    "    model.add(Activation('relu'))\n",
    "    model.add(BatchNormalization())\n",
    "    model.add(MaxPooling3D(pool_size=(2, 2, 2), padding='same'))\n",
    "\n",
    "    model.add(Flatten())\n",
    "    model.add(Dense(128))\n",
    "    model.add(Activation('relu'))\n",
    "    model.add(Dropout(0.20))\n",
    "\n",
    "    model.add(Dense(num_classes))\n",
    "    model.add(Activation('softmax'))\n",
    "    return model"
   ]
  },
  {
   "cell_type": "code",
   "execution_count": 20,
   "id": "587192b2",
   "metadata": {},
   "outputs": [],
   "source": [
    "height = 120 # image width\n",
    "width = 120 # image height\n",
    "\n",
    "num_images = 20\n",
    "batch_size = 30 #experiment with the batch size\n",
    "img_idx = len(np.round(np.linspace(0,total_frames-1,num_images)).astype(int))\n",
    "\n",
    "num_epochs = 20\n",
    "\n",
    "LrPlateau_patience = 2\n",
    "LrPlateau_mode = 'auto'\n",
    "LrPlateau_factor = 0.1\n",
    "LrPlateau_fmin_lr = 0.0001\n"
   ]
  },
  {
   "cell_type": "code",
   "execution_count": 21,
   "id": "638de9d1",
   "metadata": {},
   "outputs": [
    {
     "name": "stdout",
     "output_type": "stream",
     "text": [
      "WARNING:tensorflow:`period` argument is deprecated. Please use `save_freq` to specify the frequency in number of batches seen.\n"
     ]
    }
   ],
   "source": [
    "curr_dt_time = datetime.datetime.now()\n",
    "LR = ReduceLROnPlateau(monitor='val_loss',\n",
    "                       factor=LrPlateau_factor,\n",
    "                       patience=LrPlateau_patience,\n",
    "                       fmin_lr=LrPlateau_fmin_lr, verbose=1)\n",
    "\n",
    "callbacks_list = [model_callbacks(curr_dt_time, MODEL_SAVE_DIR), LR]\n",
    "steps_per_epoch, validation_steps = get_steps_info(len(train_doc), len(val_doc), batch_size)"
   ]
  },
  {
   "cell_type": "code",
   "execution_count": 22,
   "id": "a701d6c4",
   "metadata": {},
   "outputs": [
    {
     "name": "stdout",
     "output_type": "stream",
     "text": [
      "Epochs 20\n",
      "steps_per_epoch 23\n",
      "validation_steps 4\n"
     ]
    }
   ],
   "source": [
    "print('Epochs', num_epochs)\n",
    "print('steps_per_epoch', steps_per_epoch)\n",
    "print('validation_steps', validation_steps)"
   ]
  },
  {
   "cell_type": "code",
   "execution_count": 23,
   "id": "fe2bd5f0",
   "metadata": {},
   "outputs": [
    {
     "name": "stdout",
     "output_type": "stream",
     "text": [
      "Model: \"sequential_1\"\n",
      "_________________________________________________________________\n",
      " Layer (type)                Output Shape              Param #   \n",
      "=================================================================\n",
      " conv3d_3 (Conv3D)           (None, 20, 120, 120, 32)  2624      \n",
      "                                                                 \n",
      " activation_5 (Activation)   (None, 20, 120, 120, 32)  0         \n",
      "                                                                 \n",
      " max_pooling3d_3 (MaxPooling  (None, 10, 60, 60, 32)   0         \n",
      " 3D)                                                             \n",
      "                                                                 \n",
      " conv3d_4 (Conv3D)           (None, 10, 60, 60, 64)    55360     \n",
      "                                                                 \n",
      " activation_6 (Activation)   (None, 10, 60, 60, 64)    0         \n",
      "                                                                 \n",
      " max_pooling3d_4 (MaxPooling  (None, 5, 30, 30, 64)    0         \n",
      " 3D)                                                             \n",
      "                                                                 \n",
      " conv3d_5 (Conv3D)           (None, 5, 30, 30, 64)     110656    \n",
      "                                                                 \n",
      " activation_7 (Activation)   (None, 5, 30, 30, 64)     0         \n",
      "                                                                 \n",
      " max_pooling3d_5 (MaxPooling  (None, 3, 15, 15, 64)    0         \n",
      " 3D)                                                             \n",
      "                                                                 \n",
      " conv3d_6 (Conv3D)           (None, 3, 15, 15, 128)    221312    \n",
      "                                                                 \n",
      " activation_8 (Activation)   (None, 3, 15, 15, 128)    0         \n",
      "                                                                 \n",
      " max_pooling3d_6 (MaxPooling  (None, 1, 5, 5, 128)     0         \n",
      " 3D)                                                             \n",
      "                                                                 \n",
      " conv3d_7 (Conv3D)           (None, 1, 5, 5, 128)      442496    \n",
      "                                                                 \n",
      " activation_9 (Activation)   (None, 1, 5, 5, 128)      0         \n",
      "                                                                 \n",
      " batch_normalization_1 (Batc  (None, 1, 5, 5, 128)     512       \n",
      " hNormalization)                                                 \n",
      "                                                                 \n",
      " max_pooling3d_7 (MaxPooling  (None, 1, 3, 3, 128)     0         \n",
      " 3D)                                                             \n",
      "                                                                 \n",
      " flatten_1 (Flatten)         (None, 1152)              0         \n",
      "                                                                 \n",
      " dense_2 (Dense)             (None, 128)               147584    \n",
      "                                                                 \n",
      " activation_10 (Activation)  (None, 128)               0         \n",
      "                                                                 \n",
      " dropout_1 (Dropout)         (None, 128)               0         \n",
      "                                                                 \n",
      " dense_3 (Dense)             (None, 5)                 645       \n",
      "                                                                 \n",
      " activation_11 (Activation)  (None, 5)                 0         \n",
      "                                                                 \n",
      "=================================================================\n",
      "Total params: 981,189\n",
      "Trainable params: 980,933\n",
      "Non-trainable params: 256\n",
      "_________________________________________________________________\n"
     ]
    }
   ],
   "source": [
    "model_02 = prepare_conv3d_model_02()\n",
    "optimizer = optimizers.adam_v2.Adam()\n",
    "model_02.compile(optimizer, loss='categorical_crossentropy', metrics=['categorical_accuracy'])\n",
    "model_02.summary()"
   ]
  },
  {
   "cell_type": "code",
   "execution_count": 24,
   "id": "777c5495",
   "metadata": {},
   "outputs": [],
   "source": [
    "training_data_gen = gesture_generator(TRAIN_DIR, train_doc, batch_size, img_idx, height, width)\n",
    "validation_data_gen = gesture_generator(VAL_DIR, val_doc, batch_size, img_idx, height, width)"
   ]
  },
  {
   "cell_type": "code",
   "execution_count": 25,
   "id": "d2c6d5a6",
   "metadata": {},
   "outputs": [
    {
     "name": "stdout",
     "output_type": "stream",
     "text": [
      "Epoch 1/20\n",
      "23/23 [==============================] - ETA: 0s - loss: 1.5640 - categorical_accuracy: 0.3499\n",
      "Epoch 00001: val_loss improved from inf to 1.72209, saving model to MODELS/model_init_2023-10-0317_02_05.970829/model-00001-1.56404-0.34992-1.72209-0.25000.h5\n",
      "23/23 [==============================] - 107s 5s/step - loss: 1.5640 - categorical_accuracy: 0.3499 - val_loss: 1.7221 - val_categorical_accuracy: 0.2500 - lr: 0.0010\n",
      "Epoch 2/20\n",
      "23/23 [==============================] - ETA: 0s - loss: 1.1859 - categorical_accuracy: 0.4857\n",
      "Epoch 00002: val_loss improved from 1.72209 to 1.50965, saving model to MODELS/model_init_2023-10-0317_02_05.970829/model-00002-1.18589-0.48567-1.50965-0.20000.h5\n",
      "23/23 [==============================] - 106s 5s/step - loss: 1.1859 - categorical_accuracy: 0.4857 - val_loss: 1.5096 - val_categorical_accuracy: 0.2000 - lr: 0.0010\n",
      "Epoch 3/20\n",
      "23/23 [==============================] - ETA: 0s - loss: 1.0969 - categorical_accuracy: 0.5370\n",
      "Epoch 00003: val_loss improved from 1.50965 to 1.50620, saving model to MODELS/model_init_2023-10-0317_02_05.970829/model-00003-1.09691-0.53695-1.50620-0.27000.h5\n",
      "23/23 [==============================] - 108s 5s/step - loss: 1.0969 - categorical_accuracy: 0.5370 - val_loss: 1.5062 - val_categorical_accuracy: 0.2700 - lr: 0.0010\n",
      "Epoch 4/20\n",
      "23/23 [==============================] - ETA: 0s - loss: 1.0902 - categorical_accuracy: 0.5385\n",
      "Epoch 00004: val_loss improved from 1.50620 to 1.24588, saving model to MODELS/model_init_2023-10-0317_02_05.970829/model-00004-1.09017-0.53846-1.24588-0.61000.h5\n",
      "23/23 [==============================] - 104s 5s/step - loss: 1.0902 - categorical_accuracy: 0.5385 - val_loss: 1.2459 - val_categorical_accuracy: 0.6100 - lr: 0.0010\n",
      "Epoch 5/20\n",
      "23/23 [==============================] - ETA: 0s - loss: 0.9888 - categorical_accuracy: 0.5716\n",
      "Epoch 00005: val_loss did not improve from 1.24588\n",
      "23/23 [==============================] - 108s 5s/step - loss: 0.9888 - categorical_accuracy: 0.5716 - val_loss: 1.3408 - val_categorical_accuracy: 0.4800 - lr: 0.0010\n",
      "Epoch 6/20\n",
      "23/23 [==============================] - ETA: 0s - loss: 0.8372 - categorical_accuracy: 0.6697\n",
      "Epoch 00006: val_loss did not improve from 1.24588\n",
      "\n",
      "Epoch 00006: ReduceLROnPlateau reducing learning rate to 0.00010000000474974513.\n",
      "23/23 [==============================] - 105s 5s/step - loss: 0.8372 - categorical_accuracy: 0.6697 - val_loss: 1.3202 - val_categorical_accuracy: 0.3100 - lr: 0.0010\n",
      "Epoch 7/20\n",
      "23/23 [==============================] - ETA: 0s - loss: 0.7294 - categorical_accuracy: 0.7044\n",
      "Epoch 00007: val_loss improved from 1.24588 to 0.97329, saving model to MODELS/model_init_2023-10-0317_02_05.970829/model-00007-0.72936-0.70437-0.97329-0.70000.h5\n",
      "23/23 [==============================] - 107s 5s/step - loss: 0.7294 - categorical_accuracy: 0.7044 - val_loss: 0.9733 - val_categorical_accuracy: 0.7000 - lr: 1.0000e-04\n",
      "Epoch 8/20\n",
      "23/23 [==============================] - ETA: 0s - loss: 0.5782 - categorical_accuracy: 0.7738\n",
      "Epoch 00008: val_loss improved from 0.97329 to 0.94993, saving model to MODELS/model_init_2023-10-0317_02_05.970829/model-00008-0.57824-0.77376-0.94993-0.67000.h5\n",
      "23/23 [==============================] - 104s 5s/step - loss: 0.5782 - categorical_accuracy: 0.7738 - val_loss: 0.9499 - val_categorical_accuracy: 0.6700 - lr: 1.0000e-04\n",
      "Epoch 9/20\n",
      "23/23 [==============================] - ETA: 0s - loss: 0.5328 - categorical_accuracy: 0.7964\n",
      "Epoch 00009: val_loss improved from 0.94993 to 0.82626, saving model to MODELS/model_init_2023-10-0317_02_05.970829/model-00009-0.53281-0.79638-0.82626-0.78000.h5\n",
      "23/23 [==============================] - 109s 5s/step - loss: 0.5328 - categorical_accuracy: 0.7964 - val_loss: 0.8263 - val_categorical_accuracy: 0.7800 - lr: 1.0000e-04\n",
      "Epoch 10/20\n",
      "23/23 [==============================] - ETA: 0s - loss: 0.5316 - categorical_accuracy: 0.8039\n",
      "Epoch 00010: val_loss improved from 0.82626 to 0.82248, saving model to MODELS/model_init_2023-10-0317_02_05.970829/model-00010-0.53157-0.80392-0.82248-0.70000.h5\n",
      "23/23 [==============================] - 106s 5s/step - loss: 0.5316 - categorical_accuracy: 0.8039 - val_loss: 0.8225 - val_categorical_accuracy: 0.7000 - lr: 1.0000e-04\n",
      "Epoch 11/20\n",
      "23/23 [==============================] - ETA: 0s - loss: 0.5232 - categorical_accuracy: 0.8130\n",
      "Epoch 00011: val_loss did not improve from 0.82248\n",
      "23/23 [==============================] - 108s 5s/step - loss: 0.5232 - categorical_accuracy: 0.8130 - val_loss: 0.8302 - val_categorical_accuracy: 0.7300 - lr: 1.0000e-04\n",
      "Epoch 12/20\n",
      "23/23 [==============================] - ETA: 0s - loss: 0.4607 - categorical_accuracy: 0.8326\n",
      "Epoch 00012: val_loss improved from 0.82248 to 0.81268, saving model to MODELS/model_init_2023-10-0317_02_05.970829/model-00012-0.46065-0.83258-0.81268-0.71000.h5\n",
      "23/23 [==============================] - 104s 5s/step - loss: 0.4607 - categorical_accuracy: 0.8326 - val_loss: 0.8127 - val_categorical_accuracy: 0.7100 - lr: 1.0000e-04\n",
      "Epoch 13/20\n",
      "23/23 [==============================] - ETA: 0s - loss: 0.4429 - categorical_accuracy: 0.8250\n",
      "Epoch 00013: val_loss improved from 0.81268 to 0.77638, saving model to MODELS/model_init_2023-10-0317_02_05.970829/model-00013-0.44294-0.82504-0.77638-0.72000.h5\n",
      "23/23 [==============================] - 114s 5s/step - loss: 0.4429 - categorical_accuracy: 0.8250 - val_loss: 0.7764 - val_categorical_accuracy: 0.7200 - lr: 1.0000e-04\n",
      "Epoch 14/20\n",
      "23/23 [==============================] - ETA: 0s - loss: 0.3902 - categorical_accuracy: 0.8612\n",
      "Epoch 00014: val_loss improved from 0.77638 to 0.67231, saving model to MODELS/model_init_2023-10-0317_02_05.970829/model-00014-0.39019-0.86124-0.67231-0.80000.h5\n",
      "23/23 [==============================] - 111s 5s/step - loss: 0.3902 - categorical_accuracy: 0.8612 - val_loss: 0.6723 - val_categorical_accuracy: 0.8000 - lr: 1.0000e-04\n",
      "Epoch 15/20\n",
      "23/23 [==============================] - ETA: 0s - loss: 0.3752 - categorical_accuracy: 0.8748\n",
      "Epoch 00015: val_loss improved from 0.67231 to 0.63274, saving model to MODELS/model_init_2023-10-0317_02_05.970829/model-00015-0.37520-0.87481-0.63274-0.80000.h5\n",
      "23/23 [==============================] - 108s 5s/step - loss: 0.3752 - categorical_accuracy: 0.8748 - val_loss: 0.6327 - val_categorical_accuracy: 0.8000 - lr: 1.0000e-04\n",
      "Epoch 16/20\n",
      "23/23 [==============================] - ETA: 0s - loss: 0.3335 - categorical_accuracy: 0.8824\n",
      "Epoch 00016: val_loss did not improve from 0.63274\n",
      "23/23 [==============================] - 103s 5s/step - loss: 0.3335 - categorical_accuracy: 0.8824 - val_loss: 0.6599 - val_categorical_accuracy: 0.7500 - lr: 1.0000e-04\n",
      "Epoch 17/20\n",
      "23/23 [==============================] - ETA: 0s - loss: 0.3002 - categorical_accuracy: 0.9080\n",
      "Epoch 00017: val_loss improved from 0.63274 to 0.54913, saving model to MODELS/model_init_2023-10-0317_02_05.970829/model-00017-0.30018-0.90799-0.54913-0.84000.h5\n",
      "23/23 [==============================] - 112s 5s/step - loss: 0.3002 - categorical_accuracy: 0.9080 - val_loss: 0.5491 - val_categorical_accuracy: 0.8400 - lr: 1.0000e-04\n",
      "Epoch 18/20\n",
      "23/23 [==============================] - ETA: 0s - loss: 0.2955 - categorical_accuracy: 0.8899\n",
      "Epoch 00018: val_loss did not improve from 0.54913\n",
      "23/23 [==============================] - 110s 5s/step - loss: 0.2955 - categorical_accuracy: 0.8899 - val_loss: 0.7057 - val_categorical_accuracy: 0.7300 - lr: 1.0000e-04\n",
      "Epoch 19/20\n",
      "23/23 [==============================] - ETA: 0s - loss: 0.2521 - categorical_accuracy: 0.9140\n",
      "Epoch 00019: val_loss improved from 0.54913 to 0.50376, saving model to MODELS/model_init_2023-10-0317_02_05.970829/model-00019-0.25206-0.91403-0.50376-0.84000.h5\n",
      "23/23 [==============================] - 108s 5s/step - loss: 0.2521 - categorical_accuracy: 0.9140 - val_loss: 0.5038 - val_categorical_accuracy: 0.8400 - lr: 1.0000e-04\n",
      "Epoch 20/20\n",
      "23/23 [==============================] - ETA: 0s - loss: 0.2197 - categorical_accuracy: 0.9231\n",
      "Epoch 00020: val_loss improved from 0.50376 to 0.47594, saving model to MODELS/model_init_2023-10-0317_02_05.970829/model-00020-0.21975-0.92308-0.47594-0.86000.h5\n",
      "23/23 [==============================] - 106s 5s/step - loss: 0.2197 - categorical_accuracy: 0.9231 - val_loss: 0.4759 - val_categorical_accuracy: 0.8600 - lr: 1.0000e-04\n"
     ]
    }
   ],
   "source": [
    "#fit_generator is deprecated.. using model.fit with generator objects...\n",
    "\n",
    "history_02 = model_02.fit(x=training_data_gen, steps_per_epoch=steps_per_epoch, epochs=num_epochs, verbose=1,\n",
    "                       callbacks=callbacks_list, validation_data=validation_data_gen,\n",
    "                       validation_steps=validation_steps)"
   ]
  },
  {
   "cell_type": "code",
   "execution_count": 26,
   "id": "39d6a905",
   "metadata": {},
   "outputs": [
    {
     "data": {
      "image/png": "[encoded data removed]",
      "text/plain": [
       "<Figure size 576x576 with 2 Axes>"
      ]
     },
     "metadata": {
      "needs_background": "light"
     },
     "output_type": "display_data"
    }
   ],
   "source": [
    "visualize_outputs(history_02, epoch=num_epochs)"
   ]
  },
  {
   "cell_type": "markdown",
   "id": "9077fea8",
   "metadata": {},
   "source": [
    "### Observations\n",
    "\n",
    "- The Loss graph is not stablized and also the there is no improvement in the accuracy. \n",
    "- Total params: 981,189 Trainable params: 980,933 Non-trainable params: 256"
   ]
  },
  {
   "cell_type": "markdown",
   "id": "20dd7c3b",
   "metadata": {},
   "source": [
    "### MODEL-03\n",
    "\n",
    "- Experiment with increasing the Dense layers.\n",
    "- Adjust Learning Rate Plateau factor."
   ]
  },
  {
   "cell_type": "code",
   "execution_count": null,
   "id": "5e92f6d1",
   "metadata": {},
   "outputs": [],
   "source": []
  },
  {
   "cell_type": "code",
   "execution_count": 27,
   "id": "931b0920",
   "metadata": {},
   "outputs": [],
   "source": [
    "def prepare_conv3d_model_03():\n",
    "    model = Sequential()\n",
    "    model.add(Conv3D(32, (3,3,3), padding='same', input_shape=(num_images, height, width, 3)))\n",
    "    model.add(Activation('relu'))\n",
    "    model.add(MaxPooling3D(pool_size=(2, 2, 2), padding='same'))\n",
    "\n",
    "    model.add(Conv3D(64, (3,3,3), padding='same'))\n",
    "    model.add(Activation('relu'))\n",
    "    model.add(MaxPooling3D(pool_size=(2, 2, 2), padding='same'))\n",
    "\n",
    "    model.add(Conv3D(64, (3,3,3), padding='same'))\n",
    "    model.add(Activation('relu'))\n",
    "    model.add(MaxPooling3D(pool_size=(2, 2, 2), padding='same'))\n",
    "\n",
    "    model.add(Conv3D(128, (3,3,3), padding='same'))\n",
    "    model.add(Activation('relu'))\n",
    "    model.add(MaxPooling3D(pool_size=(3, 3, 3), padding='same'))\n",
    "\n",
    "    model.add(Conv3D(128, (3,3,3), padding='same'))\n",
    "    model.add(Activation('relu'))\n",
    "    model.add(MaxPooling3D(pool_size=(2, 2, 2), padding='same'))\n",
    "\n",
    "    model.add(Flatten())\n",
    "    model.add(Dense(256))\n",
    "    model.add(Dense(128))\n",
    "    model.add(Dense(64))\n",
    "    model.add(Activation('relu'))\n",
    "    model.add(Dropout(0.20))\n",
    "\n",
    "    model.add(Dense(num_classes))\n",
    "    model.add(Activation('softmax'))\n",
    "    return model"
   ]
  },
  {
   "cell_type": "code",
   "execution_count": null,
   "id": "396256d0",
   "metadata": {},
   "outputs": [],
   "source": []
  },
  {
   "cell_type": "code",
   "execution_count": 28,
   "id": "d458c9df",
   "metadata": {},
   "outputs": [],
   "source": [
    "height = 120 # image width\n",
    "width = 120 # image height\n",
    "\n",
    "batch_size = 20 #experiment with the batch size\n",
    "img_idx = len(np.round(np.linspace(0,total_frames-1,num_images)).astype(int))\n",
    "num_epochs = 20\n",
    "\n",
    "LrPlateau_patience = 2\n",
    "LrPlateau_mode = 'auto'\n",
    "LrPlateau_factor = 0.1\n",
    "LrPlateau_fmin_lr = 0.0001\n"
   ]
  },
  {
   "cell_type": "code",
   "execution_count": 29,
   "id": "792d82c4",
   "metadata": {},
   "outputs": [
    {
     "name": "stdout",
     "output_type": "stream",
     "text": [
      "WARNING:tensorflow:`period` argument is deprecated. Please use `save_freq` to specify the frequency in number of batches seen.\n"
     ]
    }
   ],
   "source": [
    "curr_dt_time = datetime.datetime.now()\n",
    "LR = ReduceLROnPlateau(monitor='val_loss',\n",
    "                       factor=LrPlateau_factor,\n",
    "                       patience=LrPlateau_patience,\n",
    "                       fmin_lr=LrPlateau_fmin_lr, verbose=1)\n",
    "\n",
    "callbacks_list = [model_callbacks(curr_dt_time, MODEL_SAVE_DIR), LR]\n",
    "steps_per_epoch, validation_steps = get_steps_info(len(train_doc), len(val_doc), batch_size)"
   ]
  },
  {
   "cell_type": "code",
   "execution_count": 30,
   "id": "19cc8dca",
   "metadata": {},
   "outputs": [
    {
     "name": "stdout",
     "output_type": "stream",
     "text": [
      "Epochs 20\n",
      "steps_per_epoch 34\n",
      "validation_steps 5\n"
     ]
    }
   ],
   "source": [
    "print('Epochs', num_epochs)\n",
    "print('steps_per_epoch', steps_per_epoch)\n",
    "print('validation_steps', validation_steps)"
   ]
  },
  {
   "cell_type": "code",
   "execution_count": 31,
   "id": "ec7b4abd",
   "metadata": {},
   "outputs": [
    {
     "name": "stdout",
     "output_type": "stream",
     "text": [
      "Model: \"sequential_2\"\n",
      "_________________________________________________________________\n",
      " Layer (type)                Output Shape              Param #   \n",
      "=================================================================\n",
      " conv3d_8 (Conv3D)           (None, 20, 120, 120, 32)  2624      \n",
      "                                                                 \n",
      " activation_12 (Activation)  (None, 20, 120, 120, 32)  0         \n",
      "                                                                 \n",
      " max_pooling3d_8 (MaxPooling  (None, 10, 60, 60, 32)   0         \n",
      " 3D)                                                             \n",
      "                                                                 \n",
      " conv3d_9 (Conv3D)           (None, 10, 60, 60, 64)    55360     \n",
      "                                                                 \n",
      " activation_13 (Activation)  (None, 10, 60, 60, 64)    0         \n",
      "                                                                 \n",
      " max_pooling3d_9 (MaxPooling  (None, 5, 30, 30, 64)    0         \n",
      " 3D)                                                             \n",
      "                                                                 \n",
      " conv3d_10 (Conv3D)          (None, 5, 30, 30, 64)     110656    \n",
      "                                                                 \n",
      " activation_14 (Activation)  (None, 5, 30, 30, 64)     0         \n",
      "                                                                 \n",
      " max_pooling3d_10 (MaxPoolin  (None, 3, 15, 15, 64)    0         \n",
      " g3D)                                                            \n",
      "                                                                 \n",
      " conv3d_11 (Conv3D)          (None, 3, 15, 15, 128)    221312    \n",
      "                                                                 \n",
      " activation_15 (Activation)  (None, 3, 15, 15, 128)    0         \n",
      "                                                                 \n",
      " max_pooling3d_11 (MaxPoolin  (None, 1, 5, 5, 128)     0         \n",
      " g3D)                                                            \n",
      "                                                                 \n",
      " conv3d_12 (Conv3D)          (None, 1, 5, 5, 128)      442496    \n",
      "                                                                 \n",
      " activation_16 (Activation)  (None, 1, 5, 5, 128)      0         \n",
      "                                                                 \n",
      " max_pooling3d_12 (MaxPoolin  (None, 1, 3, 3, 128)     0         \n",
      " g3D)                                                            \n",
      "                                                                 \n",
      " flatten_2 (Flatten)         (None, 1152)              0         \n",
      "                                                                 \n",
      " dense_4 (Dense)             (None, 256)               295168    \n",
      "                                                                 \n",
      " dense_5 (Dense)             (None, 128)               32896     \n",
      "                                                                 \n",
      " dense_6 (Dense)             (None, 64)                8256      \n",
      "                                                                 \n",
      " activation_17 (Activation)  (None, 64)                0         \n",
      "                                                                 \n",
      " dropout_2 (Dropout)         (None, 64)                0         \n",
      "                                                                 \n",
      " dense_7 (Dense)             (None, 5)                 325       \n",
      "                                                                 \n",
      " activation_18 (Activation)  (None, 5)                 0         \n",
      "                                                                 \n",
      "=================================================================\n",
      "Total params: 1,169,093\n",
      "Trainable params: 1,169,093\n",
      "Non-trainable params: 0\n",
      "_________________________________________________________________\n"
     ]
    }
   ],
   "source": [
    "model_03 = prepare_conv3d_model_03()\n",
    "optimizer = optimizers.adam_v2.Adam()\n",
    "model_03.compile(optimizer, loss='categorical_crossentropy', metrics=['categorical_accuracy'])\n",
    "model_03.summary()"
   ]
  },
  {
   "cell_type": "code",
   "execution_count": 32,
   "id": "829d73d8",
   "metadata": {},
   "outputs": [],
   "source": [
    "training_data_gen = gesture_generator(TRAIN_DIR, train_doc, batch_size, img_idx, height, width)\n",
    "validation_data_gen = gesture_generator(VAL_DIR, val_doc, batch_size, img_idx, height, width)"
   ]
  },
  {
   "cell_type": "code",
   "execution_count": 33,
   "id": "dd0b9ce3",
   "metadata": {},
   "outputs": [
    {
     "name": "stdout",
     "output_type": "stream",
     "text": [
      "Epoch 1/20\n",
      "34/34 [==============================] - ETA: 0s - loss: 1.6067 - categorical_accuracy: 0.1946\n",
      "Epoch 00001: val_loss improved from inf to 1.45644, saving model to MODELS/model_init_2023-10-0317_37_58.704340/model-00001-1.60673-0.19457-1.45644-0.23000.h5\n",
      "34/34 [==============================] - 108s 3s/step - loss: 1.6067 - categorical_accuracy: 0.1946 - val_loss: 1.4564 - val_categorical_accuracy: 0.2300 - lr: 0.0010\n",
      "Epoch 2/20\n",
      "34/34 [==============================] - ETA: 0s - loss: 1.4799 - categorical_accuracy: 0.3273\n",
      "Epoch 00002: val_loss improved from 1.45644 to 1.19565, saving model to MODELS/model_init_2023-10-0317_37_58.704340/model-00002-1.47991-0.32730-1.19565-0.47000.h5\n",
      "34/34 [==============================] - 109s 3s/step - loss: 1.4799 - categorical_accuracy: 0.3273 - val_loss: 1.1957 - val_categorical_accuracy: 0.4700 - lr: 0.0010\n",
      "Epoch 3/20\n",
      "34/34 [==============================] - ETA: 0s - loss: 1.3235 - categorical_accuracy: 0.3529\n",
      "Epoch 00003: val_loss improved from 1.19565 to 1.07568, saving model to MODELS/model_init_2023-10-0317_37_58.704340/model-00003-1.32351-0.35294-1.07568-0.56000.h5\n",
      "34/34 [==============================] - 106s 3s/step - loss: 1.3235 - categorical_accuracy: 0.3529 - val_loss: 1.0757 - val_categorical_accuracy: 0.5600 - lr: 0.0010\n",
      "Epoch 4/20\n",
      "34/34 [==============================] - ETA: 0s - loss: 1.1482 - categorical_accuracy: 0.4555\n",
      "Epoch 00004: val_loss improved from 1.07568 to 1.04887, saving model to MODELS/model_init_2023-10-0317_37_58.704340/model-00004-1.14818-0.45551-1.04887-0.49000.h5\n",
      "34/34 [==============================] - 108s 3s/step - loss: 1.1482 - categorical_accuracy: 0.4555 - val_loss: 1.0489 - val_categorical_accuracy: 0.4900 - lr: 0.0010\n",
      "Epoch 5/20\n",
      "34/34 [==============================] - ETA: 0s - loss: 0.9353 - categorical_accuracy: 0.5732\n",
      "Epoch 00005: val_loss improved from 1.04887 to 0.97159, saving model to MODELS/model_init_2023-10-0317_37_58.704340/model-00005-0.93531-0.57315-0.97159-0.50000.h5\n",
      "34/34 [==============================] - 107s 3s/step - loss: 0.9353 - categorical_accuracy: 0.5732 - val_loss: 0.9716 - val_categorical_accuracy: 0.5000 - lr: 0.0010\n",
      "Epoch 6/20\n",
      "34/34 [==============================] - ETA: 0s - loss: 0.7732 - categorical_accuracy: 0.6380\n",
      "Epoch 00006: val_loss improved from 0.97159 to 0.65987, saving model to MODELS/model_init_2023-10-0317_37_58.704340/model-00006-0.77317-0.63801-0.65987-0.68000.h5\n",
      "34/34 [==============================] - 107s 3s/step - loss: 0.7732 - categorical_accuracy: 0.6380 - val_loss: 0.6599 - val_categorical_accuracy: 0.6800 - lr: 0.0010\n",
      "Epoch 7/20\n",
      "34/34 [==============================] - ETA: 0s - loss: 0.6596 - categorical_accuracy: 0.7089\n",
      "Epoch 00007: val_loss improved from 0.65987 to 0.64721, saving model to MODELS/model_init_2023-10-0317_37_58.704340/model-00007-0.65960-0.70890-0.64721-0.73000.h5\n",
      "34/34 [==============================] - 109s 3s/step - loss: 0.6596 - categorical_accuracy: 0.7089 - val_loss: 0.6472 - val_categorical_accuracy: 0.7300 - lr: 0.0010\n",
      "Epoch 8/20\n",
      "34/34 [==============================] - ETA: 0s - loss: 0.6299 - categorical_accuracy: 0.7225\n",
      "Epoch 00008: val_loss improved from 0.64721 to 0.59638, saving model to MODELS/model_init_2023-10-0317_37_58.704340/model-00008-0.62994-0.72247-0.59638-0.69000.h5\n",
      "34/34 [==============================] - 117s 4s/step - loss: 0.6299 - categorical_accuracy: 0.7225 - val_loss: 0.5964 - val_categorical_accuracy: 0.6900 - lr: 0.0010\n",
      "Epoch 9/20\n",
      "34/34 [==============================] - ETA: 0s - loss: 0.5427 - categorical_accuracy: 0.7722\n",
      "Epoch 00009: val_loss improved from 0.59638 to 0.43627, saving model to MODELS/model_init_2023-10-0317_37_58.704340/model-00009-0.54274-0.77225-0.43627-0.84000.h5\n",
      "34/34 [==============================] - 110s 3s/step - loss: 0.5427 - categorical_accuracy: 0.7722 - val_loss: 0.4363 - val_categorical_accuracy: 0.8400 - lr: 0.0010\n",
      "Epoch 10/20\n",
      "34/34 [==============================] - ETA: 0s - loss: 0.4501 - categorical_accuracy: 0.8175\n",
      "Epoch 00010: val_loss did not improve from 0.43627\n",
      "34/34 [==============================] - 106s 3s/step - loss: 0.4501 - categorical_accuracy: 0.8175 - val_loss: 0.5873 - val_categorical_accuracy: 0.8500 - lr: 0.0010\n",
      "Epoch 11/20\n",
      "34/34 [==============================] - ETA: 0s - loss: 0.4169 - categorical_accuracy: 0.8326\n",
      "Epoch 00011: val_loss improved from 0.43627 to 0.39636, saving model to MODELS/model_init_2023-10-0317_37_58.704340/model-00011-0.41691-0.83258-0.39636-0.87000.h5\n",
      "34/34 [==============================] - 108s 3s/step - loss: 0.4169 - categorical_accuracy: 0.8326 - val_loss: 0.3964 - val_categorical_accuracy: 0.8700 - lr: 0.0010\n",
      "Epoch 12/20\n",
      "34/34 [==============================] - ETA: 0s - loss: 0.2358 - categorical_accuracy: 0.9186\n",
      "Epoch 00012: val_loss improved from 0.39636 to 0.37145, saving model to MODELS/model_init_2023-10-0317_37_58.704340/model-00012-0.23580-0.91855-0.37145-0.85000.h5\n",
      "34/34 [==============================] - 109s 3s/step - loss: 0.2358 - categorical_accuracy: 0.9186 - val_loss: 0.3715 - val_categorical_accuracy: 0.8500 - lr: 0.0010\n",
      "Epoch 13/20\n",
      "34/34 [==============================] - ETA: 0s - loss: 0.1679 - categorical_accuracy: 0.9427\n",
      "Epoch 00013: val_loss did not improve from 0.37145\n",
      "34/34 [==============================] - 109s 3s/step - loss: 0.1679 - categorical_accuracy: 0.9427 - val_loss: 0.4688 - val_categorical_accuracy: 0.8300 - lr: 0.0010\n",
      "Epoch 14/20\n",
      "34/34 [==============================] - ETA: 0s - loss: 0.1153 - categorical_accuracy: 0.9683\n",
      "Epoch 00014: val_loss did not improve from 0.37145\n",
      "\n",
      "Epoch 00014: ReduceLROnPlateau reducing learning rate to 0.00010000000474974513.\n",
      "34/34 [==============================] - 109s 3s/step - loss: 0.1153 - categorical_accuracy: 0.9683 - val_loss: 0.5677 - val_categorical_accuracy: 0.8200 - lr: 0.0010\n",
      "Epoch 15/20\n",
      "34/34 [==============================] - ETA: 0s - loss: 0.0387 - categorical_accuracy: 0.9879\n",
      "Epoch 00015: val_loss did not improve from 0.37145\n",
      "34/34 [==============================] - 106s 3s/step - loss: 0.0387 - categorical_accuracy: 0.9879 - val_loss: 0.3781 - val_categorical_accuracy: 0.8900 - lr: 1.0000e-04\n",
      "Epoch 16/20\n",
      "34/34 [==============================] - ETA: 0s - loss: 0.0242 - categorical_accuracy: 0.9925\n",
      "Epoch 00016: val_loss did not improve from 0.37145\n",
      "\n",
      "Epoch 00016: ReduceLROnPlateau reducing learning rate to 1.0000000474974514e-05.\n",
      "34/34 [==============================] - 107s 3s/step - loss: 0.0242 - categorical_accuracy: 0.9925 - val_loss: 0.3830 - val_categorical_accuracy: 0.8800 - lr: 1.0000e-04\n",
      "Epoch 17/20\n",
      "34/34 [==============================] - ETA: 0s - loss: 0.0168 - categorical_accuracy: 1.0000\n",
      "Epoch 00017: val_loss did not improve from 0.37145\n",
      "34/34 [==============================] - 107s 3s/step - loss: 0.0168 - categorical_accuracy: 1.0000 - val_loss: 0.4583 - val_categorical_accuracy: 0.8500 - lr: 1.0000e-05\n",
      "Epoch 18/20\n",
      "34/34 [==============================] - ETA: 0s - loss: 0.0139 - categorical_accuracy: 0.9985\n",
      "Epoch 00018: val_loss did not improve from 0.37145\n",
      "\n",
      "Epoch 00018: ReduceLROnPlateau reducing learning rate to 1.0000000656873453e-06.\n",
      "34/34 [==============================] - 107s 3s/step - loss: 0.0139 - categorical_accuracy: 0.9985 - val_loss: 0.3843 - val_categorical_accuracy: 0.8800 - lr: 1.0000e-05\n",
      "Epoch 19/20\n",
      "34/34 [==============================] - ETA: 0s - loss: 0.0161 - categorical_accuracy: 1.0000\n",
      "Epoch 00019: val_loss did not improve from 0.37145\n",
      "34/34 [==============================] - 108s 3s/step - loss: 0.0161 - categorical_accuracy: 1.0000 - val_loss: 0.5084 - val_categorical_accuracy: 0.8800 - lr: 1.0000e-06\n",
      "Epoch 20/20\n",
      "34/34 [==============================] - ETA: 0s - loss: 0.0142 - categorical_accuracy: 1.0000\n",
      "Epoch 00020: val_loss improved from 0.37145 to 0.27482, saving model to MODELS/model_init_2023-10-0317_37_58.704340/model-00020-0.01423-1.00000-0.27482-0.92000.h5\n",
      "34/34 [==============================] - 108s 3s/step - loss: 0.0142 - categorical_accuracy: 1.0000 - val_loss: 0.2748 - val_categorical_accuracy: 0.9200 - lr: 1.0000e-06\n"
     ]
    }
   ],
   "source": [
    "#fit_generator is deprecated.. using model.fit with generator objects...\n",
    "\n",
    "history_03 = model_03.fit(x=training_data_gen, steps_per_epoch=steps_per_epoch, epochs=num_epochs, verbose=1,\n",
    "                       callbacks=callbacks_list, validation_data=validation_data_gen,\n",
    "                       validation_steps=validation_steps)"
   ]
  },
  {
   "cell_type": "code",
   "execution_count": 34,
   "id": "7659bb3c",
   "metadata": {},
   "outputs": [
    {
     "data": {
      "image/png": "[encoded data removed]",
      "text/plain": [
       "<Figure size 576x576 with 2 Axes>"
      ]
     },
     "metadata": {
      "needs_background": "light"
     },
     "output_type": "display_data"
    }
   ],
   "source": [
    "visualize_outputs(history_03, epoch=num_epochs)"
   ]
  },
  {
   "cell_type": "code",
   "execution_count": null,
   "id": "787625ef",
   "metadata": {},
   "outputs": [],
   "source": []
  },
  {
   "cell_type": "markdown",
   "id": "34474ddd",
   "metadata": {},
   "source": [
    "### Model-04\n",
    "\n",
    "- Experimenting the same model with a reduced image size to 100x100"
   ]
  },
  {
   "cell_type": "code",
   "execution_count": 35,
   "id": "e21d9b4d",
   "metadata": {},
   "outputs": [],
   "source": [
    "height = 100 # image width\n",
    "width = 100 # image height\n",
    "\n",
    "batch_size = 20 #experiment with the batch size\n",
    "\n",
    "num_epochs = 20\n",
    "LrPlateau_patience = 2\n",
    "LrPlateau_mode = 'auto'\n",
    "LrPlateau_factor = 0.1\n",
    "LrPlateau_fmin_lr = 0.0001\n"
   ]
  },
  {
   "cell_type": "code",
   "execution_count": 36,
   "id": "0e43f16a",
   "metadata": {},
   "outputs": [
    {
     "name": "stdout",
     "output_type": "stream",
     "text": [
      "WARNING:tensorflow:`period` argument is deprecated. Please use `save_freq` to specify the frequency in number of batches seen.\n"
     ]
    }
   ],
   "source": [
    "curr_dt_time = datetime.datetime.now()\n",
    "LR = ReduceLROnPlateau(monitor='val_loss',\n",
    "                       factor=LrPlateau_factor,\n",
    "                       patience=LrPlateau_patience,\n",
    "                       fmin_lr=LrPlateau_fmin_lr, verbose=1)\n",
    "\n",
    "callbacks_list = [model_callbacks(curr_dt_time, MODEL_SAVE_DIR), LR]\n",
    "steps_per_epoch, validation_steps = get_steps_info(len(train_doc), len(val_doc), batch_size)"
   ]
  },
  {
   "cell_type": "code",
   "execution_count": 37,
   "id": "dd521e5c",
   "metadata": {},
   "outputs": [
    {
     "name": "stdout",
     "output_type": "stream",
     "text": [
      "Epochs 20\n",
      "steps_per_epoch 34\n",
      "validation_steps 5\n"
     ]
    }
   ],
   "source": [
    "print('Epochs', num_epochs)\n",
    "print('steps_per_epoch', steps_per_epoch)\n",
    "print('validation_steps', validation_steps)"
   ]
  },
  {
   "cell_type": "code",
   "execution_count": 38,
   "id": "2ae55707",
   "metadata": {},
   "outputs": [
    {
     "name": "stdout",
     "output_type": "stream",
     "text": [
      "Model: \"sequential_3\"\n",
      "_________________________________________________________________\n",
      " Layer (type)                Output Shape              Param #   \n",
      "=================================================================\n",
      " conv3d_13 (Conv3D)          (None, 20, 100, 100, 32)  2624      \n",
      "                                                                 \n",
      " activation_19 (Activation)  (None, 20, 100, 100, 32)  0         \n",
      "                                                                 \n",
      " max_pooling3d_13 (MaxPoolin  (None, 10, 50, 50, 32)   0         \n",
      " g3D)                                                            \n",
      "                                                                 \n",
      " conv3d_14 (Conv3D)          (None, 10, 50, 50, 64)    55360     \n",
      "                                                                 \n",
      " activation_20 (Activation)  (None, 10, 50, 50, 64)    0         \n",
      "                                                                 \n",
      " max_pooling3d_14 (MaxPoolin  (None, 5, 25, 25, 64)    0         \n",
      " g3D)                                                            \n",
      "                                                                 \n",
      " conv3d_15 (Conv3D)          (None, 5, 25, 25, 64)     110656    \n",
      "                                                                 \n",
      " activation_21 (Activation)  (None, 5, 25, 25, 64)     0         \n",
      "                                                                 \n",
      " max_pooling3d_15 (MaxPoolin  (None, 3, 13, 13, 64)    0         \n",
      " g3D)                                                            \n",
      "                                                                 \n",
      " conv3d_16 (Conv3D)          (None, 3, 13, 13, 128)    221312    \n",
      "                                                                 \n",
      " activation_22 (Activation)  (None, 3, 13, 13, 128)    0         \n",
      "                                                                 \n",
      " max_pooling3d_16 (MaxPoolin  (None, 1, 5, 5, 128)     0         \n",
      " g3D)                                                            \n",
      "                                                                 \n",
      " conv3d_17 (Conv3D)          (None, 1, 5, 5, 128)      442496    \n",
      "                                                                 \n",
      " activation_23 (Activation)  (None, 1, 5, 5, 128)      0         \n",
      "                                                                 \n",
      " max_pooling3d_17 (MaxPoolin  (None, 1, 3, 3, 128)     0         \n",
      " g3D)                                                            \n",
      "                                                                 \n",
      " flatten_3 (Flatten)         (None, 1152)              0         \n",
      "                                                                 \n",
      " dense_8 (Dense)             (None, 256)               295168    \n",
      "                                                                 \n",
      " dense_9 (Dense)             (None, 128)               32896     \n",
      "                                                                 \n",
      " dense_10 (Dense)            (None, 64)                8256      \n",
      "                                                                 \n",
      " activation_24 (Activation)  (None, 64)                0         \n",
      "                                                                 \n",
      " dropout_3 (Dropout)         (None, 64)                0         \n",
      "                                                                 \n",
      " dense_11 (Dense)            (None, 5)                 325       \n",
      "                                                                 \n",
      " activation_25 (Activation)  (None, 5)                 0         \n",
      "                                                                 \n",
      "=================================================================\n",
      "Total params: 1,169,093\n",
      "Trainable params: 1,169,093\n",
      "Non-trainable params: 0\n",
      "_________________________________________________________________\n"
     ]
    }
   ],
   "source": [
    "model_04 = prepare_conv3d_model_03()\n",
    "optimizer = optimizers.adam_v2.Adam()\n",
    "model_04.compile(optimizer, loss='categorical_crossentropy', metrics=['categorical_accuracy'])\n",
    "model_04.summary()"
   ]
  },
  {
   "cell_type": "code",
   "execution_count": 39,
   "id": "9828983b",
   "metadata": {},
   "outputs": [],
   "source": [
    "training_data_gen = gesture_generator(TRAIN_DIR, train_doc, batch_size, img_idx, height, width)\n",
    "validation_data_gen = gesture_generator(VAL_DIR, val_doc, batch_size, img_idx, height, width)"
   ]
  },
  {
   "cell_type": "code",
   "execution_count": 40,
   "id": "f268f0ba",
   "metadata": {},
   "outputs": [
    {
     "name": "stdout",
     "output_type": "stream",
     "text": [
      "Epoch 1/20\n",
      "34/34 [==============================] - ETA: 0s - loss: 1.6279 - categorical_accuracy: 0.1991\n",
      "Epoch 00001: val_loss improved from inf to 1.60819, saving model to MODELS/model_init_2023-10-0318_14_06.664254/model-00001-1.62791-0.19910-1.60819-0.22000.h5\n",
      "34/34 [==============================] - 106s 3s/step - loss: 1.6279 - categorical_accuracy: 0.1991 - val_loss: 1.6082 - val_categorical_accuracy: 0.2200 - lr: 0.0010\n",
      "Epoch 2/20\n",
      "34/34 [==============================] - ETA: 0s - loss: 1.5799 - categorical_accuracy: 0.2157\n",
      "Epoch 00002: val_loss did not improve from 1.60819\n",
      "34/34 [==============================] - 106s 3s/step - loss: 1.5799 - categorical_accuracy: 0.2157 - val_loss: 2.3236 - val_categorical_accuracy: 0.2100 - lr: 0.0010\n",
      "Epoch 3/20\n",
      "34/34 [==============================] - ETA: 0s - loss: 1.6401 - categorical_accuracy: 0.2308\n",
      "Epoch 00003: val_loss improved from 1.60819 to 1.55372, saving model to MODELS/model_init_2023-10-0318_14_06.664254/model-00003-1.64006-0.23077-1.55372-0.47000.h5\n",
      "34/34 [==============================] - 105s 3s/step - loss: 1.6401 - categorical_accuracy: 0.2308 - val_loss: 1.5537 - val_categorical_accuracy: 0.4700 - lr: 0.0010\n",
      "Epoch 4/20\n",
      "34/34 [==============================] - ETA: 0s - loss: 1.3885 - categorical_accuracy: 0.3816\n",
      "Epoch 00004: val_loss improved from 1.55372 to 1.23378, saving model to MODELS/model_init_2023-10-0318_14_06.664254/model-00004-1.38853-0.38160-1.23378-0.39000.h5\n",
      "34/34 [==============================] - 106s 3s/step - loss: 1.3885 - categorical_accuracy: 0.3816 - val_loss: 1.2338 - val_categorical_accuracy: 0.3900 - lr: 0.0010\n",
      "Epoch 5/20\n",
      "34/34 [==============================] - ETA: 0s - loss: 1.1683 - categorical_accuracy: 0.4736\n",
      "Epoch 00005: val_loss improved from 1.23378 to 0.95887, saving model to MODELS/model_init_2023-10-0318_14_06.664254/model-00005-1.16831-0.47360-0.95887-0.63000.h5\n",
      "34/34 [==============================] - 106s 3s/step - loss: 1.1683 - categorical_accuracy: 0.4736 - val_loss: 0.9589 - val_categorical_accuracy: 0.6300 - lr: 0.0010\n",
      "Epoch 6/20\n",
      "34/34 [==============================] - ETA: 0s - loss: 0.9579 - categorical_accuracy: 0.5415\n",
      "Epoch 00006: val_loss did not improve from 0.95887\n",
      "34/34 [==============================] - 106s 3s/step - loss: 0.9579 - categorical_accuracy: 0.5415 - val_loss: 1.0638 - val_categorical_accuracy: 0.5000 - lr: 0.0010\n",
      "Epoch 7/20\n",
      "34/34 [==============================] - ETA: 0s - loss: 0.8816 - categorical_accuracy: 0.5913\n",
      "Epoch 00007: val_loss improved from 0.95887 to 0.84024, saving model to MODELS/model_init_2023-10-0318_14_06.664254/model-00007-0.88156-0.59125-0.84024-0.61000.h5\n",
      "34/34 [==============================] - 104s 3s/step - loss: 0.8816 - categorical_accuracy: 0.5913 - val_loss: 0.8402 - val_categorical_accuracy: 0.6100 - lr: 0.0010\n",
      "Epoch 8/20\n",
      "34/34 [==============================] - ETA: 0s - loss: 0.6923 - categorical_accuracy: 0.6682\n",
      "Epoch 00008: val_loss improved from 0.84024 to 0.73334, saving model to MODELS/model_init_2023-10-0318_14_06.664254/model-00008-0.69232-0.66817-0.73334-0.72000.h5\n",
      "34/34 [==============================] - 106s 3s/step - loss: 0.6923 - categorical_accuracy: 0.6682 - val_loss: 0.7333 - val_categorical_accuracy: 0.7200 - lr: 0.0010\n",
      "Epoch 9/20\n",
      "34/34 [==============================] - ETA: 0s - loss: 0.5680 - categorical_accuracy: 0.7587\n",
      "Epoch 00009: val_loss did not improve from 0.73334\n",
      "34/34 [==============================] - 105s 3s/step - loss: 0.5680 - categorical_accuracy: 0.7587 - val_loss: 0.7850 - val_categorical_accuracy: 0.7300 - lr: 0.0010\n",
      "Epoch 10/20\n",
      "34/34 [==============================] - ETA: 0s - loss: 0.5270 - categorical_accuracy: 0.7647\n",
      "Epoch 00010: val_loss did not improve from 0.73334\n",
      "\n",
      "Epoch 00010: ReduceLROnPlateau reducing learning rate to 0.00010000000474974513.\n",
      "34/34 [==============================] - 106s 3s/step - loss: 0.5270 - categorical_accuracy: 0.7647 - val_loss: 1.1257 - val_categorical_accuracy: 0.6100 - lr: 0.0010\n",
      "Epoch 11/20\n",
      "34/34 [==============================] - ETA: 0s - loss: 0.5040 - categorical_accuracy: 0.8084\n",
      "Epoch 00011: val_loss improved from 0.73334 to 0.56900, saving model to MODELS/model_init_2023-10-0318_14_06.664254/model-00011-0.50404-0.80845-0.56900-0.80000.h5\n",
      "34/34 [==============================] - 106s 3s/step - loss: 0.5040 - categorical_accuracy: 0.8084 - val_loss: 0.5690 - val_categorical_accuracy: 0.8000 - lr: 1.0000e-04\n",
      "Epoch 12/20\n",
      "34/34 [==============================] - ETA: 0s - loss: 0.3356 - categorical_accuracy: 0.8763\n",
      "Epoch 00012: val_loss improved from 0.56900 to 0.52833, saving model to MODELS/model_init_2023-10-0318_14_06.664254/model-00012-0.33556-0.87632-0.52833-0.81000.h5\n",
      "34/34 [==============================] - 105s 3s/step - loss: 0.3356 - categorical_accuracy: 0.8763 - val_loss: 0.5283 - val_categorical_accuracy: 0.8100 - lr: 1.0000e-04\n",
      "Epoch 13/20\n",
      "34/34 [==============================] - ETA: 0s - loss: 0.3033 - categorical_accuracy: 0.8808\n",
      "Epoch 00013: val_loss did not improve from 0.52833\n",
      "34/34 [==============================] - 105s 3s/step - loss: 0.3033 - categorical_accuracy: 0.8808 - val_loss: 0.5915 - val_categorical_accuracy: 0.8200 - lr: 1.0000e-04\n",
      "Epoch 14/20\n",
      "34/34 [==============================] - ETA: 0s - loss: 0.2768 - categorical_accuracy: 0.8884\n",
      "Epoch 00014: val_loss improved from 0.52833 to 0.47997, saving model to MODELS/model_init_2023-10-0318_14_06.664254/model-00014-0.27675-0.88839-0.47997-0.90000.h5\n",
      "34/34 [==============================] - 106s 3s/step - loss: 0.2768 - categorical_accuracy: 0.8884 - val_loss: 0.4800 - val_categorical_accuracy: 0.9000 - lr: 1.0000e-04\n",
      "Epoch 15/20\n",
      "34/34 [==============================] - ETA: 0s - loss: 0.2558 - categorical_accuracy: 0.8944\n",
      "Epoch 00015: val_loss did not improve from 0.47997\n",
      "34/34 [==============================] - 105s 3s/step - loss: 0.2558 - categorical_accuracy: 0.8944 - val_loss: 0.4885 - val_categorical_accuracy: 0.8400 - lr: 1.0000e-04\n",
      "Epoch 16/20\n",
      "34/34 [==============================] - ETA: 0s - loss: 0.2194 - categorical_accuracy: 0.9110\n",
      "Epoch 00016: val_loss improved from 0.47997 to 0.44073, saving model to MODELS/model_init_2023-10-0318_14_06.664254/model-00016-0.21937-0.91101-0.44073-0.85000.h5\n",
      "34/34 [==============================] - 107s 3s/step - loss: 0.2194 - categorical_accuracy: 0.9110 - val_loss: 0.4407 - val_categorical_accuracy: 0.8500 - lr: 1.0000e-04\n",
      "Epoch 17/20\n",
      "34/34 [==============================] - ETA: 0s - loss: 0.2046 - categorical_accuracy: 0.9170\n",
      "Epoch 00017: val_loss improved from 0.44073 to 0.43530, saving model to MODELS/model_init_2023-10-0318_14_06.664254/model-00017-0.20459-0.91704-0.43530-0.88000.h5\n",
      "34/34 [==============================] - 105s 3s/step - loss: 0.2046 - categorical_accuracy: 0.9170 - val_loss: 0.4353 - val_categorical_accuracy: 0.8800 - lr: 1.0000e-04\n",
      "Epoch 18/20\n",
      "34/34 [==============================] - ETA: 0s - loss: 0.1767 - categorical_accuracy: 0.9397\n",
      "Epoch 00018: val_loss did not improve from 0.43530\n",
      "34/34 [==============================] - 105s 3s/step - loss: 0.1767 - categorical_accuracy: 0.9397 - val_loss: 0.4944 - val_categorical_accuracy: 0.8500 - lr: 1.0000e-04\n",
      "Epoch 19/20\n",
      "34/34 [==============================] - ETA: 0s - loss: 0.1732 - categorical_accuracy: 0.9487\n",
      "Epoch 00019: val_loss improved from 0.43530 to 0.37904, saving model to MODELS/model_init_2023-10-0318_14_06.664254/model-00019-0.17323-0.94872-0.37904-0.82000.h5\n",
      "34/34 [==============================] - 105s 3s/step - loss: 0.1732 - categorical_accuracy: 0.9487 - val_loss: 0.3790 - val_categorical_accuracy: 0.8200 - lr: 1.0000e-04\n",
      "Epoch 20/20\n",
      "34/34 [==============================] - ETA: 0s - loss: 0.1652 - categorical_accuracy: 0.9291\n",
      "Epoch 00020: val_loss did not improve from 0.37904\n",
      "34/34 [==============================] - 105s 3s/step - loss: 0.1652 - categorical_accuracy: 0.9291 - val_loss: 0.4529 - val_categorical_accuracy: 0.8600 - lr: 1.0000e-04\n"
     ]
    }
   ],
   "source": [
    "#fit_generator is deprecated.. using model.fit with generator objects...\n",
    "\n",
    "history_04 = model_04.fit(x=training_data_gen, steps_per_epoch=steps_per_epoch, epochs=num_epochs, verbose=1,\n",
    "                       callbacks=callbacks_list, validation_data=validation_data_gen,\n",
    "                       validation_steps=validation_steps)"
   ]
  },
  {
   "cell_type": "code",
   "execution_count": 41,
   "id": "fe4ccf7e",
   "metadata": {},
   "outputs": [
    {
     "data": {
      "image/png": "[encoded data removed]",
      "text/plain": [
       "<Figure size 576x576 with 2 Axes>"
      ]
     },
     "metadata": {
      "needs_background": "light"
     },
     "output_type": "display_data"
    }
   ],
   "source": [
    "visualize_outputs(history_04, epoch=num_epochs)"
   ]
  },
  {
   "cell_type": "markdown",
   "id": "f60dc29c",
   "metadata": {},
   "source": [
    "#### Observations\n",
    "\n",
    "- No improvement in the accuracy levels. \n",
    "- Loss has also increased. No improvement in reducing the image size. \n",
    "- Total params: 1,169,093 Trainable params: 1,169,093"
   ]
  },
  {
   "cell_type": "markdown",
   "id": "cb29631e",
   "metadata": {},
   "source": [
    "### Model-05\n",
    "- The problem is to identify the gesture and has no relation with the colors of the image. Hence, trying out to grayscale the image so as to reduce the layers and parameters. "
   ]
  },
  {
   "cell_type": "code",
   "execution_count": 42,
   "id": "476db700",
   "metadata": {},
   "outputs": [],
   "source": [
    "def prepare_conv3d_grayscale_model_05(num_classes, color_channels = 3):\n",
    "    model = Sequential()\n",
    "    model.add(Conv3D(32, (3,3,3), padding='same', input_shape=(num_images, height, width, color_channels)))\n",
    "    model.add(Activation('relu'))\n",
    "    model.add(MaxPooling3D(pool_size=(2, 2, 2), padding='same'))\n",
    "\n",
    "    model.add(Conv3D(64, (3,3,3), padding='same'))\n",
    "    model.add(Activation('relu'))\n",
    "    model.add(MaxPooling3D(pool_size=(2, 2, 2), padding='same'))\n",
    "\n",
    "    model.add(Conv3D(64, (3,3,3), padding='same'))\n",
    "    model.add(Activation('relu'))\n",
    "    model.add(MaxPooling3D(pool_size=(2, 2, 2), padding='same'))\n",
    "\n",
    "    model.add(Conv3D(128, (3,3,3), padding='same'))\n",
    "    model.add(Activation('relu'))\n",
    "    model.add(MaxPooling3D(pool_size=(3, 3, 2), padding='same'))\n",
    "\n",
    "    model.add(Conv3D(256, (3,3,3), padding='same'))\n",
    "    model.add(Activation('relu'))\n",
    "    model.add(MaxPooling3D(pool_size=(2, 2, 2), padding='same'))\n",
    "\n",
    "    model.add(Flatten())\n",
    "    model.add(Dense(256))\n",
    "    model.add(Dense(128))\n",
    "    model.add(Dense(64))\n",
    "    model.add(Activation('relu'))\n",
    "    model.add(Dropout(0.20))\n",
    "\n",
    "    model.add(Dense(num_classes))\n",
    "    model.add(Activation('softmax'))\n",
    "    return model"
   ]
  },
  {
   "cell_type": "code",
   "execution_count": 43,
   "id": "ade4a630",
   "metadata": {},
   "outputs": [],
   "source": [
    "height = 120 # image width\n",
    "width = 120 # image height\n",
    "\n",
    "batch_size = 30 #experiment with the batch size\n",
    "\n",
    "num_epochs = 20\n",
    "LrPlateau_patience = 2\n",
    "LrPlateau_mode = 'auto'\n",
    "LrPlateau_factor = 0.2\n",
    "LrPlateau_fmin_lr = 0.0001\n"
   ]
  },
  {
   "cell_type": "code",
   "execution_count": 44,
   "id": "d7f30945",
   "metadata": {},
   "outputs": [
    {
     "name": "stdout",
     "output_type": "stream",
     "text": [
      "WARNING:tensorflow:`period` argument is deprecated. Please use `save_freq` to specify the frequency in number of batches seen.\n"
     ]
    }
   ],
   "source": [
    "\n",
    "curr_dt_time = datetime.datetime.now()\n",
    "LR = ReduceLROnPlateau(monitor='val_loss',\n",
    "                       factor=LrPlateau_factor,\n",
    "                       patience=LrPlateau_patience,\n",
    "                       fmin_lr=LrPlateau_fmin_lr, verbose=1)\n",
    "\n",
    "callbacks_list = [model_callbacks(curr_dt_time, MODEL_SAVE_DIR), LR]\n",
    "steps_per_epoch, validation_steps = get_steps_info(len(train_doc), len(val_doc), batch_size)\n"
   ]
  },
  {
   "cell_type": "code",
   "execution_count": 45,
   "id": "9386a0e2",
   "metadata": {},
   "outputs": [
    {
     "name": "stdout",
     "output_type": "stream",
     "text": [
      "Epochs 20\n",
      "steps_per_epoch 23\n",
      "validation_steps 4\n"
     ]
    }
   ],
   "source": [
    "print('Epochs', num_epochs)\n",
    "print('steps_per_epoch', steps_per_epoch)\n",
    "print('validation_steps', validation_steps)"
   ]
  },
  {
   "cell_type": "code",
   "execution_count": 46,
   "id": "87f4264f",
   "metadata": {},
   "outputs": [
    {
     "name": "stdout",
     "output_type": "stream",
     "text": [
      "Model: \"sequential_4\"\n",
      "_________________________________________________________________\n",
      " Layer (type)                Output Shape              Param #   \n",
      "=================================================================\n",
      " conv3d_18 (Conv3D)          (None, 20, 120, 120, 32)  896       \n",
      "                                                                 \n",
      " activation_26 (Activation)  (None, 20, 120, 120, 32)  0         \n",
      "                                                                 \n",
      " max_pooling3d_18 (MaxPoolin  (None, 10, 60, 60, 32)   0         \n",
      " g3D)                                                            \n",
      "                                                                 \n",
      " conv3d_19 (Conv3D)          (None, 10, 60, 60, 64)    55360     \n",
      "                                                                 \n",
      " activation_27 (Activation)  (None, 10, 60, 60, 64)    0         \n",
      "                                                                 \n",
      " max_pooling3d_19 (MaxPoolin  (None, 5, 30, 30, 64)    0         \n",
      " g3D)                                                            \n",
      "                                                                 \n",
      " conv3d_20 (Conv3D)          (None, 5, 30, 30, 64)     110656    \n",
      "                                                                 \n",
      " activation_28 (Activation)  (None, 5, 30, 30, 64)     0         \n",
      "                                                                 \n",
      " max_pooling3d_20 (MaxPoolin  (None, 3, 15, 15, 64)    0         \n",
      " g3D)                                                            \n",
      "                                                                 \n",
      " conv3d_21 (Conv3D)          (None, 3, 15, 15, 128)    221312    \n",
      "                                                                 \n",
      " activation_29 (Activation)  (None, 3, 15, 15, 128)    0         \n",
      "                                                                 \n",
      " max_pooling3d_21 (MaxPoolin  (None, 1, 5, 8, 128)     0         \n",
      " g3D)                                                            \n",
      "                                                                 \n",
      " conv3d_22 (Conv3D)          (None, 1, 5, 8, 256)      884992    \n",
      "                                                                 \n",
      " activation_30 (Activation)  (None, 1, 5, 8, 256)      0         \n",
      "                                                                 \n",
      " max_pooling3d_22 (MaxPoolin  (None, 1, 3, 4, 256)     0         \n",
      " g3D)                                                            \n",
      "                                                                 \n",
      " flatten_4 (Flatten)         (None, 3072)              0         \n",
      "                                                                 \n",
      " dense_12 (Dense)            (None, 256)               786688    \n",
      "                                                                 \n",
      " dense_13 (Dense)            (None, 128)               32896     \n",
      "                                                                 \n",
      " dense_14 (Dense)            (None, 64)                8256      \n",
      "                                                                 \n",
      " activation_31 (Activation)  (None, 64)                0         \n",
      "                                                                 \n",
      " dropout_4 (Dropout)         (None, 64)                0         \n",
      "                                                                 \n",
      " dense_15 (Dense)            (None, 5)                 325       \n",
      "                                                                 \n",
      " activation_32 (Activation)  (None, 5)                 0         \n",
      "                                                                 \n",
      "=================================================================\n",
      "Total params: 2,101,381\n",
      "Trainable params: 2,101,381\n",
      "Non-trainable params: 0\n",
      "_________________________________________________________________\n"
     ]
    }
   ],
   "source": [
    "model_05 = prepare_conv3d_grayscale_model_05(num_classes, 1)\n",
    "optimizer = optimizers.adam_v2.Adam()\n",
    "model_05.compile(optimizer, loss='categorical_crossentropy', metrics=['categorical_accuracy'])\n",
    "model_05.summary()"
   ]
  },
  {
   "cell_type": "code",
   "execution_count": 47,
   "id": "a619159d",
   "metadata": {},
   "outputs": [],
   "source": [
    "training_data_gen = gesture_generator(TRAIN_DIR, train_doc, batch_size, img_idx, height, width, channels=1)\n",
    "validation_data_gen = gesture_generator(VAL_DIR, val_doc, batch_size, img_idx, height, width, channels=1)"
   ]
  },
  {
   "cell_type": "code",
   "execution_count": 48,
   "id": "3729442f",
   "metadata": {},
   "outputs": [
    {
     "name": "stdout",
     "output_type": "stream",
     "text": [
      "Epoch 1/20\n",
      "23/23 [==============================] - ETA: 0s - loss: 6.5901 - categorical_accuracy: 0.1840\n",
      "Epoch 00001: val_loss improved from inf to 1.58855, saving model to MODELS/model_init_2023-10-0318_49_18.444946/model-00001-6.59010-0.18401-1.58855-0.22000.h5\n",
      "23/23 [==============================] - 102s 5s/step - loss: 6.5901 - categorical_accuracy: 0.1840 - val_loss: 1.5885 - val_categorical_accuracy: 0.2200 - lr: 0.0010\n",
      "Epoch 2/20\n",
      "23/23 [==============================] - ETA: 0s - loss: 1.6056 - categorical_accuracy: 0.1916\n",
      "Epoch 00002: val_loss did not improve from 1.58855\n",
      "23/23 [==============================] - 102s 5s/step - loss: 1.6056 - categorical_accuracy: 0.1916 - val_loss: 1.5946 - val_categorical_accuracy: 0.2000 - lr: 0.0010\n",
      "Epoch 3/20\n",
      "23/23 [==============================] - ETA: 0s - loss: 1.5578 - categorical_accuracy: 0.2353\n",
      "Epoch 00003: val_loss improved from 1.58855 to 1.38736, saving model to MODELS/model_init_2023-10-0318_49_18.444946/model-00003-1.55784-0.23529-1.38736-0.46000.h5\n",
      "23/23 [==============================] - 100s 5s/step - loss: 1.5578 - categorical_accuracy: 0.2353 - val_loss: 1.3874 - val_categorical_accuracy: 0.4600 - lr: 0.0010\n",
      "Epoch 4/20\n",
      "23/23 [==============================] - ETA: 0s - loss: 1.4125 - categorical_accuracy: 0.3741\n",
      "Epoch 00004: val_loss improved from 1.38736 to 1.26220, saving model to MODELS/model_init_2023-10-0318_49_18.444946/model-00004-1.41249-0.37406-1.26220-0.50000.h5\n",
      "23/23 [==============================] - 98s 4s/step - loss: 1.4125 - categorical_accuracy: 0.3741 - val_loss: 1.2622 - val_categorical_accuracy: 0.5000 - lr: 0.0010\n",
      "Epoch 5/20\n",
      "23/23 [==============================] - ETA: 0s - loss: 1.2606 - categorical_accuracy: 0.4796\n",
      "Epoch 00005: val_loss did not improve from 1.26220\n",
      "23/23 [==============================] - 102s 5s/step - loss: 1.2606 - categorical_accuracy: 0.4796 - val_loss: 1.3635 - val_categorical_accuracy: 0.4300 - lr: 0.0010\n",
      "Epoch 6/20\n",
      "23/23 [==============================] - ETA: 0s - loss: 1.2436 - categorical_accuracy: 0.4359\n",
      "Epoch 00006: val_loss improved from 1.26220 to 1.01667, saving model to MODELS/model_init_2023-10-0318_49_18.444946/model-00006-1.24364-0.43590-1.01667-0.59000.h5\n",
      "23/23 [==============================] - 100s 5s/step - loss: 1.2436 - categorical_accuracy: 0.4359 - val_loss: 1.0167 - val_categorical_accuracy: 0.5900 - lr: 0.0010\n",
      "Epoch 7/20\n",
      "23/23 [==============================] - ETA: 0s - loss: 1.0866 - categorical_accuracy: 0.5460\n",
      "Epoch 00007: val_loss improved from 1.01667 to 0.81697, saving model to MODELS/model_init_2023-10-0318_49_18.444946/model-00007-1.08664-0.54600-0.81697-0.64000.h5\n",
      "23/23 [==============================] - 101s 5s/step - loss: 1.0866 - categorical_accuracy: 0.5460 - val_loss: 0.8170 - val_categorical_accuracy: 0.6400 - lr: 0.0010\n",
      "Epoch 8/20\n",
      "23/23 [==============================] - ETA: 0s - loss: 0.8843 - categorical_accuracy: 0.6546\n",
      "Epoch 00008: val_loss improved from 0.81697 to 0.74756, saving model to MODELS/model_init_2023-10-0318_49_18.444946/model-00008-0.88429-0.65460-0.74756-0.66000.h5\n",
      "23/23 [==============================] - 99s 4s/step - loss: 0.8843 - categorical_accuracy: 0.6546 - val_loss: 0.7476 - val_categorical_accuracy: 0.6600 - lr: 0.0010\n",
      "Epoch 9/20\n",
      "23/23 [==============================] - ETA: 0s - loss: 0.8353 - categorical_accuracy: 0.6637\n",
      "Epoch 00009: val_loss did not improve from 0.74756\n",
      "23/23 [==============================] - 101s 5s/step - loss: 0.8353 - categorical_accuracy: 0.6637 - val_loss: 0.8948 - val_categorical_accuracy: 0.6400 - lr: 0.0010\n",
      "Epoch 10/20\n",
      "23/23 [==============================] - ETA: 0s - loss: 0.9419 - categorical_accuracy: 0.6214\n",
      "Epoch 00010: val_loss did not improve from 0.74756\n",
      "\n",
      "Epoch 00010: ReduceLROnPlateau reducing learning rate to 0.00020000000949949026.\n",
      "23/23 [==============================] - 102s 5s/step - loss: 0.9419 - categorical_accuracy: 0.6214 - val_loss: 0.9374 - val_categorical_accuracy: 0.6400 - lr: 0.0010\n",
      "Epoch 11/20\n",
      "23/23 [==============================] - ETA: 0s - loss: 0.8341 - categorical_accuracy: 0.6516\n",
      "Epoch 00011: val_loss improved from 0.74756 to 0.70308, saving model to MODELS/model_init_2023-10-0318_49_18.444946/model-00011-0.83410-0.65158-0.70308-0.71000.h5\n",
      "23/23 [==============================] - 102s 5s/step - loss: 0.8341 - categorical_accuracy: 0.6516 - val_loss: 0.7031 - val_categorical_accuracy: 0.7100 - lr: 2.0000e-04\n",
      "Epoch 12/20\n",
      "23/23 [==============================] - ETA: 0s - loss: 0.6662 - categorical_accuracy: 0.7722\n",
      "Epoch 00012: val_loss improved from 0.70308 to 0.69626, saving model to MODELS/model_init_2023-10-0318_49_18.444946/model-00012-0.66616-0.77225-0.69626-0.70000.h5\n",
      "23/23 [==============================] - 98s 4s/step - loss: 0.6662 - categorical_accuracy: 0.7722 - val_loss: 0.6963 - val_categorical_accuracy: 0.7000 - lr: 2.0000e-04\n",
      "Epoch 13/20\n",
      "23/23 [==============================] - ETA: 0s - loss: 0.5544 - categorical_accuracy: 0.8009\n",
      "Epoch 00013: val_loss improved from 0.69626 to 0.52563, saving model to MODELS/model_init_2023-10-0318_49_18.444946/model-00013-0.55437-0.80090-0.52563-0.85000.h5\n",
      "23/23 [==============================] - 102s 5s/step - loss: 0.5544 - categorical_accuracy: 0.8009 - val_loss: 0.5256 - val_categorical_accuracy: 0.8500 - lr: 2.0000e-04\n",
      "Epoch 14/20\n",
      "23/23 [==============================] - ETA: 0s - loss: 0.4696 - categorical_accuracy: 0.8235\n",
      "Epoch 00014: val_loss improved from 0.52563 to 0.50221, saving model to MODELS/model_init_2023-10-0318_49_18.444946/model-00014-0.46962-0.82353-0.50221-0.85000.h5\n",
      "23/23 [==============================] - 101s 5s/step - loss: 0.4696 - categorical_accuracy: 0.8235 - val_loss: 0.5022 - val_categorical_accuracy: 0.8500 - lr: 2.0000e-04\n",
      "Epoch 15/20\n",
      "23/23 [==============================] - ETA: 0s - loss: 0.4418 - categorical_accuracy: 0.8462\n",
      "Epoch 00015: val_loss improved from 0.50221 to 0.46687, saving model to MODELS/model_init_2023-10-0318_49_18.444946/model-00015-0.44175-0.84615-0.46687-0.83000.h5\n",
      "23/23 [==============================] - 101s 5s/step - loss: 0.4418 - categorical_accuracy: 0.8462 - val_loss: 0.4669 - val_categorical_accuracy: 0.8300 - lr: 2.0000e-04\n",
      "Epoch 16/20\n",
      "23/23 [==============================] - ETA: 0s - loss: 0.3961 - categorical_accuracy: 0.8462\n",
      "Epoch 00016: val_loss improved from 0.46687 to 0.44230, saving model to MODELS/model_init_2023-10-0318_49_18.444946/model-00016-0.39613-0.84615-0.44230-0.81000.h5\n",
      "23/23 [==============================] - 99s 4s/step - loss: 0.3961 - categorical_accuracy: 0.8462 - val_loss: 0.4423 - val_categorical_accuracy: 0.8100 - lr: 2.0000e-04\n",
      "Epoch 17/20\n",
      "23/23 [==============================] - ETA: 0s - loss: 0.3730 - categorical_accuracy: 0.8673\n",
      "Epoch 00017: val_loss did not improve from 0.44230\n",
      "23/23 [==============================] - 101s 5s/step - loss: 0.3730 - categorical_accuracy: 0.8673 - val_loss: 0.4730 - val_categorical_accuracy: 0.8300 - lr: 2.0000e-04\n",
      "Epoch 18/20\n",
      "23/23 [==============================] - ETA: 0s - loss: 0.2817 - categorical_accuracy: 0.9005\n",
      "Epoch 00018: val_loss did not improve from 0.44230\n",
      "\n",
      "Epoch 00018: ReduceLROnPlateau reducing learning rate to 4.0000001899898055e-05.\n",
      "23/23 [==============================] - 100s 5s/step - loss: 0.2817 - categorical_accuracy: 0.9005 - val_loss: 0.4992 - val_categorical_accuracy: 0.8000 - lr: 2.0000e-04\n",
      "Epoch 19/20\n",
      "23/23 [==============================] - ETA: 0s - loss: 0.2536 - categorical_accuracy: 0.9065\n",
      "Epoch 00019: val_loss improved from 0.44230 to 0.39216, saving model to MODELS/model_init_2023-10-0318_49_18.444946/model-00019-0.25357-0.90649-0.39216-0.82000.h5\n",
      "23/23 [==============================] - 101s 5s/step - loss: 0.2536 - categorical_accuracy: 0.9065 - val_loss: 0.3922 - val_categorical_accuracy: 0.8200 - lr: 4.0000e-05\n",
      "Epoch 20/20\n",
      "23/23 [==============================] - ETA: 0s - loss: 0.2309 - categorical_accuracy: 0.9155\n",
      "Epoch 00020: val_loss did not improve from 0.39216\n",
      "23/23 [==============================] - 98s 4s/step - loss: 0.2309 - categorical_accuracy: 0.9155 - val_loss: 0.4138 - val_categorical_accuracy: 0.8500 - lr: 4.0000e-05\n"
     ]
    }
   ],
   "source": [
    "#fit_generator is deprecated.. using model.fit with generator objects...\n",
    "history_05 = model_05.fit(x=training_data_gen, steps_per_epoch=steps_per_epoch, epochs=num_epochs, verbose=1,\n",
    "                       callbacks=callbacks_list, validation_data=validation_data_gen,\n",
    "                       validation_steps=validation_steps)"
   ]
  },
  {
   "cell_type": "code",
   "execution_count": 49,
   "id": "b5fad8c7",
   "metadata": {},
   "outputs": [
    {
     "data": {
      "image/png": "[encoded data removed]",
      "text/plain": [
       "<Figure size 576x576 with 2 Axes>"
      ]
     },
     "metadata": {
      "needs_background": "light"
     },
     "output_type": "display_data"
    }
   ],
   "source": [
    "visualize_outputs(history_05, epoch=num_epochs)"
   ]
  },
  {
   "cell_type": "code",
   "execution_count": null,
   "id": "ea35bd72",
   "metadata": {},
   "outputs": [],
   "source": []
  },
  {
   "cell_type": "code",
   "execution_count": null,
   "id": "0ca71b13",
   "metadata": {},
   "outputs": [],
   "source": []
  },
  {
   "cell_type": "markdown",
   "id": "7497cdef",
   "metadata": {},
   "source": [
    "### MODEL 6\n",
    "- With Reduced Batch Size"
   ]
  },
  {
   "cell_type": "code",
   "execution_count": 68,
   "id": "3261af71",
   "metadata": {},
   "outputs": [],
   "source": [
    "height = 120 # image width\n",
    "width = 120 # image height\n",
    "\n",
    "batch_size = 10 #experiment with the batch size\n",
    "img_idx = len(np.round(np.linspace(0,total_frames-1,num_images)).astype(int)) #create a list of image numbers you want to use for a particular video\n",
    "num_epochs = 20\n",
    "LrPlateau_patience = 2\n",
    "LrPlateau_mode = 'auto'\n",
    "LrPlateau_factor = 0.2\n",
    "LrPlateau_fmin_lr = 0.1\n"
   ]
  },
  {
   "cell_type": "code",
   "execution_count": 69,
   "id": "4f9f018b",
   "metadata": {},
   "outputs": [
    {
     "name": "stdout",
     "output_type": "stream",
     "text": [
      "WARNING:tensorflow:`period` argument is deprecated. Please use `save_freq` to specify the frequency in number of batches seen.\n"
     ]
    }
   ],
   "source": [
    "\n",
    "curr_dt_time = datetime.datetime.now()\n",
    "LR = ReduceLROnPlateau(monitor='val_loss',\n",
    "                       factor=LrPlateau_factor,\n",
    "                       patience=LrPlateau_patience,\n",
    "                       fmin_lr=LrPlateau_fmin_lr, verbose=1)\n",
    "\n",
    "callbacks_list = [model_callbacks(curr_dt_time, MODEL_SAVE_DIR), LR]\n",
    "steps_per_epoch, validation_steps = get_steps_info(len(train_doc), len(val_doc), batch_size)\n"
   ]
  },
  {
   "cell_type": "code",
   "execution_count": 70,
   "id": "c8af2aa5",
   "metadata": {},
   "outputs": [
    {
     "name": "stdout",
     "output_type": "stream",
     "text": [
      "Epochs 20\n",
      "steps_per_epoch 67\n",
      "validation_steps 10\n"
     ]
    }
   ],
   "source": [
    "print('Epochs', num_epochs)\n",
    "print('steps_per_epoch', steps_per_epoch)\n",
    "print('validation_steps', validation_steps)"
   ]
  },
  {
   "cell_type": "code",
   "execution_count": 71,
   "id": "a3352391",
   "metadata": {},
   "outputs": [],
   "source": [
    "training_data_gen = gesture_generator(TRAIN_DIR, train_doc, batch_size, img_idx, height, width, channels=1)\n",
    "validation_data_gen = gesture_generator(VAL_DIR, val_doc, batch_size, img_idx, height, width, channels=1)"
   ]
  },
  {
   "cell_type": "code",
   "execution_count": 72,
   "id": "e4e5850d",
   "metadata": {},
   "outputs": [
    {
     "name": "stdout",
     "output_type": "stream",
     "text": [
      "Model: \"sequential_8\"\n",
      "_________________________________________________________________\n",
      " Layer (type)                Output Shape              Param #   \n",
      "=================================================================\n",
      " conv3d_38 (Conv3D)          (None, 20, 120, 120, 32)  896       \n",
      "                                                                 \n",
      " activation_54 (Activation)  (None, 20, 120, 120, 32)  0         \n",
      "                                                                 \n",
      " max_pooling3d_38 (MaxPoolin  (None, 10, 60, 60, 32)   0         \n",
      " g3D)                                                            \n",
      "                                                                 \n",
      " conv3d_39 (Conv3D)          (None, 10, 60, 60, 64)    55360     \n",
      "                                                                 \n",
      " activation_55 (Activation)  (None, 10, 60, 60, 64)    0         \n",
      "                                                                 \n",
      " max_pooling3d_39 (MaxPoolin  (None, 5, 30, 30, 64)    0         \n",
      " g3D)                                                            \n",
      "                                                                 \n",
      " conv3d_40 (Conv3D)          (None, 5, 30, 30, 64)     110656    \n",
      "                                                                 \n",
      " activation_56 (Activation)  (None, 5, 30, 30, 64)     0         \n",
      "                                                                 \n",
      " max_pooling3d_40 (MaxPoolin  (None, 3, 15, 15, 64)    0         \n",
      " g3D)                                                            \n",
      "                                                                 \n",
      " conv3d_41 (Conv3D)          (None, 3, 15, 15, 128)    221312    \n",
      "                                                                 \n",
      " activation_57 (Activation)  (None, 3, 15, 15, 128)    0         \n",
      "                                                                 \n",
      " max_pooling3d_41 (MaxPoolin  (None, 1, 5, 8, 128)     0         \n",
      " g3D)                                                            \n",
      "                                                                 \n",
      " conv3d_42 (Conv3D)          (None, 1, 5, 8, 256)      884992    \n",
      "                                                                 \n",
      " activation_58 (Activation)  (None, 1, 5, 8, 256)      0         \n",
      "                                                                 \n",
      " max_pooling3d_42 (MaxPoolin  (None, 1, 3, 4, 256)     0         \n",
      " g3D)                                                            \n",
      "                                                                 \n",
      " flatten_8 (Flatten)         (None, 3072)              0         \n",
      "                                                                 \n",
      " dense_28 (Dense)            (None, 256)               786688    \n",
      "                                                                 \n",
      " dense_29 (Dense)            (None, 128)               32896     \n",
      "                                                                 \n",
      " dense_30 (Dense)            (None, 64)                8256      \n",
      "                                                                 \n",
      " activation_59 (Activation)  (None, 64)                0         \n",
      "                                                                 \n",
      " dropout_8 (Dropout)         (None, 64)                0         \n",
      "                                                                 \n",
      " dense_31 (Dense)            (None, 5)                 325       \n",
      "                                                                 \n",
      " activation_60 (Activation)  (None, 5)                 0         \n",
      "                                                                 \n",
      "=================================================================\n",
      "Total params: 2,101,381\n",
      "Trainable params: 2,101,381\n",
      "Non-trainable params: 0\n",
      "_________________________________________________________________\n"
     ]
    }
   ],
   "source": [
    "model_06 = prepare_conv3d_grayscale_model_05(num_classes, 1)\n",
    "optimizer = optimizers.adam_v2.Adam()\n",
    "model_06.compile(optimizer, loss='categorical_crossentropy', metrics=['categorical_accuracy'])\n",
    "model_06.summary()"
   ]
  },
  {
   "cell_type": "code",
   "execution_count": 73,
   "id": "7161b0ac",
   "metadata": {},
   "outputs": [
    {
     "name": "stdout",
     "output_type": "stream",
     "text": [
      "Epoch 1/20\n",
      "67/67 [==============================] - ETA: 0s - loss: 3.0135 - categorical_accuracy: 0.2413\n",
      "Epoch 00001: val_loss improved from inf to 1.65798, saving model to MODELS/model_init_2023-10-0319_29_14.465116/model-00001-3.01349-0.24133-1.65798-0.28000.h5\n",
      "67/67 [==============================] - 101s 2s/step - loss: 3.0135 - categorical_accuracy: 0.2413 - val_loss: 1.6580 - val_categorical_accuracy: 0.2800 - lr: 0.0010\n",
      "Epoch 2/20\n",
      "67/67 [==============================] - ETA: 0s - loss: 1.4902 - categorical_accuracy: 0.3303\n",
      "Epoch 00002: val_loss improved from 1.65798 to 1.30244, saving model to MODELS/model_init_2023-10-0319_29_14.465116/model-00002-1.49019-0.33032-1.30244-0.44000.h5\n",
      "67/67 [==============================] - 100s 2s/step - loss: 1.4902 - categorical_accuracy: 0.3303 - val_loss: 1.3024 - val_categorical_accuracy: 0.4400 - lr: 0.0010\n",
      "Epoch 3/20\n",
      "67/67 [==============================] - ETA: 0s - loss: 1.2697 - categorical_accuracy: 0.4329\n",
      "Epoch 00003: val_loss improved from 1.30244 to 0.99766, saving model to MODELS/model_init_2023-10-0319_29_14.465116/model-00003-1.26968-0.43288-0.99766-0.49000.h5\n",
      "67/67 [==============================] - 101s 2s/step - loss: 1.2697 - categorical_accuracy: 0.4329 - val_loss: 0.9977 - val_categorical_accuracy: 0.4900 - lr: 0.0010\n",
      "Epoch 4/20\n",
      "67/67 [==============================] - ETA: 0s - loss: 1.1491 - categorical_accuracy: 0.4992\n",
      "Epoch 00004: val_loss improved from 0.99766 to 0.92181, saving model to MODELS/model_init_2023-10-0319_29_14.465116/model-00004-1.14906-0.49925-0.92181-0.59000.h5\n",
      "67/67 [==============================] - 100s 2s/step - loss: 1.1491 - categorical_accuracy: 0.4992 - val_loss: 0.9218 - val_categorical_accuracy: 0.5900 - lr: 0.0010\n",
      "Epoch 5/20\n",
      "67/67 [==============================] - ETA: 0s - loss: 1.0731 - categorical_accuracy: 0.5566\n",
      "Epoch 00005: val_loss improved from 0.92181 to 0.91797, saving model to MODELS/model_init_2023-10-0319_29_14.465116/model-00005-1.07306-0.55656-0.91797-0.64000.h5\n",
      "67/67 [==============================] - 99s 2s/step - loss: 1.0731 - categorical_accuracy: 0.5566 - val_loss: 0.9180 - val_categorical_accuracy: 0.6400 - lr: 0.0010\n",
      "Epoch 6/20\n",
      "67/67 [==============================] - ETA: 0s - loss: 0.9466 - categorical_accuracy: 0.5943\n",
      "Epoch 00006: val_loss improved from 0.91797 to 0.85659, saving model to MODELS/model_init_2023-10-0319_29_14.465116/model-00006-0.94656-0.59427-0.85659-0.61000.h5\n",
      "67/67 [==============================] - 100s 2s/step - loss: 0.9466 - categorical_accuracy: 0.5943 - val_loss: 0.8566 - val_categorical_accuracy: 0.6100 - lr: 0.0010\n",
      "Epoch 7/20\n",
      "67/67 [==============================] - ETA: 0s - loss: 0.9202 - categorical_accuracy: 0.6154\n",
      "Epoch 00007: val_loss improved from 0.85659 to 0.76642, saving model to MODELS/model_init_2023-10-0319_29_14.465116/model-00007-0.92021-0.61538-0.76642-0.60000.h5\n",
      "67/67 [==============================] - 101s 2s/step - loss: 0.9202 - categorical_accuracy: 0.6154 - val_loss: 0.7664 - val_categorical_accuracy: 0.6000 - lr: 0.0010\n",
      "Epoch 8/20\n",
      "67/67 [==============================] - ETA: 0s - loss: 0.6782 - categorical_accuracy: 0.7240\n",
      "Epoch 00008: val_loss did not improve from 0.76642\n",
      "67/67 [==============================] - 99s 1s/step - loss: 0.6782 - categorical_accuracy: 0.7240 - val_loss: 0.9116 - val_categorical_accuracy: 0.6300 - lr: 0.0010\n",
      "Epoch 9/20\n",
      "67/67 [==============================] - ETA: 0s - loss: 0.6716 - categorical_accuracy: 0.7481\n",
      "Epoch 00009: val_loss improved from 0.76642 to 0.70127, saving model to MODELS/model_init_2023-10-0319_29_14.465116/model-00009-0.67156-0.74811-0.70127-0.69000.h5\n",
      "67/67 [==============================] - 100s 2s/step - loss: 0.6716 - categorical_accuracy: 0.7481 - val_loss: 0.7013 - val_categorical_accuracy: 0.6900 - lr: 0.0010\n",
      "Epoch 10/20\n",
      "67/67 [==============================] - ETA: 0s - loss: 0.5133 - categorical_accuracy: 0.8069\n",
      "Epoch 00010: val_loss improved from 0.70127 to 0.69474, saving model to MODELS/model_init_2023-10-0319_29_14.465116/model-00010-0.51330-0.80694-0.69474-0.71000.h5\n",
      "67/67 [==============================] - 100s 2s/step - loss: 0.5133 - categorical_accuracy: 0.8069 - val_loss: 0.6947 - val_categorical_accuracy: 0.7100 - lr: 0.0010\n",
      "Epoch 11/20\n",
      "67/67 [==============================] - ETA: 0s - loss: 0.4552 - categorical_accuracy: 0.8311\n",
      "Epoch 00011: val_loss improved from 0.69474 to 0.62075, saving model to MODELS/model_init_2023-10-0319_29_14.465116/model-00011-0.45521-0.83107-0.62075-0.70000.h5\n",
      "67/67 [==============================] - 100s 2s/step - loss: 0.4552 - categorical_accuracy: 0.8311 - val_loss: 0.6208 - val_categorical_accuracy: 0.7000 - lr: 0.0010\n",
      "Epoch 12/20\n",
      "67/67 [==============================] - ETA: 0s - loss: 0.3200 - categorical_accuracy: 0.8959\n",
      "Epoch 00012: val_loss did not improve from 0.62075\n",
      "67/67 [==============================] - 100s 2s/step - loss: 0.3200 - categorical_accuracy: 0.8959 - val_loss: 0.8104 - val_categorical_accuracy: 0.7300 - lr: 0.0010\n",
      "Epoch 13/20\n",
      "67/67 [==============================] - ETA: 0s - loss: 0.3077 - categorical_accuracy: 0.9005\n",
      "Epoch 00013: val_loss did not improve from 0.62075\n",
      "\n",
      "Epoch 00013: ReduceLROnPlateau reducing learning rate to 0.00020000000949949026.\n",
      "67/67 [==============================] - 99s 2s/step - loss: 0.3077 - categorical_accuracy: 0.9005 - val_loss: 0.6604 - val_categorical_accuracy: 0.7500 - lr: 0.0010\n",
      "Epoch 14/20\n",
      "67/67 [==============================] - ETA: 0s - loss: 0.1702 - categorical_accuracy: 0.9321\n",
      "Epoch 00014: val_loss did not improve from 0.62075\n",
      "67/67 [==============================] - 100s 2s/step - loss: 0.1702 - categorical_accuracy: 0.9321 - val_loss: 0.7383 - val_categorical_accuracy: 0.7800 - lr: 2.0000e-04\n",
      "Epoch 15/20\n",
      "67/67 [==============================] - ETA: 0s - loss: 0.0819 - categorical_accuracy: 0.9668\n",
      "Epoch 00015: val_loss did not improve from 0.62075\n",
      "\n",
      "Epoch 00015: ReduceLROnPlateau reducing learning rate to 4.0000001899898055e-05.\n",
      "67/67 [==============================] - 100s 2s/step - loss: 0.0819 - categorical_accuracy: 0.9668 - val_loss: 0.9395 - val_categorical_accuracy: 0.7900 - lr: 2.0000e-04\n",
      "Epoch 16/20\n",
      "67/67 [==============================] - ETA: 0s - loss: 0.0521 - categorical_accuracy: 0.9849\n",
      "Epoch 00016: val_loss improved from 0.62075 to 0.55794, saving model to MODELS/model_init_2023-10-0319_29_14.465116/model-00016-0.05209-0.98492-0.55794-0.82000.h5\n",
      "67/67 [==============================] - 99s 2s/step - loss: 0.0521 - categorical_accuracy: 0.9849 - val_loss: 0.5579 - val_categorical_accuracy: 0.8200 - lr: 4.0000e-05\n",
      "Epoch 17/20\n",
      "67/67 [==============================] - ETA: 0s - loss: 0.0457 - categorical_accuracy: 0.9910\n",
      "Epoch 00017: val_loss did not improve from 0.55794\n",
      "67/67 [==============================] - 100s 2s/step - loss: 0.0457 - categorical_accuracy: 0.9910 - val_loss: 0.6134 - val_categorical_accuracy: 0.8100 - lr: 4.0000e-05\n",
      "Epoch 18/20\n",
      "67/67 [==============================] - ETA: 0s - loss: 0.0352 - categorical_accuracy: 0.9910\n",
      "Epoch 00018: val_loss did not improve from 0.55794\n",
      "\n",
      "Epoch 00018: ReduceLROnPlateau reducing learning rate to 8.000000525498762e-06.\n",
      "67/67 [==============================] - 99s 2s/step - loss: 0.0352 - categorical_accuracy: 0.9910 - val_loss: 0.9153 - val_categorical_accuracy: 0.8000 - lr: 4.0000e-05\n",
      "Epoch 19/20\n",
      "67/67 [==============================] - ETA: 0s - loss: 0.0372 - categorical_accuracy: 0.9910\n",
      "Epoch 00019: val_loss did not improve from 0.55794\n",
      "67/67 [==============================] - 99s 2s/step - loss: 0.0372 - categorical_accuracy: 0.9910 - val_loss: 0.7402 - val_categorical_accuracy: 0.7800 - lr: 8.0000e-06\n",
      "Epoch 20/20\n",
      "67/67 [==============================] - ETA: 0s - loss: 0.0300 - categorical_accuracy: 0.9940\n",
      "Epoch 00020: val_loss improved from 0.55794 to 0.52398, saving model to MODELS/model_init_2023-10-0319_29_14.465116/model-00020-0.02999-0.99397-0.52398-0.83000.h5\n",
      "67/67 [==============================] - 100s 2s/step - loss: 0.0300 - categorical_accuracy: 0.9940 - val_loss: 0.5240 - val_categorical_accuracy: 0.8300 - lr: 8.0000e-06\n"
     ]
    }
   ],
   "source": [
    "#fit_generator is deprecated.. using model.fit with generator objects...\n",
    "history_06 = model_06.fit(x=training_data_gen, steps_per_epoch=steps_per_epoch, epochs=num_epochs, verbose=1,\n",
    "                       callbacks=callbacks_list, validation_data=validation_data_gen,\n",
    "                       validation_steps=validation_steps)"
   ]
  },
  {
   "cell_type": "code",
   "execution_count": 74,
   "id": "36446ea9",
   "metadata": {},
   "outputs": [
    {
     "data": {
      "image/png": "[encoded data removed]",
      "text/plain": [
       "<Figure size 576x576 with 2 Axes>"
      ]
     },
     "metadata": {
      "needs_background": "light"
     },
     "output_type": "display_data"
    }
   ],
   "source": [
    "visualize_outputs(history_06, epoch=num_epochs)"
   ]
  },
  {
   "cell_type": "code",
   "execution_count": null,
   "id": "158f3e9a",
   "metadata": {},
   "outputs": [],
   "source": []
  },
  {
   "cell_type": "markdown",
   "id": "8e2eb65a",
   "metadata": {},
   "source": [
    "#### Model 7 - CNN-RNN\n",
    "\n",
    "- Using Time Distributed CNN Layers, whose output is forwarded to a RNN layer (LSTM)"
   ]
  },
  {
   "cell_type": "code",
   "execution_count": 75,
   "id": "e3f44156",
   "metadata": {},
   "outputs": [],
   "source": [
    " def process_cnn_batch_data(source_path, t, batch, batch_size, num_frames, img_idx, height, width, channels=3, remaining_seq=0):\n",
    "    seq_len = remaining_seq if remaining_seq else batch_size\n",
    "    batch_data = np.zeros((seq_len, num_frames, height, width, channels))\n",
    "    batch_labels = np.zeros((seq_len, num_classes))\n",
    "\n",
    "    for folder in range(seq_len):\n",
    "        imgs = os.listdir(source_path+'/'+ t[folder + (batch*batch_size)].split(';')[0])\n",
    "        for idx,item in enumerate(img_idx):\n",
    "            image = imread(source_path+'/'+ t[folder + (batch*batch_size)].strip().split(';')[0]+'/'+imgs[item]).astype(np.float32)\n",
    "            image_resized=resize(image,(height, width, channels))\n",
    "\n",
    "            batch_data[folder,idx,:,:,0] = (image_resized[:,:,0])/255\n",
    "            batch_data[folder,idx,:,:,1] = (image_resized[:,:,1])/255\n",
    "            batch_data[folder,idx,:,:,2] = (image_resized[:,:,2])/255\n",
    "        batch_labels[folder, int(t[folder + (batch*batch_size)].strip().split(';')[2])] = 1\n",
    "    return(batch_data,batch_labels)"
   ]
  },
  {
   "cell_type": "code",
   "execution_count": 76,
   "id": "7ec88417",
   "metadata": {},
   "outputs": [],
   "source": [
    "def cnn_generator(source_path, folder_list, batch_size, num_frames, img_idx, height, width, channels=1):\n",
    "    #img_idx = np.round(np.linspace(0,total_frames-1,self.frames_to_sample)).astype(int)\n",
    "\n",
    "    while True:\n",
    "        t = np.random.permutation(folder_list)\n",
    "        num_batches = len(t)//batch_size\n",
    "\n",
    "        for batch in range(num_batches):\n",
    "            batch_data, batch_labels= process_cnn_batch_data(source_path, t, batch, batch_size, num_frames, img_idx, height, width, channels)\n",
    "            yield batch_data, batch_labels\n",
    "\n",
    "        remaining_seq=len(t)%batch_size\n",
    "\n",
    "        if (remaining_seq != 0):\n",
    "            batch_data, batch_labels= process_cnn_batch_data(source_path, t, num_batches, batch_size, num_frames, img_idx, height, width, channels, remaining_seq = remaining_seq)\n",
    "            yield batch_data, batch_labels"
   ]
  },
  {
   "cell_type": "code",
   "execution_count": 77,
   "id": "e3710289",
   "metadata": {},
   "outputs": [],
   "source": [
    "def get_rnn_cnn_model(num_classes, num_frames, height, width, channels):\n",
    "\n",
    "    model = Sequential()\n",
    "\n",
    "    model.add(TimeDistributed(Conv2D(16, (3, 3) , padding='same', activation='relu'),\n",
    "                              input_shape=(num_frames, height, width, channels)))\n",
    "    model.add(TimeDistributed(BatchNormalization()))\n",
    "    model.add(TimeDistributed(MaxPooling2D((2, 2))))\n",
    "\n",
    "    model.add(TimeDistributed(Conv2D(32, (3, 3) , padding='same', activation='relu')))\n",
    "    model.add(TimeDistributed(BatchNormalization()))\n",
    "    model.add(TimeDistributed(MaxPooling2D((2, 2))))\n",
    "\n",
    "    model.add(TimeDistributed(Conv2D(64, (3, 3) , padding='same', activation='relu')))\n",
    "    model.add(TimeDistributed(BatchNormalization()))\n",
    "    model.add(TimeDistributed(MaxPooling2D((2, 2))))\n",
    "\n",
    "    model.add(TimeDistributed(Conv2D(128, (3, 3) , padding='same', activation='relu')))\n",
    "    model.add(TimeDistributed(BatchNormalization()))\n",
    "    model.add(TimeDistributed(MaxPooling2D((2, 2))))\n",
    "\n",
    "    model.add(TimeDistributed(Conv2D(256, (3, 3) , padding='same', activation='relu')))\n",
    "    model.add(TimeDistributed(BatchNormalization()))\n",
    "    model.add(TimeDistributed(MaxPooling2D((2, 2))))\n",
    "\n",
    "    model.add(TimeDistributed(Flatten()))\n",
    "\n",
    "    model.add(keras.layers.LSTM(64))\n",
    "    model.add(Dropout(0.25))\n",
    "\n",
    "    model.add(Dense(64,activation='relu'))\n",
    "    model.add(Dropout(0.25))\n",
    "\n",
    "    model.add(Dense(num_classes, activation='softmax'))\n",
    "    return model"
   ]
  },
  {
   "cell_type": "code",
   "execution_count": 78,
   "id": "09ca1fb6",
   "metadata": {},
   "outputs": [],
   "source": [
    "height = 120 # image width\n",
    "width = 120 # image height\n",
    "\n",
    "num_images = 20\n",
    "batch_size = 30 #experiment with the batch size\n",
    "img_idx = np.round(np.linspace(0,total_frames-1,num_images)).astype(int)\n",
    "\n",
    "num_epochs = 20\n",
    "\n",
    "LrPlateau_patience = 2\n",
    "LrPlateau_mode = 'auto'\n",
    "LrPlateau_factor = 0.1\n",
    "LrPlateau_fmin_lr = 0.0001\n",
    "channels = 3"
   ]
  },
  {
   "cell_type": "code",
   "execution_count": 79,
   "id": "45f8fb4b",
   "metadata": {},
   "outputs": [],
   "source": [
    "IMG_SHAPE = (height, width, channels)"
   ]
  },
  {
   "cell_type": "code",
   "execution_count": 80,
   "id": "b2a1ef4a",
   "metadata": {},
   "outputs": [
    {
     "name": "stdout",
     "output_type": "stream",
     "text": [
      "WARNING:tensorflow:`period` argument is deprecated. Please use `save_freq` to specify the frequency in number of batches seen.\n"
     ]
    }
   ],
   "source": [
    "curr_dt_time = datetime.datetime.now()\n",
    "LR = ReduceLROnPlateau(monitor='val_loss',\n",
    "                       factor=LrPlateau_factor,\n",
    "                       patience=LrPlateau_patience,\n",
    "                       fmin_lr=LrPlateau_fmin_lr, verbose=1)\n",
    "\n",
    "callbacks_list = [model_callbacks(curr_dt_time, MODEL_SAVE_DIR), LR]\n",
    "steps_per_epoch, validation_steps = get_steps_info(len(train_doc), len(val_doc), batch_size)"
   ]
  },
  {
   "cell_type": "code",
   "execution_count": 81,
   "id": "e4f6caaa",
   "metadata": {},
   "outputs": [
    {
     "name": "stdout",
     "output_type": "stream",
     "text": [
      "Epochs 20\n",
      "steps_per_epoch 23\n",
      "validation_steps 4\n"
     ]
    }
   ],
   "source": [
    "print('Epochs', num_epochs)\n",
    "print('steps_per_epoch', steps_per_epoch)\n",
    "print('validation_steps', validation_steps)"
   ]
  },
  {
   "cell_type": "code",
   "execution_count": 82,
   "id": "ea922e52",
   "metadata": {},
   "outputs": [],
   "source": [
    "model_07 = get_rnn_cnn_model(num_classes, num_images, height, width, channels)"
   ]
  },
  {
   "cell_type": "code",
   "execution_count": 83,
   "id": "d3245e7a",
   "metadata": {},
   "outputs": [
    {
     "name": "stdout",
     "output_type": "stream",
     "text": [
      "Model: \"sequential_9\"\n",
      "_________________________________________________________________\n",
      " Layer (type)                Output Shape              Param #   \n",
      "=================================================================\n",
      " time_distributed (TimeDistr  (None, 20, 120, 120, 16)  448      \n",
      " ibuted)                                                         \n",
      "                                                                 \n",
      " time_distributed_1 (TimeDis  (None, 20, 120, 120, 16)  64       \n",
      " tributed)                                                       \n",
      "                                                                 \n",
      " time_distributed_2 (TimeDis  (None, 20, 60, 60, 16)   0         \n",
      " tributed)                                                       \n",
      "                                                                 \n",
      " time_distributed_3 (TimeDis  (None, 20, 60, 60, 32)   4640      \n",
      " tributed)                                                       \n",
      "                                                                 \n",
      " time_distributed_4 (TimeDis  (None, 20, 60, 60, 32)   128       \n",
      " tributed)                                                       \n",
      "                                                                 \n",
      " time_distributed_5 (TimeDis  (None, 20, 30, 30, 32)   0         \n",
      " tributed)                                                       \n",
      "                                                                 \n",
      " time_distributed_6 (TimeDis  (None, 20, 30, 30, 64)   18496     \n",
      " tributed)                                                       \n",
      "                                                                 \n",
      " time_distributed_7 (TimeDis  (None, 20, 30, 30, 64)   256       \n",
      " tributed)                                                       \n",
      "                                                                 \n",
      " time_distributed_8 (TimeDis  (None, 20, 15, 15, 64)   0         \n",
      " tributed)                                                       \n",
      "                                                                 \n",
      " time_distributed_9 (TimeDis  (None, 20, 15, 15, 128)  73856     \n",
      " tributed)                                                       \n",
      "                                                                 \n",
      " time_distributed_10 (TimeDi  (None, 20, 15, 15, 128)  512       \n",
      " stributed)                                                      \n",
      "                                                                 \n",
      " time_distributed_11 (TimeDi  (None, 20, 7, 7, 128)    0         \n",
      " stributed)                                                      \n",
      "                                                                 \n",
      " time_distributed_12 (TimeDi  (None, 20, 7, 7, 256)    295168    \n",
      " stributed)                                                      \n",
      "                                                                 \n",
      " time_distributed_13 (TimeDi  (None, 20, 7, 7, 256)    1024      \n",
      " stributed)                                                      \n",
      "                                                                 \n",
      " time_distributed_14 (TimeDi  (None, 20, 3, 3, 256)    0         \n",
      " stributed)                                                      \n",
      "                                                                 \n",
      " time_distributed_15 (TimeDi  (None, 20, 2304)         0         \n",
      " stributed)                                                      \n",
      "                                                                 \n",
      " lstm (LSTM)                 (None, 64)                606464    \n",
      "                                                                 \n",
      " dropout_9 (Dropout)         (None, 64)                0         \n",
      "                                                                 \n",
      " dense_32 (Dense)            (None, 64)                4160      \n",
      "                                                                 \n",
      " dropout_10 (Dropout)        (None, 64)                0         \n",
      "                                                                 \n",
      " dense_33 (Dense)            (None, 5)                 325       \n",
      "                                                                 \n",
      "=================================================================\n",
      "Total params: 1,005,541\n",
      "Trainable params: 1,004,549\n",
      "Non-trainable params: 992\n",
      "_________________________________________________________________\n"
     ]
    }
   ],
   "source": [
    "optimizer = optimizers.adam_v2.Adam()\n",
    "\n",
    "#optimizer = optimizers.Adam()\n",
    "model_07.compile(optimizer, loss='categorical_crossentropy', metrics=['categorical_accuracy'])\n",
    "model_07.summary()"
   ]
  },
  {
   "cell_type": "code",
   "execution_count": 84,
   "id": "2c298a27",
   "metadata": {},
   "outputs": [],
   "source": [
    "training_data_gen = cnn_generator(TRAIN_DIR, train_doc, batch_size, num_images, img_idx, height, width, channels=3)\n",
    "validation_data_gen = cnn_generator(VAL_DIR, val_doc, batch_size, num_images, img_idx, height, width, channels=3)"
   ]
  },
  {
   "cell_type": "code",
   "execution_count": 85,
   "id": "15511d1d",
   "metadata": {},
   "outputs": [
    {
     "name": "stdout",
     "output_type": "stream",
     "text": [
      "Epoch 1/20\n",
      "23/23 [==============================] - ETA: 0s - loss: 1.5010 - categorical_accuracy: 0.3379\n",
      "Epoch 00001: val_loss improved from inf to 1.62176, saving model to MODELS/model_init_2023-10-0320_02_36.988986/model-00001-1.50104-0.33786-1.62176-0.29000.h5\n",
      "23/23 [==============================] - 108s 5s/step - loss: 1.5010 - categorical_accuracy: 0.3379 - val_loss: 1.6218 - val_categorical_accuracy: 0.2900 - lr: 0.0010\n",
      "Epoch 2/20\n",
      "23/23 [==============================] - ETA: 0s - loss: 1.2386 - categorical_accuracy: 0.5143\n",
      "Epoch 00002: val_loss improved from 1.62176 to 1.58462, saving model to MODELS/model_init_2023-10-0320_02_36.988986/model-00002-1.23863-0.51433-1.58462-0.24000.h5\n",
      "23/23 [==============================] - 107s 5s/step - loss: 1.2386 - categorical_accuracy: 0.5143 - val_loss: 1.5846 - val_categorical_accuracy: 0.2400 - lr: 0.0010\n",
      "Epoch 3/20\n",
      "23/23 [==============================] - ETA: 0s - loss: 0.9685 - categorical_accuracy: 0.6742\n",
      "Epoch 00003: val_loss did not improve from 1.58462\n",
      "23/23 [==============================] - 107s 5s/step - loss: 0.9685 - categorical_accuracy: 0.6742 - val_loss: 2.0738 - val_categorical_accuracy: 0.2100 - lr: 0.0010\n",
      "Epoch 4/20\n",
      "23/23 [==============================] - ETA: 0s - loss: 0.8013 - categorical_accuracy: 0.7074\n",
      "Epoch 00004: val_loss did not improve from 1.58462\n",
      "\n",
      "Epoch 00004: ReduceLROnPlateau reducing learning rate to 0.00010000000474974513.\n",
      "23/23 [==============================] - 104s 5s/step - loss: 0.8013 - categorical_accuracy: 0.7074 - val_loss: 1.9999 - val_categorical_accuracy: 0.1900 - lr: 0.0010\n",
      "Epoch 5/20\n",
      "23/23 [==============================] - ETA: 0s - loss: 0.6944 - categorical_accuracy: 0.7707\n",
      "Epoch 00005: val_loss did not improve from 1.58462\n",
      "23/23 [==============================] - 105s 5s/step - loss: 0.6944 - categorical_accuracy: 0.7707 - val_loss: 1.9973 - val_categorical_accuracy: 0.2200 - lr: 1.0000e-04\n",
      "Epoch 6/20\n",
      "23/23 [==============================] - ETA: 0s - loss: 0.6231 - categorical_accuracy: 0.8039\n",
      "Epoch 00006: val_loss did not improve from 1.58462\n",
      "\n",
      "Epoch 00006: ReduceLROnPlateau reducing learning rate to 1.0000000474974514e-05.\n",
      "23/23 [==============================] - 106s 5s/step - loss: 0.6231 - categorical_accuracy: 0.8039 - val_loss: 1.9699 - val_categorical_accuracy: 0.2300 - lr: 1.0000e-04\n",
      "Epoch 7/20\n",
      "23/23 [==============================] - ETA: 0s - loss: 0.5716 - categorical_accuracy: 0.8190\n",
      "Epoch 00007: val_loss did not improve from 1.58462\n",
      "23/23 [==============================] - 107s 5s/step - loss: 0.5716 - categorical_accuracy: 0.8190 - val_loss: 1.9698 - val_categorical_accuracy: 0.2600 - lr: 1.0000e-05\n",
      "Epoch 8/20\n",
      "23/23 [==============================] - ETA: 0s - loss: 0.5263 - categorical_accuracy: 0.8477\n",
      "Epoch 00008: val_loss did not improve from 1.58462\n",
      "\n",
      "Epoch 00008: ReduceLROnPlateau reducing learning rate to 1.0000000656873453e-06.\n",
      "23/23 [==============================] - 104s 5s/step - loss: 0.5263 - categorical_accuracy: 0.8477 - val_loss: 2.1439 - val_categorical_accuracy: 0.2200 - lr: 1.0000e-05\n",
      "Epoch 9/20\n",
      "23/23 [==============================] - ETA: 0s - loss: 0.5676 - categorical_accuracy: 0.8401\n",
      "Epoch 00009: val_loss did not improve from 1.58462\n",
      "23/23 [==============================] - 106s 5s/step - loss: 0.5676 - categorical_accuracy: 0.8401 - val_loss: 2.1822 - val_categorical_accuracy: 0.2400 - lr: 1.0000e-06\n",
      "Epoch 10/20\n",
      "23/23 [==============================] - ETA: 0s - loss: 0.5427 - categorical_accuracy: 0.8341\n",
      "Epoch 00010: val_loss did not improve from 1.58462\n",
      "\n",
      "Epoch 00010: ReduceLROnPlateau reducing learning rate to 1.0000001111620805e-07.\n",
      "23/23 [==============================] - 106s 5s/step - loss: 0.5427 - categorical_accuracy: 0.8341 - val_loss: 2.2476 - val_categorical_accuracy: 0.2500 - lr: 1.0000e-06\n",
      "Epoch 11/20\n",
      "23/23 [==============================] - ETA: 0s - loss: 0.5429 - categorical_accuracy: 0.8431\n",
      "Epoch 00011: val_loss did not improve from 1.58462\n",
      "23/23 [==============================] - 106s 5s/step - loss: 0.5429 - categorical_accuracy: 0.8431 - val_loss: 2.2934 - val_categorical_accuracy: 0.2100 - lr: 1.0000e-07\n",
      "Epoch 12/20\n",
      "23/23 [==============================] - ETA: 0s - loss: 0.5180 - categorical_accuracy: 0.8371\n",
      "Epoch 00012: val_loss did not improve from 1.58462\n",
      "\n",
      "Epoch 00012: ReduceLROnPlateau reducing learning rate to 1.000000082740371e-08.\n",
      "23/23 [==============================] - 103s 5s/step - loss: 0.5180 - categorical_accuracy: 0.8371 - val_loss: 2.2212 - val_categorical_accuracy: 0.2900 - lr: 1.0000e-07\n",
      "Epoch 13/20\n",
      "23/23 [==============================] - ETA: 0s - loss: 0.5371 - categorical_accuracy: 0.8492\n",
      "Epoch 00013: val_loss did not improve from 1.58462\n",
      "23/23 [==============================] - 106s 5s/step - loss: 0.5371 - categorical_accuracy: 0.8492 - val_loss: 2.2712 - val_categorical_accuracy: 0.3100 - lr: 1.0000e-08\n",
      "Epoch 14/20\n",
      "23/23 [==============================] - ETA: 0s - loss: 0.5452 - categorical_accuracy: 0.8492\n",
      "Epoch 00014: val_loss did not improve from 1.58462\n",
      "\n",
      "Epoch 00014: ReduceLROnPlateau reducing learning rate to 1.000000082740371e-09.\n",
      "23/23 [==============================] - 107s 5s/step - loss: 0.5452 - categorical_accuracy: 0.8492 - val_loss: 1.9816 - val_categorical_accuracy: 0.3400 - lr: 1.0000e-08\n",
      "Epoch 15/20\n",
      "23/23 [==============================] - ETA: 0s - loss: 0.5223 - categorical_accuracy: 0.8627\n",
      "Epoch 00015: val_loss did not improve from 1.58462\n",
      "23/23 [==============================] - 107s 5s/step - loss: 0.5223 - categorical_accuracy: 0.8627 - val_loss: 2.1714 - val_categorical_accuracy: 0.3100 - lr: 1.0000e-09\n",
      "Epoch 16/20\n",
      "23/23 [==============================] - ETA: 0s - loss: 0.5537 - categorical_accuracy: 0.8371\n",
      "Epoch 00016: val_loss did not improve from 1.58462\n",
      "\n",
      "Epoch 00016: ReduceLROnPlateau reducing learning rate to 1.000000082740371e-10.\n",
      "23/23 [==============================] - 103s 5s/step - loss: 0.5537 - categorical_accuracy: 0.8371 - val_loss: 2.0556 - val_categorical_accuracy: 0.3500 - lr: 1.0000e-09\n",
      "Epoch 17/20\n",
      "23/23 [==============================] - ETA: 0s - loss: 0.5386 - categorical_accuracy: 0.8462\n",
      "Epoch 00017: val_loss did not improve from 1.58462\n",
      "23/23 [==============================] - 107s 5s/step - loss: 0.5386 - categorical_accuracy: 0.8462 - val_loss: 2.0478 - val_categorical_accuracy: 0.3800 - lr: 1.0000e-10\n",
      "Epoch 18/20\n",
      "23/23 [==============================] - ETA: 0s - loss: 0.5425 - categorical_accuracy: 0.8356\n",
      "Epoch 00018: val_loss did not improve from 1.58462\n",
      "\n",
      "Epoch 00018: ReduceLROnPlateau reducing learning rate to 1.000000082740371e-11.\n",
      "23/23 [==============================] - 106s 5s/step - loss: 0.5425 - categorical_accuracy: 0.8356 - val_loss: 1.9630 - val_categorical_accuracy: 0.4100 - lr: 1.0000e-10\n",
      "Epoch 19/20\n",
      "23/23 [==============================] - ETA: 0s - loss: 0.5541 - categorical_accuracy: 0.8265\n",
      "Epoch 00019: val_loss did not improve from 1.58462\n",
      "23/23 [==============================] - 105s 5s/step - loss: 0.5541 - categorical_accuracy: 0.8265 - val_loss: 1.8266 - val_categorical_accuracy: 0.3300 - lr: 1.0000e-11\n",
      "Epoch 20/20\n",
      "23/23 [==============================] - ETA: 0s - loss: 0.5400 - categorical_accuracy: 0.8341\n",
      "Epoch 00020: val_loss did not improve from 1.58462\n",
      "\n",
      "Epoch 00020: ReduceLROnPlateau reducing learning rate to 1.000000082740371e-12.\n",
      "23/23 [==============================] - 104s 5s/step - loss: 0.5400 - categorical_accuracy: 0.8341 - val_loss: 1.7382 - val_categorical_accuracy: 0.3600 - lr: 1.0000e-11\n"
     ]
    }
   ],
   "source": [
    "#fit_generator is deprecated.. using model.fit with generator objects...\n",
    "history_07 = model_07.fit(x=training_data_gen, steps_per_epoch=steps_per_epoch, epochs=num_epochs, verbose=1,\n",
    "                               callbacks=callbacks_list, validation_data=validation_data_gen,\n",
    "                               validation_steps=validation_steps)"
   ]
  },
  {
   "cell_type": "code",
   "execution_count": 86,
   "id": "ee7e622e",
   "metadata": {},
   "outputs": [
    {
     "data": {
      "image/png": "[encoded data removed]",
      "text/plain": [
       "<Figure size 576x576 with 2 Axes>"
      ]
     },
     "metadata": {
      "needs_background": "light"
     },
     "output_type": "display_data"
    }
   ],
   "source": [
    "visualize_outputs(history_07, epoch=num_epochs)"
   ]
  },
  {
   "cell_type": "code",
   "execution_count": null,
   "id": "0a6e1893",
   "metadata": {},
   "outputs": [],
   "source": []
  },
  {
   "cell_type": "code",
   "execution_count": null,
   "id": "58f50a72",
   "metadata": {},
   "outputs": [],
   "source": []
  },
  {
   "cell_type": "markdown",
   "id": "6379a3f4",
   "metadata": {},
   "source": [
    "#### MODEL-8 - GRU"
   ]
  },
  {
   "cell_type": "code",
   "execution_count": 87,
   "id": "a8eabfc7",
   "metadata": {},
   "outputs": [],
   "source": [
    "def get_rnn_cnn_model_gru(num_classes, num_frames, height, width, channels):\n",
    "\n",
    "    model = Sequential()\n",
    "\n",
    "    model.add(TimeDistributed(Conv2D(16, (3, 3) , padding='same', activation='relu'),\n",
    "                              input_shape=(num_frames, height, width, channels)))\n",
    "    model.add(TimeDistributed(BatchNormalization()))\n",
    "    model.add(TimeDistributed(MaxPooling2D((2, 2))))\n",
    "\n",
    "    model.add(TimeDistributed(Conv2D(32, (3, 3) , padding='same', activation='relu')))\n",
    "    model.add(TimeDistributed(BatchNormalization()))\n",
    "    model.add(TimeDistributed(MaxPooling2D((2, 2))))\n",
    "\n",
    "    model.add(TimeDistributed(Conv2D(64, (3, 3) , padding='same', activation='relu')))\n",
    "    model.add(TimeDistributed(BatchNormalization()))\n",
    "    model.add(TimeDistributed(MaxPooling2D((2, 2))))\n",
    "\n",
    "    model.add(TimeDistributed(Conv2D(128, (3, 3) , padding='same', activation='relu')))\n",
    "    model.add(TimeDistributed(BatchNormalization()))\n",
    "    model.add(TimeDistributed(MaxPooling2D((2, 2))))\n",
    "\n",
    "    model.add(TimeDistributed(Conv2D(256, (3, 3) , padding='same', activation='relu')))\n",
    "    model.add(TimeDistributed(BatchNormalization()))\n",
    "    model.add(TimeDistributed(MaxPooling2D((2, 2))))\n",
    "\n",
    "    model.add(TimeDistributed(Flatten()))\n",
    "\n",
    "    model.add(keras.layers.GRU(64))\n",
    "    model.add(Dropout(0.25))\n",
    "\n",
    "    model.add(Dense(64,activation='relu'))\n",
    "    model.add(Dropout(0.25))\n",
    "\n",
    "    model.add(Dense(num_classes, activation='softmax'))\n",
    "    return model"
   ]
  },
  {
   "cell_type": "code",
   "execution_count": 88,
   "id": "f9967aad",
   "metadata": {},
   "outputs": [],
   "source": [
    "height = 120 # image width\n",
    "width = 120 # image height\n",
    "\n",
    "num_images = 20\n",
    "batch_size = 30 #experiment with the batch size\n",
    "img_idx = np.round(np.linspace(0,total_frames-1,num_images)).astype(int)\n",
    "\n",
    "num_epochs = 20\n",
    "\n",
    "LrPlateau_patience = 2\n",
    "LrPlateau_mode = 'auto'\n",
    "LrPlateau_factor = 0.1\n",
    "LrPlateau_fmin_lr = 0.0001\n",
    "channels = 3\n",
    "\n",
    "IMG_SHAPE = (height, width, channels)"
   ]
  },
  {
   "cell_type": "code",
   "execution_count": 89,
   "id": "0bf47830",
   "metadata": {},
   "outputs": [
    {
     "name": "stdout",
     "output_type": "stream",
     "text": [
      "WARNING:tensorflow:`period` argument is deprecated. Please use `save_freq` to specify the frequency in number of batches seen.\n"
     ]
    }
   ],
   "source": [
    "curr_dt_time = datetime.datetime.now()\n",
    "LR = ReduceLROnPlateau(monitor='val_loss',\n",
    "                       factor=LrPlateau_factor,\n",
    "                       patience=LrPlateau_patience,\n",
    "                       fmin_lr=LrPlateau_fmin_lr, verbose=1)\n",
    "\n",
    "callbacks_list = [model_callbacks(curr_dt_time, MODEL_SAVE_DIR), LR]\n",
    "steps_per_epoch, validation_steps = get_steps_info(len(train_doc), len(val_doc), batch_size)"
   ]
  },
  {
   "cell_type": "code",
   "execution_count": 90,
   "id": "d3bd33e2",
   "metadata": {},
   "outputs": [
    {
     "name": "stdout",
     "output_type": "stream",
     "text": [
      "Epochs 20\n",
      "steps_per_epoch 23\n",
      "validation_steps 4\n"
     ]
    }
   ],
   "source": [
    "print('Epochs', num_epochs)\n",
    "print('steps_per_epoch', steps_per_epoch)\n",
    "print('validation_steps', validation_steps)"
   ]
  },
  {
   "cell_type": "code",
   "execution_count": 91,
   "id": "26cb8d79",
   "metadata": {},
   "outputs": [],
   "source": [
    "model_08 = get_rnn_cnn_model_gru(num_classes, num_images, height, width, channels)"
   ]
  },
  {
   "cell_type": "code",
   "execution_count": 92,
   "id": "fb513762",
   "metadata": {},
   "outputs": [
    {
     "name": "stdout",
     "output_type": "stream",
     "text": [
      "Model: \"sequential_10\"\n",
      "_________________________________________________________________\n",
      " Layer (type)                Output Shape              Param #   \n",
      "=================================================================\n",
      " time_distributed_16 (TimeDi  (None, 20, 120, 120, 16)  448      \n",
      " stributed)                                                      \n",
      "                                                                 \n",
      " time_distributed_17 (TimeDi  (None, 20, 120, 120, 16)  64       \n",
      " stributed)                                                      \n",
      "                                                                 \n",
      " time_distributed_18 (TimeDi  (None, 20, 60, 60, 16)   0         \n",
      " stributed)                                                      \n",
      "                                                                 \n",
      " time_distributed_19 (TimeDi  (None, 20, 60, 60, 32)   4640      \n",
      " stributed)                                                      \n",
      "                                                                 \n",
      " time_distributed_20 (TimeDi  (None, 20, 60, 60, 32)   128       \n",
      " stributed)                                                      \n",
      "                                                                 \n",
      " time_distributed_21 (TimeDi  (None, 20, 30, 30, 32)   0         \n",
      " stributed)                                                      \n",
      "                                                                 \n",
      " time_distributed_22 (TimeDi  (None, 20, 30, 30, 64)   18496     \n",
      " stributed)                                                      \n",
      "                                                                 \n",
      " time_distributed_23 (TimeDi  (None, 20, 30, 30, 64)   256       \n",
      " stributed)                                                      \n",
      "                                                                 \n",
      " time_distributed_24 (TimeDi  (None, 20, 15, 15, 64)   0         \n",
      " stributed)                                                      \n",
      "                                                                 \n",
      " time_distributed_25 (TimeDi  (None, 20, 15, 15, 128)  73856     \n",
      " stributed)                                                      \n",
      "                                                                 \n",
      " time_distributed_26 (TimeDi  (None, 20, 15, 15, 128)  512       \n",
      " stributed)                                                      \n",
      "                                                                 \n",
      " time_distributed_27 (TimeDi  (None, 20, 7, 7, 128)    0         \n",
      " stributed)                                                      \n",
      "                                                                 \n",
      " time_distributed_28 (TimeDi  (None, 20, 7, 7, 256)    295168    \n",
      " stributed)                                                      \n",
      "                                                                 \n",
      " time_distributed_29 (TimeDi  (None, 20, 7, 7, 256)    1024      \n",
      " stributed)                                                      \n",
      "                                                                 \n",
      " time_distributed_30 (TimeDi  (None, 20, 3, 3, 256)    0         \n",
      " stributed)                                                      \n",
      "                                                                 \n",
      " time_distributed_31 (TimeDi  (None, 20, 2304)         0         \n",
      " stributed)                                                      \n",
      "                                                                 \n",
      " gru (GRU)                   (None, 64)                455040    \n",
      "                                                                 \n",
      " dropout_11 (Dropout)        (None, 64)                0         \n",
      "                                                                 \n",
      " dense_34 (Dense)            (None, 64)                4160      \n",
      "                                                                 \n",
      " dropout_12 (Dropout)        (None, 64)                0         \n",
      "                                                                 \n",
      " dense_35 (Dense)            (None, 5)                 325       \n",
      "                                                                 \n",
      "=================================================================\n",
      "Total params: 854,117\n",
      "Trainable params: 853,125\n",
      "Non-trainable params: 992\n",
      "_________________________________________________________________\n"
     ]
    }
   ],
   "source": [
    "optimizer = optimizers.adam_v2.Adam()\n",
    "#optimizer = optimizers.Adam()\n",
    "model_08.compile(optimizer, loss='categorical_crossentropy', metrics=['categorical_accuracy'])\n",
    "model_08.summary()"
   ]
  },
  {
   "cell_type": "code",
   "execution_count": 93,
   "id": "328b0509",
   "metadata": {},
   "outputs": [],
   "source": [
    "training_data_gen = cnn_generator(TRAIN_DIR, train_doc, batch_size, num_images, img_idx, height, width, channels=3)\n",
    "validation_data_gen = cnn_generator(VAL_DIR, val_doc, batch_size, num_images, img_idx, height, width, channels=3)"
   ]
  },
  {
   "cell_type": "code",
   "execution_count": 94,
   "id": "6fbe99cd",
   "metadata": {},
   "outputs": [
    {
     "name": "stdout",
     "output_type": "stream",
     "text": [
      "Epoch 1/20\n",
      "23/23 [==============================] - ETA: 0s - loss: 1.3861 - categorical_accuracy: 0.4238\n",
      "Epoch 00001: val_loss improved from inf to 1.81395, saving model to MODELS/model_init_2023-10-0320_37_57.778267/model-00001-1.38612-0.42383-1.81395-0.21000.h5\n",
      "23/23 [==============================] - 111s 5s/step - loss: 1.3861 - categorical_accuracy: 0.4238 - val_loss: 1.8139 - val_categorical_accuracy: 0.2100 - lr: 0.0010\n",
      "Epoch 2/20\n",
      "23/23 [==============================] - ETA: 0s - loss: 1.0591 - categorical_accuracy: 0.5837\n",
      "Epoch 00002: val_loss did not improve from 1.81395\n",
      "23/23 [==============================] - 106s 5s/step - loss: 1.0591 - categorical_accuracy: 0.5837 - val_loss: 1.9043 - val_categorical_accuracy: 0.2600 - lr: 0.0010\n",
      "Epoch 3/20\n",
      "23/23 [==============================] - ETA: 0s - loss: 0.8946 - categorical_accuracy: 0.6440\n",
      "Epoch 00003: val_loss did not improve from 1.81395\n",
      "\n",
      "Epoch 00003: ReduceLROnPlateau reducing learning rate to 0.00010000000474974513.\n",
      "23/23 [==============================] - 107s 5s/step - loss: 0.8946 - categorical_accuracy: 0.6440 - val_loss: 2.0288 - val_categorical_accuracy: 0.1800 - lr: 0.0010\n",
      "Epoch 4/20\n",
      "23/23 [==============================] - ETA: 0s - loss: 0.7785 - categorical_accuracy: 0.7029\n",
      "Epoch 00004: val_loss did not improve from 1.81395\n",
      "23/23 [==============================] - 104s 5s/step - loss: 0.7785 - categorical_accuracy: 0.7029 - val_loss: 2.0047 - val_categorical_accuracy: 0.2300 - lr: 1.0000e-04\n",
      "Epoch 5/20\n",
      "23/23 [==============================] - ETA: 0s - loss: 0.6836 - categorical_accuracy: 0.7481\n",
      "Epoch 00005: val_loss did not improve from 1.81395\n",
      "\n",
      "Epoch 00005: ReduceLROnPlateau reducing learning rate to 1.0000000474974514e-05.\n",
      "23/23 [==============================] - 107s 5s/step - loss: 0.6836 - categorical_accuracy: 0.7481 - val_loss: 2.0354 - val_categorical_accuracy: 0.2100 - lr: 1.0000e-04\n",
      "Epoch 6/20\n",
      "23/23 [==============================] - ETA: 0s - loss: 0.6082 - categorical_accuracy: 0.7919\n",
      "Epoch 00006: val_loss did not improve from 1.81395\n",
      "23/23 [==============================] - 106s 5s/step - loss: 0.6082 - categorical_accuracy: 0.7919 - val_loss: 1.8886 - val_categorical_accuracy: 0.2200 - lr: 1.0000e-05\n",
      "Epoch 7/20\n",
      "23/23 [==============================] - ETA: 0s - loss: 0.5732 - categorical_accuracy: 0.7903\n",
      "Epoch 00007: val_loss did not improve from 1.81395\n",
      "\n",
      "Epoch 00007: ReduceLROnPlateau reducing learning rate to 1.0000000656873453e-06.\n",
      "23/23 [==============================] - 106s 5s/step - loss: 0.5732 - categorical_accuracy: 0.7903 - val_loss: 2.0890 - val_categorical_accuracy: 0.2200 - lr: 1.0000e-05\n",
      "Epoch 8/20\n",
      "23/23 [==============================] - ETA: 0s - loss: 0.5719 - categorical_accuracy: 0.7919\n",
      "Epoch 00008: val_loss did not improve from 1.81395\n",
      "23/23 [==============================] - 104s 5s/step - loss: 0.5719 - categorical_accuracy: 0.7919 - val_loss: 1.9666 - val_categorical_accuracy: 0.2000 - lr: 1.0000e-06\n",
      "Epoch 9/20\n",
      "23/23 [==============================] - ETA: 0s - loss: 0.6059 - categorical_accuracy: 0.7662\n",
      "Epoch 00009: val_loss did not improve from 1.81395\n",
      "\n",
      "Epoch 00009: ReduceLROnPlateau reducing learning rate to 1.0000001111620805e-07.\n",
      "23/23 [==============================] - 107s 5s/step - loss: 0.6059 - categorical_accuracy: 0.7662 - val_loss: 1.9215 - val_categorical_accuracy: 0.2200 - lr: 1.0000e-06\n",
      "Epoch 10/20\n",
      "23/23 [==============================] - ETA: 0s - loss: 0.5981 - categorical_accuracy: 0.7994\n",
      "Epoch 00010: val_loss did not improve from 1.81395\n",
      "23/23 [==============================] - 106s 5s/step - loss: 0.5981 - categorical_accuracy: 0.7994 - val_loss: 1.9538 - val_categorical_accuracy: 0.2400 - lr: 1.0000e-07\n",
      "Epoch 11/20\n",
      "23/23 [==============================] - ETA: 0s - loss: 0.5832 - categorical_accuracy: 0.7919\n",
      "Epoch 00011: val_loss did not improve from 1.81395\n",
      "\n",
      "Epoch 00011: ReduceLROnPlateau reducing learning rate to 1.000000082740371e-08.\n",
      "23/23 [==============================] - 107s 5s/step - loss: 0.5832 - categorical_accuracy: 0.7919 - val_loss: 1.8798 - val_categorical_accuracy: 0.2400 - lr: 1.0000e-07\n",
      "Epoch 12/20\n",
      "23/23 [==============================] - ETA: 0s - loss: 0.5915 - categorical_accuracy: 0.8024\n",
      "Epoch 00012: val_loss did not improve from 1.81395\n",
      "23/23 [==============================] - 102s 5s/step - loss: 0.5915 - categorical_accuracy: 0.8024 - val_loss: 1.8381 - val_categorical_accuracy: 0.3200 - lr: 1.0000e-08\n",
      "Epoch 13/20\n",
      "23/23 [==============================] - ETA: 0s - loss: 0.6024 - categorical_accuracy: 0.8039\n",
      "Epoch 00013: val_loss did not improve from 1.81395\n",
      "\n",
      "Epoch 00013: ReduceLROnPlateau reducing learning rate to 1.000000082740371e-09.\n",
      "23/23 [==============================] - 107s 5s/step - loss: 0.6024 - categorical_accuracy: 0.8039 - val_loss: 1.8175 - val_categorical_accuracy: 0.3100 - lr: 1.0000e-08\n",
      "Epoch 14/20\n",
      "23/23 [==============================] - ETA: 0s - loss: 0.6122 - categorical_accuracy: 0.7843\n",
      "Epoch 00014: val_loss improved from 1.81395 to 1.73610, saving model to MODELS/model_init_2023-10-0320_37_57.778267/model-00014-0.61224-0.78431-1.73610-0.28000.h5\n",
      "23/23 [==============================] - 106s 5s/step - loss: 0.6122 - categorical_accuracy: 0.7843 - val_loss: 1.7361 - val_categorical_accuracy: 0.2800 - lr: 1.0000e-09\n",
      "Epoch 15/20\n",
      "23/23 [==============================] - ETA: 0s - loss: 0.5981 - categorical_accuracy: 0.7828\n",
      "Epoch 00015: val_loss did not improve from 1.73610\n",
      "23/23 [==============================] - 106s 5s/step - loss: 0.5981 - categorical_accuracy: 0.7828 - val_loss: 1.7644 - val_categorical_accuracy: 0.3000 - lr: 1.0000e-09\n",
      "Epoch 16/20\n",
      "23/23 [==============================] - ETA: 0s - loss: 0.6039 - categorical_accuracy: 0.7783\n",
      "Epoch 00016: val_loss improved from 1.73610 to 1.69103, saving model to MODELS/model_init_2023-10-0320_37_57.778267/model-00016-0.60389-0.77828-1.69103-0.32000.h5\n",
      "23/23 [==============================] - 104s 5s/step - loss: 0.6039 - categorical_accuracy: 0.7783 - val_loss: 1.6910 - val_categorical_accuracy: 0.3200 - lr: 1.0000e-09\n",
      "Epoch 17/20\n",
      "23/23 [==============================] - ETA: 0s - loss: 0.5875 - categorical_accuracy: 0.8024\n",
      "Epoch 00017: val_loss did not improve from 1.69103\n",
      "23/23 [==============================] - 107s 5s/step - loss: 0.5875 - categorical_accuracy: 0.8024 - val_loss: 1.6958 - val_categorical_accuracy: 0.3100 - lr: 1.0000e-09\n",
      "Epoch 18/20\n",
      "23/23 [==============================] - ETA: 0s - loss: 0.5796 - categorical_accuracy: 0.7903\n",
      "Epoch 00018: val_loss improved from 1.69103 to 1.62422, saving model to MODELS/model_init_2023-10-0320_37_57.778267/model-00018-0.57965-0.79035-1.62422-0.33000.h5\n",
      "23/23 [==============================] - 106s 5s/step - loss: 0.5796 - categorical_accuracy: 0.7903 - val_loss: 1.6242 - val_categorical_accuracy: 0.3300 - lr: 1.0000e-09\n",
      "Epoch 19/20\n",
      "23/23 [==============================] - ETA: 0s - loss: 0.6201 - categorical_accuracy: 0.7843\n",
      "Epoch 00019: val_loss improved from 1.62422 to 1.52542, saving model to MODELS/model_init_2023-10-0320_37_57.778267/model-00019-0.62008-0.78431-1.52542-0.42000.h5\n",
      "23/23 [==============================] - 107s 5s/step - loss: 0.6201 - categorical_accuracy: 0.7843 - val_loss: 1.5254 - val_categorical_accuracy: 0.4200 - lr: 1.0000e-09\n",
      "Epoch 20/20\n",
      "23/23 [==============================] - ETA: 0s - loss: 0.5939 - categorical_accuracy: 0.7903\n",
      "Epoch 00020: val_loss did not improve from 1.52542\n",
      "23/23 [==============================] - 103s 5s/step - loss: 0.5939 - categorical_accuracy: 0.7903 - val_loss: 1.5774 - val_categorical_accuracy: 0.4200 - lr: 1.0000e-09\n"
     ]
    }
   ],
   "source": [
    "#fit_generator is deprecated.. using model.fit with generator objects...\n",
    "history_08 = model_08.fit(x=training_data_gen, steps_per_epoch=steps_per_epoch, epochs=num_epochs, verbose=1,\n",
    "                                   callbacks=callbacks_list, validation_data=validation_data_gen,\n",
    "                                   validation_steps=validation_steps)"
   ]
  },
  {
   "cell_type": "code",
   "execution_count": 95,
   "id": "59ba3ec4",
   "metadata": {},
   "outputs": [
    {
     "data": {
      "image/png": "[encoded data removed]",
      "text/plain": [
       "<Figure size 576x576 with 2 Axes>"
      ]
     },
     "metadata": {
      "needs_background": "light"
     },
     "output_type": "display_data"
    }
   ],
   "source": [
    "visualize_outputs(history_08, epoch=num_epochs)"
   ]
  },
  {
   "cell_type": "code",
   "execution_count": null,
   "id": "53605708",
   "metadata": {},
   "outputs": [],
   "source": []
  },
  {
   "cell_type": "code",
   "execution_count": null,
   "id": "5a1ec273",
   "metadata": {},
   "outputs": [],
   "source": []
  },
  {
   "cell_type": "markdown",
   "id": "f69f20d5",
   "metadata": {},
   "source": [
    "#### MODEL 09- CNN-RNN - Transfer Learning (Mobilenet)"
   ]
  },
  {
   "cell_type": "code",
   "execution_count": null,
   "id": "50dc937a",
   "metadata": {},
   "outputs": [],
   "source": []
  },
  {
   "cell_type": "code",
   "execution_count": 96,
   "id": "56b664df",
   "metadata": {},
   "outputs": [],
   "source": [
    "def get_lstm_model_with_transfer_learning(cnn_model, num_classes, num_images, height, width, channels):\n",
    "    model = Sequential()\n",
    "    model.add(TimeDistributed(cnn_model, input_shape=(num_images, height, width, channels)))\n",
    "\n",
    "    for each_layer in model.layers:\n",
    "        each_layer.trainable = False\n",
    "\n",
    "    model.add(TimeDistributed(BatchNormalization()))\n",
    "    model.add(TimeDistributed(MaxPooling2D((2,2))))\n",
    "    model.add(TimeDistributed(Flatten()))\n",
    "\n",
    "    model.add(keras.layers.LSTM(128))\n",
    "    model.add(Dropout(0.25))\n",
    "\n",
    "    model.add(Dense(num_classes, activation='softmax'))\n",
    "\n",
    "    return model"
   ]
  },
  {
   "cell_type": "code",
   "execution_count": 97,
   "id": "de25cbed",
   "metadata": {},
   "outputs": [],
   "source": [
    "height = 120 # image width\n",
    "width = 120 # image height\n",
    "\n",
    "num_images = 20\n",
    "batch_size = 30 #experiment with the batch size\n",
    "img_idx = np.round(np.linspace(0,total_frames-1,num_images)).astype(int)\n",
    "\n",
    "num_epochs = 20\n",
    "\n",
    "LrPlateau_patience = 2\n",
    "LrPlateau_mode = 'auto'\n",
    "LrPlateau_factor = 0.1\n",
    "LrPlateau_fmin_lr = 0.0001\n",
    "channels = 3\n",
    "\n",
    "IMG_SHAPE = (height, width, channels)"
   ]
  },
  {
   "cell_type": "code",
   "execution_count": 98,
   "id": "61e4c133",
   "metadata": {},
   "outputs": [
    {
     "name": "stdout",
     "output_type": "stream",
     "text": [
      "WARNING:tensorflow:`period` argument is deprecated. Please use `save_freq` to specify the frequency in number of batches seen.\n"
     ]
    }
   ],
   "source": [
    "curr_dt_time = datetime.datetime.now()\n",
    "LR = ReduceLROnPlateau(monitor='val_loss',\n",
    "                       factor=LrPlateau_factor,\n",
    "                       patience=LrPlateau_patience,\n",
    "                       fmin_lr=LrPlateau_fmin_lr, verbose=1)\n",
    "\n",
    "callbacks_list = [model_callbacks(curr_dt_time, MODEL_SAVE_DIR), LR]\n",
    "steps_per_epoch, validation_steps = get_steps_info(len(train_doc), len(val_doc), batch_size)"
   ]
  },
  {
   "cell_type": "code",
   "execution_count": 99,
   "id": "68befd58",
   "metadata": {},
   "outputs": [
    {
     "name": "stdout",
     "output_type": "stream",
     "text": [
      "Epochs 20\n",
      "steps_per_epoch 23\n",
      "validation_steps 4\n"
     ]
    }
   ],
   "source": [
    "print('Epochs', num_epochs)\n",
    "print('steps_per_epoch', steps_per_epoch)\n",
    "print('validation_steps', validation_steps)"
   ]
  },
  {
   "cell_type": "code",
   "execution_count": 100,
   "id": "0de83143",
   "metadata": {},
   "outputs": [
    {
     "name": "stdout",
     "output_type": "stream",
     "text": [
      "WARNING:tensorflow:`input_shape` is undefined or non-square, or `rows` is not in [128, 160, 192, 224]. Weights for input shape (224, 224) will be loaded as the default.\n"
     ]
    }
   ],
   "source": [
    "mobilenet_model = tf.keras.applications.MobileNet(weights='imagenet', include_top=False)"
   ]
  },
  {
   "cell_type": "code",
   "execution_count": 101,
   "id": "e4a81b2d",
   "metadata": {},
   "outputs": [],
   "source": [
    "model_09 = get_lstm_model_with_transfer_learning(mobilenet_model, num_classes, num_images, height, width, channels)"
   ]
  },
  {
   "cell_type": "code",
   "execution_count": 102,
   "id": "fc20de47",
   "metadata": {},
   "outputs": [
    {
     "name": "stdout",
     "output_type": "stream",
     "text": [
      "Model: \"sequential_11\"\n",
      "_________________________________________________________________\n",
      " Layer (type)                Output Shape              Param #   \n",
      "=================================================================\n",
      " time_distributed_32 (TimeDi  (None, 20, 3, 3, 1024)   3228864   \n",
      " stributed)                                                      \n",
      "                                                                 \n",
      " time_distributed_33 (TimeDi  (None, 20, 3, 3, 1024)   4096      \n",
      " stributed)                                                      \n",
      "                                                                 \n",
      " time_distributed_34 (TimeDi  (None, 20, 1, 1, 1024)   0         \n",
      " stributed)                                                      \n",
      "                                                                 \n",
      " time_distributed_35 (TimeDi  (None, 20, 1024)         0         \n",
      " stributed)                                                      \n",
      "                                                                 \n",
      " lstm_1 (LSTM)               (None, 128)               590336    \n",
      "                                                                 \n",
      " dropout_13 (Dropout)        (None, 128)               0         \n",
      "                                                                 \n",
      " dense_36 (Dense)            (None, 5)                 645       \n",
      "                                                                 \n",
      "=================================================================\n",
      "Total params: 3,823,941\n",
      "Trainable params: 593,029\n",
      "Non-trainable params: 3,230,912\n",
      "_________________________________________________________________\n"
     ]
    }
   ],
   "source": [
    "optimizer = optimizers.adam_v2.Adam()\n",
    "#optimizer = optimizers.Adam()\n",
    "model_09.compile(optimizer, loss='categorical_crossentropy', metrics=['categorical_accuracy'])\n",
    "model_09.summary()"
   ]
  },
  {
   "cell_type": "code",
   "execution_count": 103,
   "id": "21433a9f",
   "metadata": {},
   "outputs": [],
   "source": [
    "training_data_gen = cnn_generator(TRAIN_DIR, train_doc, batch_size, num_images, img_idx, height, width, channels=3)\n",
    "validation_data_gen = cnn_generator(VAL_DIR, val_doc, batch_size, num_images, img_idx, height, width, channels=3)"
   ]
  },
  {
   "cell_type": "code",
   "execution_count": 104,
   "id": "0fbe327f",
   "metadata": {},
   "outputs": [
    {
     "name": "stdout",
     "output_type": "stream",
     "text": [
      "Epoch 1/20\n",
      "23/23 [==============================] - ETA: 0s - loss: 1.2720 - categorical_accuracy: 0.4887\n",
      "Epoch 00001: val_loss improved from inf to 1.01681, saving model to MODELS/model_init_2023-10-0321_13_18.931292/model-00001-1.27205-0.48869-1.01681-0.65000.h5\n",
      "23/23 [==============================] - 111s 5s/step - loss: 1.2720 - categorical_accuracy: 0.4887 - val_loss: 1.0168 - val_categorical_accuracy: 0.6500 - lr: 0.0010\n",
      "Epoch 2/20\n",
      "23/23 [==============================] - ETA: 0s - loss: 0.4722 - categorical_accuracy: 0.8778\n",
      "Epoch 00002: val_loss improved from 1.01681 to 0.69667, saving model to MODELS/model_init_2023-10-0321_13_18.931292/model-00002-0.47218-0.87783-0.69667-0.76000.h5\n",
      "23/23 [==============================] - 106s 5s/step - loss: 0.4722 - categorical_accuracy: 0.8778 - val_loss: 0.6967 - val_categorical_accuracy: 0.7600 - lr: 0.0010\n",
      "Epoch 3/20\n",
      "23/23 [==============================] - ETA: 0s - loss: 0.2109 - categorical_accuracy: 0.9623\n",
      "Epoch 00003: val_loss improved from 0.69667 to 0.55382, saving model to MODELS/model_init_2023-10-0321_13_18.931292/model-00003-0.21087-0.96229-0.55382-0.77000.h5\n",
      "23/23 [==============================] - 107s 5s/step - loss: 0.2109 - categorical_accuracy: 0.9623 - val_loss: 0.5538 - val_categorical_accuracy: 0.7700 - lr: 0.0010\n",
      "Epoch 4/20\n",
      "23/23 [==============================] - ETA: 0s - loss: 0.1066 - categorical_accuracy: 0.9879\n",
      "Epoch 00004: val_loss improved from 0.55382 to 0.55378, saving model to MODELS/model_init_2023-10-0321_13_18.931292/model-00004-0.10660-0.98793-0.55378-0.79000.h5\n",
      "23/23 [==============================] - 103s 5s/step - loss: 0.1066 - categorical_accuracy: 0.9879 - val_loss: 0.5538 - val_categorical_accuracy: 0.7900 - lr: 0.0010\n",
      "Epoch 5/20\n",
      "23/23 [==============================] - ETA: 0s - loss: 0.0621 - categorical_accuracy: 0.9985\n",
      "Epoch 00005: val_loss improved from 0.55378 to 0.53137, saving model to MODELS/model_init_2023-10-0321_13_18.931292/model-00005-0.06213-0.99849-0.53137-0.80000.h5\n",
      "23/23 [==============================] - 107s 5s/step - loss: 0.0621 - categorical_accuracy: 0.9985 - val_loss: 0.5314 - val_categorical_accuracy: 0.8000 - lr: 0.0010\n",
      "Epoch 6/20\n",
      "23/23 [==============================] - ETA: 0s - loss: 0.0346 - categorical_accuracy: 1.0000\n",
      "Epoch 00006: val_loss improved from 0.53137 to 0.51093, saving model to MODELS/model_init_2023-10-0321_13_18.931292/model-00006-0.03464-1.00000-0.51093-0.79000.h5\n",
      "23/23 [==============================] - 105s 5s/step - loss: 0.0346 - categorical_accuracy: 1.0000 - val_loss: 0.5109 - val_categorical_accuracy: 0.7900 - lr: 0.0010\n",
      "Epoch 7/20\n",
      "23/23 [==============================] - ETA: 0s - loss: 0.0259 - categorical_accuracy: 1.0000\n",
      "Epoch 00007: val_loss did not improve from 0.51093\n",
      "23/23 [==============================] - 107s 5s/step - loss: 0.0259 - categorical_accuracy: 1.0000 - val_loss: 0.5447 - val_categorical_accuracy: 0.7600 - lr: 0.0010\n",
      "Epoch 8/20\n",
      "23/23 [==============================] - ETA: 0s - loss: 0.0187 - categorical_accuracy: 1.0000\n",
      "Epoch 00008: val_loss improved from 0.51093 to 0.47925, saving model to MODELS/model_init_2023-10-0321_13_18.931292/model-00008-0.01871-1.00000-0.47925-0.79000.h5\n",
      "23/23 [==============================] - 104s 5s/step - loss: 0.0187 - categorical_accuracy: 1.0000 - val_loss: 0.4793 - val_categorical_accuracy: 0.7900 - lr: 0.0010\n",
      "Epoch 9/20\n",
      "23/23 [==============================] - ETA: 0s - loss: 0.0141 - categorical_accuracy: 1.0000\n",
      "Epoch 00009: val_loss did not improve from 0.47925\n",
      "23/23 [==============================] - 106s 5s/step - loss: 0.0141 - categorical_accuracy: 1.0000 - val_loss: 0.5236 - val_categorical_accuracy: 0.8100 - lr: 0.0010\n",
      "Epoch 10/20\n",
      "23/23 [==============================] - ETA: 0s - loss: 0.0099 - categorical_accuracy: 1.0000\n",
      "Epoch 00010: val_loss did not improve from 0.47925\n",
      "\n",
      "Epoch 00010: ReduceLROnPlateau reducing learning rate to 0.00010000000474974513.\n",
      "23/23 [==============================] - 107s 5s/step - loss: 0.0099 - categorical_accuracy: 1.0000 - val_loss: 0.5572 - val_categorical_accuracy: 0.7600 - lr: 0.0010\n",
      "Epoch 11/20\n",
      "23/23 [==============================] - ETA: 0s - loss: 0.0084 - categorical_accuracy: 1.0000\n",
      "Epoch 00011: val_loss improved from 0.47925 to 0.42163, saving model to MODELS/model_init_2023-10-0321_13_18.931292/model-00011-0.00843-1.00000-0.42163-0.84000.h5\n",
      "23/23 [==============================] - 106s 5s/step - loss: 0.0084 - categorical_accuracy: 1.0000 - val_loss: 0.4216 - val_categorical_accuracy: 0.8400 - lr: 1.0000e-04\n",
      "Epoch 12/20\n",
      "23/23 [==============================] - ETA: 0s - loss: 0.0077 - categorical_accuracy: 1.0000\n",
      "Epoch 00012: val_loss did not improve from 0.42163\n",
      "23/23 [==============================] - 104s 5s/step - loss: 0.0077 - categorical_accuracy: 1.0000 - val_loss: 0.5312 - val_categorical_accuracy: 0.7800 - lr: 1.0000e-04\n",
      "Epoch 13/20\n",
      "23/23 [==============================] - ETA: 0s - loss: 0.0088 - categorical_accuracy: 1.0000\n",
      "Epoch 00013: val_loss did not improve from 0.42163\n",
      "\n",
      "Epoch 00013: ReduceLROnPlateau reducing learning rate to 1.0000000474974514e-05.\n",
      "23/23 [==============================] - 107s 5s/step - loss: 0.0088 - categorical_accuracy: 1.0000 - val_loss: 0.4935 - val_categorical_accuracy: 0.8100 - lr: 1.0000e-04\n",
      "Epoch 14/20\n",
      "23/23 [==============================] - ETA: 0s - loss: 0.0073 - categorical_accuracy: 1.0000\n",
      "Epoch 00014: val_loss did not improve from 0.42163\n",
      "23/23 [==============================] - 105s 5s/step - loss: 0.0073 - categorical_accuracy: 1.0000 - val_loss: 0.5029 - val_categorical_accuracy: 0.8200 - lr: 1.0000e-05\n",
      "Epoch 15/20\n",
      "23/23 [==============================] - ETA: 0s - loss: 0.0079 - categorical_accuracy: 1.0000\n",
      "Epoch 00015: val_loss improved from 0.42163 to 0.37927, saving model to MODELS/model_init_2023-10-0321_13_18.931292/model-00015-0.00789-1.00000-0.37927-0.83000.h5\n",
      "23/23 [==============================] - 108s 5s/step - loss: 0.0079 - categorical_accuracy: 1.0000 - val_loss: 0.3793 - val_categorical_accuracy: 0.8300 - lr: 1.0000e-05\n",
      "Epoch 16/20\n",
      "23/23 [==============================] - ETA: 0s - loss: 0.0092 - categorical_accuracy: 0.9985\n",
      "Epoch 00016: val_loss did not improve from 0.37927\n",
      "23/23 [==============================] - 104s 5s/step - loss: 0.0092 - categorical_accuracy: 0.9985 - val_loss: 0.4815 - val_categorical_accuracy: 0.8300 - lr: 1.0000e-05\n",
      "Epoch 17/20\n",
      "23/23 [==============================] - ETA: 0s - loss: 0.0065 - categorical_accuracy: 1.0000\n",
      "Epoch 00017: val_loss did not improve from 0.37927\n",
      "\n",
      "Epoch 00017: ReduceLROnPlateau reducing learning rate to 1.0000000656873453e-06.\n",
      "23/23 [==============================] - 107s 5s/step - loss: 0.0065 - categorical_accuracy: 1.0000 - val_loss: 0.4906 - val_categorical_accuracy: 0.8200 - lr: 1.0000e-05\n",
      "Epoch 18/20\n",
      "23/23 [==============================] - ETA: 0s - loss: 0.0084 - categorical_accuracy: 1.0000\n",
      "Epoch 00018: val_loss did not improve from 0.37927\n",
      "23/23 [==============================] - 107s 5s/step - loss: 0.0084 - categorical_accuracy: 1.0000 - val_loss: 0.5124 - val_categorical_accuracy: 0.8100 - lr: 1.0000e-06\n",
      "Epoch 19/20\n",
      "23/23 [==============================] - ETA: 0s - loss: 0.0070 - categorical_accuracy: 1.0000\n",
      "Epoch 00019: val_loss did not improve from 0.37927\n",
      "\n",
      "Epoch 00019: ReduceLROnPlateau reducing learning rate to 1.0000001111620805e-07.\n",
      "23/23 [==============================] - 107s 5s/step - loss: 0.0070 - categorical_accuracy: 1.0000 - val_loss: 0.4477 - val_categorical_accuracy: 0.8500 - lr: 1.0000e-06\n",
      "Epoch 20/20\n",
      "23/23 [==============================] - ETA: 0s - loss: 0.0083 - categorical_accuracy: 1.0000\n",
      "Epoch 00020: val_loss did not improve from 0.37927\n",
      "23/23 [==============================] - 103s 5s/step - loss: 0.0083 - categorical_accuracy: 1.0000 - val_loss: 0.5678 - val_categorical_accuracy: 0.7900 - lr: 1.0000e-07\n"
     ]
    }
   ],
   "source": [
    "#fit_generator is deprecated.. using model.fit with generator objects...\n",
    "history_09 = model_09.fit(x=training_data_gen, steps_per_epoch=steps_per_epoch, epochs=num_epochs, verbose=1,\n",
    "                          callbacks=callbacks_list, validation_data=validation_data_gen,\n",
    "                          validation_steps=validation_steps)"
   ]
  },
  {
   "cell_type": "code",
   "execution_count": 105,
   "id": "93462e0f",
   "metadata": {},
   "outputs": [
    {
     "data": {
      "image/png": "[encoded data removed]",
      "text/plain": [
       "<Figure size 576x576 with 2 Axes>"
      ]
     },
     "metadata": {
      "needs_background": "light"
     },
     "output_type": "display_data"
    }
   ],
   "source": [
    "visualize_outputs(history_09, epoch=num_epochs)"
   ]
  },
  {
   "cell_type": "code",
   "execution_count": null,
   "id": "fe60f730",
   "metadata": {},
   "outputs": [],
   "source": []
  },
  {
   "cell_type": "markdown",
   "id": "b8c53e8f",
   "metadata": {},
   "source": [
    "#### Model-10 - CNN-RNN(GRU)"
   ]
  },
  {
   "cell_type": "code",
   "execution_count": 106,
   "id": "d6469d00",
   "metadata": {},
   "outputs": [],
   "source": [
    "def get_gru_model_with_transfer_learning(cnn_model, num_classes, num_images, height, width, channels):\n",
    "    model = Sequential()\n",
    "    model.add(TimeDistributed(cnn_model, input_shape=(num_images, height, width, channels)))\n",
    "\n",
    "    for each_layer in model.layers:\n",
    "        each_layer.trainable = False\n",
    "\n",
    "    model.add(TimeDistributed(BatchNormalization()))\n",
    "    model.add(TimeDistributed(MaxPooling2D((2,2))))\n",
    "    model.add(TimeDistributed(Flatten()))\n",
    "\n",
    "    model.add(keras.layers.GRU(128, recurrent_dropout=0.15))\n",
    "    model.add(Dropout(0.25))\n",
    "\n",
    "    model.add(Dense(num_classes, activation='softmax'))\n",
    "\n",
    "    return model"
   ]
  },
  {
   "cell_type": "code",
   "execution_count": 107,
   "id": "62131332",
   "metadata": {},
   "outputs": [
    {
     "name": "stdout",
     "output_type": "stream",
     "text": [
      "WARNING:tensorflow:Layer gru_1 will not use cuDNN kernels since it doesn't meet the criteria. It will use a generic GPU kernel as fallback when running on GPU.\n"
     ]
    }
   ],
   "source": [
    "model_10 = get_gru_model_with_transfer_learning(mobilenet_model, num_classes, num_images, height, width, channels)"
   ]
  },
  {
   "cell_type": "code",
   "execution_count": 108,
   "id": "a1a8c429",
   "metadata": {},
   "outputs": [
    {
     "name": "stdout",
     "output_type": "stream",
     "text": [
      "Model: \"sequential_12\"\n",
      "_________________________________________________________________\n",
      " Layer (type)                Output Shape              Param #   \n",
      "=================================================================\n",
      " time_distributed_36 (TimeDi  (None, 20, 3, 3, 1024)   3228864   \n",
      " stributed)                                                      \n",
      "                                                                 \n",
      " time_distributed_37 (TimeDi  (None, 20, 3, 3, 1024)   4096      \n",
      " stributed)                                                      \n",
      "                                                                 \n",
      " time_distributed_38 (TimeDi  (None, 20, 1, 1, 1024)   0         \n",
      " stributed)                                                      \n",
      "                                                                 \n",
      " time_distributed_39 (TimeDi  (None, 20, 1024)         0         \n",
      " stributed)                                                      \n",
      "                                                                 \n",
      " gru_1 (GRU)                 (None, 128)               443136    \n",
      "                                                                 \n",
      " dropout_14 (Dropout)        (None, 128)               0         \n",
      "                                                                 \n",
      " dense_37 (Dense)            (None, 5)                 645       \n",
      "                                                                 \n",
      "=================================================================\n",
      "Total params: 3,676,741\n",
      "Trainable params: 445,829\n",
      "Non-trainable params: 3,230,912\n",
      "_________________________________________________________________\n"
     ]
    }
   ],
   "source": [
    "optimizer = optimizers.adam_v2.Adam()\n",
    "#optimizer = optimizers.Adam()\n",
    "model_10.compile(optimizer, loss='categorical_crossentropy', metrics=['categorical_accuracy'])\n",
    "model_10.summary()"
   ]
  },
  {
   "cell_type": "code",
   "execution_count": 109,
   "id": "c881fd11",
   "metadata": {},
   "outputs": [],
   "source": [
    "training_data_gen = cnn_generator(TRAIN_DIR, train_doc, batch_size, num_images, img_idx, height, width, channels=3)\n",
    "validation_data_gen = cnn_generator(VAL_DIR, val_doc, batch_size, num_images, img_idx, height, width, channels=3)"
   ]
  },
  {
   "cell_type": "code",
   "execution_count": null,
   "id": "786e7b4b",
   "metadata": {},
   "outputs": [],
   "source": []
  },
  {
   "cell_type": "code",
   "execution_count": 110,
   "id": "faf851c8",
   "metadata": {},
   "outputs": [
    {
     "name": "stdout",
     "output_type": "stream",
     "text": [
      "Epoch 1/20\n",
      "23/23 [==============================] - ETA: 0s - loss: 1.2911 - categorical_accuracy: 0.4992\n",
      "Epoch 00001: val_loss did not improve from 0.37927\n",
      "23/23 [==============================] - 110s 5s/step - loss: 1.2911 - categorical_accuracy: 0.4992 - val_loss: 0.8128 - val_categorical_accuracy: 0.6800 - lr: 0.0010\n",
      "Epoch 2/20\n",
      "23/23 [==============================] - ETA: 0s - loss: 0.3621 - categorical_accuracy: 0.8959\n",
      "Epoch 00002: val_loss did not improve from 0.37927\n",
      "23/23 [==============================] - 107s 5s/step - loss: 0.3621 - categorical_accuracy: 0.8959 - val_loss: 0.7457 - val_categorical_accuracy: 0.6900 - lr: 0.0010\n",
      "Epoch 3/20\n",
      "23/23 [==============================] - ETA: 0s - loss: 0.1739 - categorical_accuracy: 0.9623\n",
      "Epoch 00003: val_loss did not improve from 0.37927\n",
      "23/23 [==============================] - 107s 5s/step - loss: 0.1739 - categorical_accuracy: 0.9623 - val_loss: 0.5778 - val_categorical_accuracy: 0.8000 - lr: 0.0010\n",
      "Epoch 4/20\n",
      "23/23 [==============================] - ETA: 0s - loss: 0.0900 - categorical_accuracy: 0.9925\n",
      "Epoch 00004: val_loss did not improve from 0.37927\n",
      "23/23 [==============================] - 104s 5s/step - loss: 0.0900 - categorical_accuracy: 0.9925 - val_loss: 0.5386 - val_categorical_accuracy: 0.8000 - lr: 0.0010\n",
      "Epoch 5/20\n",
      "23/23 [==============================] - ETA: 0s - loss: 0.0615 - categorical_accuracy: 0.9955\n",
      "Epoch 00005: val_loss did not improve from 0.37927\n",
      "23/23 [==============================] - 108s 5s/step - loss: 0.0615 - categorical_accuracy: 0.9955 - val_loss: 0.5147 - val_categorical_accuracy: 0.8100 - lr: 0.0010\n",
      "Epoch 6/20\n",
      "23/23 [==============================] - ETA: 0s - loss: 0.0475 - categorical_accuracy: 0.9985\n",
      "Epoch 00006: val_loss did not improve from 0.37927\n",
      "23/23 [==============================] - 106s 5s/step - loss: 0.0475 - categorical_accuracy: 0.9985 - val_loss: 0.6777 - val_categorical_accuracy: 0.7500 - lr: 0.0010\n",
      "Epoch 7/20\n",
      "23/23 [==============================] - ETA: 0s - loss: 0.0349 - categorical_accuracy: 1.0000\n",
      "Epoch 00007: val_loss did not improve from 0.37927\n",
      "\n",
      "Epoch 00007: ReduceLROnPlateau reducing learning rate to 0.00010000000474974513.\n",
      "23/23 [==============================] - 107s 5s/step - loss: 0.0349 - categorical_accuracy: 1.0000 - val_loss: 0.5444 - val_categorical_accuracy: 0.7700 - lr: 0.0010\n",
      "Epoch 8/20\n",
      "23/23 [==============================] - ETA: 0s - loss: 0.0274 - categorical_accuracy: 1.0000\n",
      "Epoch 00008: val_loss did not improve from 0.37927\n",
      "23/23 [==============================] - 104s 5s/step - loss: 0.0274 - categorical_accuracy: 1.0000 - val_loss: 0.5863 - val_categorical_accuracy: 0.7600 - lr: 1.0000e-04\n",
      "Epoch 9/20\n",
      "23/23 [==============================] - ETA: 0s - loss: 0.0257 - categorical_accuracy: 1.0000\n",
      "Epoch 00009: val_loss did not improve from 0.37927\n",
      "\n",
      "Epoch 00009: ReduceLROnPlateau reducing learning rate to 1.0000000474974514e-05.\n",
      "23/23 [==============================] - 105s 5s/step - loss: 0.0257 - categorical_accuracy: 1.0000 - val_loss: 0.5643 - val_categorical_accuracy: 0.7800 - lr: 1.0000e-04\n",
      "Epoch 10/20\n",
      "23/23 [==============================] - ETA: 0s - loss: 0.0223 - categorical_accuracy: 1.0000\n",
      "Epoch 00010: val_loss did not improve from 0.37927\n",
      "23/23 [==============================] - 103s 5s/step - loss: 0.0223 - categorical_accuracy: 1.0000 - val_loss: 0.6286 - val_categorical_accuracy: 0.7700 - lr: 1.0000e-05\n",
      "Epoch 11/20\n",
      "23/23 [==============================] - ETA: 0s - loss: 0.0227 - categorical_accuracy: 1.0000\n",
      "Epoch 00011: val_loss did not improve from 0.37927\n",
      "23/23 [==============================] - 104s 5s/step - loss: 0.0227 - categorical_accuracy: 1.0000 - val_loss: 0.4885 - val_categorical_accuracy: 0.7900 - lr: 1.0000e-05\n",
      "Epoch 12/20\n",
      "23/23 [==============================] - ETA: 0s - loss: 0.0222 - categorical_accuracy: 1.0000\n",
      "Epoch 00012: val_loss did not improve from 0.37927\n",
      "23/23 [==============================] - 101s 5s/step - loss: 0.0222 - categorical_accuracy: 1.0000 - val_loss: 0.6268 - val_categorical_accuracy: 0.7600 - lr: 1.0000e-05\n",
      "Epoch 13/20\n",
      "23/23 [==============================] - ETA: 0s - loss: 0.0274 - categorical_accuracy: 0.9970\n",
      "Epoch 00013: val_loss did not improve from 0.37927\n",
      "\n",
      "Epoch 00013: ReduceLROnPlateau reducing learning rate to 1.0000000656873453e-06.\n",
      "23/23 [==============================] - 104s 5s/step - loss: 0.0274 - categorical_accuracy: 0.9970 - val_loss: 0.5524 - val_categorical_accuracy: 0.7800 - lr: 1.0000e-05\n",
      "Epoch 14/20\n",
      "23/23 [==============================] - ETA: 0s - loss: 0.0229 - categorical_accuracy: 1.0000\n",
      "Epoch 00014: val_loss did not improve from 0.37927\n",
      "23/23 [==============================] - 104s 5s/step - loss: 0.0229 - categorical_accuracy: 1.0000 - val_loss: 0.6066 - val_categorical_accuracy: 0.7500 - lr: 1.0000e-06\n",
      "Epoch 15/20\n",
      "23/23 [==============================] - ETA: 0s - loss: 0.0222 - categorical_accuracy: 1.0000\n",
      "Epoch 00015: val_loss did not improve from 0.37927\n",
      "\n",
      "Epoch 00015: ReduceLROnPlateau reducing learning rate to 1.0000001111620805e-07.\n",
      "23/23 [==============================] - 104s 5s/step - loss: 0.0222 - categorical_accuracy: 1.0000 - val_loss: 0.4890 - val_categorical_accuracy: 0.8200 - lr: 1.0000e-06\n",
      "Epoch 16/20\n",
      "23/23 [==============================] - ETA: 0s - loss: 0.0235 - categorical_accuracy: 1.0000\n",
      "Epoch 00016: val_loss did not improve from 0.37927\n",
      "23/23 [==============================] - 100s 5s/step - loss: 0.0235 - categorical_accuracy: 1.0000 - val_loss: 0.6012 - val_categorical_accuracy: 0.7700 - lr: 1.0000e-07\n",
      "Epoch 17/20\n",
      "23/23 [==============================] - ETA: 0s - loss: 0.0239 - categorical_accuracy: 0.9985\n",
      "Epoch 00017: val_loss did not improve from 0.37927\n",
      "\n",
      "Epoch 00017: ReduceLROnPlateau reducing learning rate to 1.000000082740371e-08.\n",
      "23/23 [==============================] - 104s 5s/step - loss: 0.0239 - categorical_accuracy: 0.9985 - val_loss: 0.5475 - val_categorical_accuracy: 0.7900 - lr: 1.0000e-07\n",
      "Epoch 18/20\n",
      "23/23 [==============================] - ETA: 0s - loss: 0.0252 - categorical_accuracy: 0.9985\n",
      "Epoch 00018: val_loss did not improve from 0.37927\n",
      "23/23 [==============================] - 104s 5s/step - loss: 0.0252 - categorical_accuracy: 0.9985 - val_loss: 0.5730 - val_categorical_accuracy: 0.7800 - lr: 1.0000e-08\n",
      "Epoch 19/20\n",
      "23/23 [==============================] - ETA: 0s - loss: 0.0230 - categorical_accuracy: 1.0000\n",
      "Epoch 00019: val_loss did not improve from 0.37927\n",
      "\n",
      "Epoch 00019: ReduceLROnPlateau reducing learning rate to 1.000000082740371e-09.\n",
      "23/23 [==============================] - 105s 5s/step - loss: 0.0230 - categorical_accuracy: 1.0000 - val_loss: 0.6160 - val_categorical_accuracy: 0.7800 - lr: 1.0000e-08\n",
      "Epoch 20/20\n",
      "23/23 [==============================] - ETA: 0s - loss: 0.0235 - categorical_accuracy: 1.0000\n",
      "Epoch 00020: val_loss did not improve from 0.37927\n",
      "23/23 [==============================] - 101s 5s/step - loss: 0.0235 - categorical_accuracy: 1.0000 - val_loss: 0.5915 - val_categorical_accuracy: 0.7900 - lr: 1.0000e-09\n"
     ]
    }
   ],
   "source": [
    "#fit_generator is deprecated.. using model.fit with generator objects...\n",
    "history_10 = model_10.fit(x=training_data_gen, steps_per_epoch=steps_per_epoch, epochs=num_epochs, verbose=1,\n",
    "                          callbacks=callbacks_list, validation_data=validation_data_gen,\n",
    "                          validation_steps=validation_steps)"
   ]
  },
  {
   "cell_type": "code",
   "execution_count": 111,
   "id": "27ef2f2b",
   "metadata": {},
   "outputs": [
    {
     "data": {
      "image/png": "[encoded data removed]",
      "text/plain": [
       "<Figure size 576x576 with 2 Axes>"
      ]
     },
     "metadata": {
      "needs_background": "light"
     },
     "output_type": "display_data"
    }
   ],
   "source": [
    "visualize_outputs(history_10, epoch=num_epochs)"
   ]
  },
  {
   "cell_type": "code",
   "execution_count": null,
   "id": "1bfa3a86",
   "metadata": {},
   "outputs": [],
   "source": []
  },
  {
   "cell_type": "code",
   "execution_count": null,
   "id": "4a212ba1",
   "metadata": {},
   "outputs": [],
   "source": []
  }
 ],
 "metadata": {
  "kernelspec": {
   "display_name": "Python 3 (ipykernel)",
   "language": "python",
   "name": "python3"
  },
  "language_info": {
   "codemirror_mode": {
    "name": "ipython",
    "version": 3
   },
   "file_extension": ".py",
   "mimetype": "text/x-python",
   "name": "python",
   "nbconvert_exporter": "python",
   "pygments_lexer": "ipython3",
   "version": "3.8.10"
  }
 },
 "nbformat": 4,
 "nbformat_minor": 5
}
